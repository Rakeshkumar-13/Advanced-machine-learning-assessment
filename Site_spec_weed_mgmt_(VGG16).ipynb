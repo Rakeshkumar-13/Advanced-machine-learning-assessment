{
  "cells": [
    {
      "cell_type": "markdown",
      "metadata": {
        "id": "view-in-github",
        "colab_type": "text"
      },
      "source": [
        "<a href=\"https://colab.research.google.com/github/rakezhjab/Advanced-machine-learning-assessment/blob/main/Site_spec_weed_mgmt_(VGG16).ipynb\" target=\"_parent\"><img src=\"https://colab.research.google.com/assets/colab-badge.svg\" alt=\"Open In Colab\"/></a>"
      ]
    },
    {
      "cell_type": "markdown",
      "id": "45056334",
      "metadata": {
        "id": "45056334"
      },
      "source": [
        "**Importing the libraries**"
      ]
    },
    {
      "cell_type": "code",
      "source": [
        "from google.colab import drive\n",
        "drive.mount('/content/drive')"
      ],
      "metadata": {
        "colab": {
          "base_uri": "https://localhost:8080/"
        },
        "id": "iSEE6rZgMkAU",
        "outputId": "3f77aa60-7298-4116-f69e-32d3f742936e"
      },
      "id": "iSEE6rZgMkAU",
      "execution_count": null,
      "outputs": [
        {
          "output_type": "stream",
          "name": "stdout",
          "text": [
            "Mounted at /content/drive\n"
          ]
        }
      ]
    },
    {
      "cell_type": "code",
      "execution_count": null,
      "id": "540194e2",
      "metadata": {
        "colab": {
          "base_uri": "https://localhost:8080/"
        },
        "id": "540194e2",
        "outputId": "7ad4c557-75ef-4918-8ec1-6faa6cd1248a"
      },
      "outputs": [
        {
          "output_type": "stream",
          "name": "stdout",
          "text": [
            "Looking in indexes: https://pypi.org/simple, https://us-python.pkg.dev/colab-wheels/public/simple/\n",
            "Collecting visualkeras\n",
            "  Downloading visualkeras-0.0.2-py3-none-any.whl (12 kB)\n",
            "Requirement already satisfied: pillow>=6.2.0 in /usr/local/lib/python3.7/dist-packages (from visualkeras) (7.1.2)\n",
            "Requirement already satisfied: numpy>=1.18.1 in /usr/local/lib/python3.7/dist-packages (from visualkeras) (1.21.6)\n",
            "Collecting aggdraw>=1.3.11\n",
            "  Downloading aggdraw-1.3.15-cp37-cp37m-manylinux_2_17_x86_64.manylinux2014_x86_64.whl (989 kB)\n",
            "\u001b[K     |████████████████████████████████| 989 kB 34.5 MB/s \n",
            "\u001b[?25hInstalling collected packages: aggdraw, visualkeras\n",
            "Successfully installed aggdraw-1.3.15 visualkeras-0.0.2\n"
          ]
        }
      ],
      "source": [
        "pip install visualkeras"
      ]
    },
    {
      "cell_type": "code",
      "execution_count": null,
      "id": "c6b139e6",
      "metadata": {
        "id": "c6b139e6",
        "outputId": "4b2a4841-4e0c-4db0-f44a-274c6efc7fdd",
        "colab": {
          "base_uri": "https://localhost:8080/"
        }
      },
      "outputs": [
        {
          "output_type": "stream",
          "name": "stdout",
          "text": [
            "Looking in indexes: https://pypi.org/simple, https://us-python.pkg.dev/colab-wheels/public/simple/\n",
            "Requirement already satisfied: keras in /usr/local/lib/python3.7/dist-packages (2.8.0)\n"
          ]
        }
      ],
      "source": [
        "pip install keras"
      ]
    },
    {
      "cell_type": "code",
      "execution_count": null,
      "id": "65260dbc",
      "metadata": {
        "id": "65260dbc",
        "outputId": "e1a5d33f-d473-4148-ddea-bf5cd0e1f1a4",
        "colab": {
          "base_uri": "https://localhost:8080/"
        }
      },
      "outputs": [
        {
          "output_type": "stream",
          "name": "stdout",
          "text": [
            "Looking in indexes: https://pypi.org/simple, https://us-python.pkg.dev/colab-wheels/public/simple/\n",
            "Requirement already satisfied: tensorflow in /usr/local/lib/python3.7/dist-packages (2.8.2+zzzcolab20220719082949)\n",
            "Requirement already satisfied: google-pasta>=0.1.1 in /usr/local/lib/python3.7/dist-packages (from tensorflow) (0.2.0)\n",
            "Requirement already satisfied: tensorboard<2.9,>=2.8 in /usr/local/lib/python3.7/dist-packages (from tensorflow) (2.8.0)\n",
            "Requirement already satisfied: numpy>=1.20 in /usr/local/lib/python3.7/dist-packages (from tensorflow) (1.21.6)\n",
            "Requirement already satisfied: keras-preprocessing>=1.1.1 in /usr/local/lib/python3.7/dist-packages (from tensorflow) (1.1.2)\n",
            "Requirement already satisfied: astunparse>=1.6.0 in /usr/local/lib/python3.7/dist-packages (from tensorflow) (1.6.3)\n",
            "Requirement already satisfied: protobuf<3.20,>=3.9.2 in /usr/local/lib/python3.7/dist-packages (from tensorflow) (3.17.3)\n",
            "Requirement already satisfied: termcolor>=1.1.0 in /usr/local/lib/python3.7/dist-packages (from tensorflow) (1.1.0)\n",
            "Requirement already satisfied: tensorflow-io-gcs-filesystem>=0.23.1 in /usr/local/lib/python3.7/dist-packages (from tensorflow) (0.26.0)\n",
            "Requirement already satisfied: setuptools in /usr/local/lib/python3.7/dist-packages (from tensorflow) (57.4.0)\n",
            "Requirement already satisfied: six>=1.12.0 in /usr/local/lib/python3.7/dist-packages (from tensorflow) (1.15.0)\n",
            "Requirement already satisfied: wrapt>=1.11.0 in /usr/local/lib/python3.7/dist-packages (from tensorflow) (1.14.1)\n",
            "Requirement already satisfied: grpcio<2.0,>=1.24.3 in /usr/local/lib/python3.7/dist-packages (from tensorflow) (1.47.0)\n",
            "Requirement already satisfied: typing-extensions>=3.6.6 in /usr/local/lib/python3.7/dist-packages (from tensorflow) (4.1.1)\n",
            "Requirement already satisfied: libclang>=9.0.1 in /usr/local/lib/python3.7/dist-packages (from tensorflow) (14.0.6)\n",
            "Requirement already satisfied: opt-einsum>=2.3.2 in /usr/local/lib/python3.7/dist-packages (from tensorflow) (3.3.0)\n",
            "Requirement already satisfied: h5py>=2.9.0 in /usr/local/lib/python3.7/dist-packages (from tensorflow) (3.1.0)\n",
            "Requirement already satisfied: tensorflow-estimator<2.9,>=2.8 in /usr/local/lib/python3.7/dist-packages (from tensorflow) (2.8.0)\n",
            "Requirement already satisfied: keras<2.9,>=2.8.0rc0 in /usr/local/lib/python3.7/dist-packages (from tensorflow) (2.8.0)\n",
            "Requirement already satisfied: absl-py>=0.4.0 in /usr/local/lib/python3.7/dist-packages (from tensorflow) (1.2.0)\n",
            "Requirement already satisfied: flatbuffers>=1.12 in /usr/local/lib/python3.7/dist-packages (from tensorflow) (2.0)\n",
            "Requirement already satisfied: gast>=0.2.1 in /usr/local/lib/python3.7/dist-packages (from tensorflow) (0.5.3)\n",
            "Requirement already satisfied: wheel<1.0,>=0.23.0 in /usr/local/lib/python3.7/dist-packages (from astunparse>=1.6.0->tensorflow) (0.37.1)\n",
            "Requirement already satisfied: cached-property in /usr/local/lib/python3.7/dist-packages (from h5py>=2.9.0->tensorflow) (1.5.2)\n",
            "Requirement already satisfied: google-auth-oauthlib<0.5,>=0.4.1 in /usr/local/lib/python3.7/dist-packages (from tensorboard<2.9,>=2.8->tensorflow) (0.4.6)\n",
            "Requirement already satisfied: markdown>=2.6.8 in /usr/local/lib/python3.7/dist-packages (from tensorboard<2.9,>=2.8->tensorflow) (3.4.1)\n",
            "Requirement already satisfied: google-auth<3,>=1.6.3 in /usr/local/lib/python3.7/dist-packages (from tensorboard<2.9,>=2.8->tensorflow) (1.35.0)\n",
            "Requirement already satisfied: tensorboard-plugin-wit>=1.6.0 in /usr/local/lib/python3.7/dist-packages (from tensorboard<2.9,>=2.8->tensorflow) (1.8.1)\n",
            "Requirement already satisfied: werkzeug>=0.11.15 in /usr/local/lib/python3.7/dist-packages (from tensorboard<2.9,>=2.8->tensorflow) (1.0.1)\n",
            "Requirement already satisfied: requests<3,>=2.21.0 in /usr/local/lib/python3.7/dist-packages (from tensorboard<2.9,>=2.8->tensorflow) (2.23.0)\n",
            "Requirement already satisfied: tensorboard-data-server<0.7.0,>=0.6.0 in /usr/local/lib/python3.7/dist-packages (from tensorboard<2.9,>=2.8->tensorflow) (0.6.1)\n",
            "Requirement already satisfied: rsa<5,>=3.1.4 in /usr/local/lib/python3.7/dist-packages (from google-auth<3,>=1.6.3->tensorboard<2.9,>=2.8->tensorflow) (4.9)\n",
            "Requirement already satisfied: cachetools<5.0,>=2.0.0 in /usr/local/lib/python3.7/dist-packages (from google-auth<3,>=1.6.3->tensorboard<2.9,>=2.8->tensorflow) (4.2.4)\n",
            "Requirement already satisfied: pyasn1-modules>=0.2.1 in /usr/local/lib/python3.7/dist-packages (from google-auth<3,>=1.6.3->tensorboard<2.9,>=2.8->tensorflow) (0.2.8)\n",
            "Requirement already satisfied: requests-oauthlib>=0.7.0 in /usr/local/lib/python3.7/dist-packages (from google-auth-oauthlib<0.5,>=0.4.1->tensorboard<2.9,>=2.8->tensorflow) (1.3.1)\n",
            "Requirement already satisfied: importlib-metadata>=4.4 in /usr/local/lib/python3.7/dist-packages (from markdown>=2.6.8->tensorboard<2.9,>=2.8->tensorflow) (4.12.0)\n",
            "Requirement already satisfied: zipp>=0.5 in /usr/local/lib/python3.7/dist-packages (from importlib-metadata>=4.4->markdown>=2.6.8->tensorboard<2.9,>=2.8->tensorflow) (3.8.1)\n",
            "Requirement already satisfied: pyasn1<0.5.0,>=0.4.6 in /usr/local/lib/python3.7/dist-packages (from pyasn1-modules>=0.2.1->google-auth<3,>=1.6.3->tensorboard<2.9,>=2.8->tensorflow) (0.4.8)\n",
            "Requirement already satisfied: idna<3,>=2.5 in /usr/local/lib/python3.7/dist-packages (from requests<3,>=2.21.0->tensorboard<2.9,>=2.8->tensorflow) (2.10)\n",
            "Requirement already satisfied: urllib3!=1.25.0,!=1.25.1,<1.26,>=1.21.1 in /usr/local/lib/python3.7/dist-packages (from requests<3,>=2.21.0->tensorboard<2.9,>=2.8->tensorflow) (1.24.3)\n",
            "Requirement already satisfied: certifi>=2017.4.17 in /usr/local/lib/python3.7/dist-packages (from requests<3,>=2.21.0->tensorboard<2.9,>=2.8->tensorflow) (2022.6.15)\n",
            "Requirement already satisfied: chardet<4,>=3.0.2 in /usr/local/lib/python3.7/dist-packages (from requests<3,>=2.21.0->tensorboard<2.9,>=2.8->tensorflow) (3.0.4)\n",
            "Requirement already satisfied: oauthlib>=3.0.0 in /usr/local/lib/python3.7/dist-packages (from requests-oauthlib>=0.7.0->google-auth-oauthlib<0.5,>=0.4.1->tensorboard<2.9,>=2.8->tensorflow) (3.2.0)\n"
          ]
        }
      ],
      "source": [
        "pip install tensorflow"
      ]
    },
    {
      "cell_type": "code",
      "execution_count": null,
      "id": "8352123b",
      "metadata": {
        "id": "8352123b",
        "outputId": "6c683598-9964-42d1-e2bb-0cf4c222f821",
        "colab": {
          "base_uri": "https://localhost:8080/"
        }
      },
      "outputs": [
        {
          "output_type": "stream",
          "name": "stdout",
          "text": [
            "Looking in indexes: https://pypi.org/simple, https://us-python.pkg.dev/colab-wheels/public/simple/\n",
            "Requirement already satisfied: opencv-python in /usr/local/lib/python3.7/dist-packages (4.6.0.66)\n",
            "Requirement already satisfied: numpy>=1.14.5 in /usr/local/lib/python3.7/dist-packages (from opencv-python) (1.21.6)\n"
          ]
        }
      ],
      "source": [
        "pip install opencv-python"
      ]
    },
    {
      "cell_type": "code",
      "execution_count": null,
      "id": "52dd88e8",
      "metadata": {
        "id": "52dd88e8",
        "outputId": "6f46911f-6c16-406c-d1ed-daea5fa45a90",
        "colab": {
          "base_uri": "https://localhost:8080/"
        }
      },
      "outputs": [
        {
          "output_type": "stream",
          "name": "stdout",
          "text": [
            "Looking in indexes: https://pypi.org/simple, https://us-python.pkg.dev/colab-wheels/public/simple/\n",
            "Requirement already satisfied: imgaug in /usr/local/lib/python3.7/dist-packages (0.4.0)\n",
            "Requirement already satisfied: scipy in /usr/local/lib/python3.7/dist-packages (from imgaug) (1.7.3)\n",
            "Requirement already satisfied: numpy>=1.15 in /usr/local/lib/python3.7/dist-packages (from imgaug) (1.21.6)\n",
            "Requirement already satisfied: Pillow in /usr/local/lib/python3.7/dist-packages (from imgaug) (7.1.2)\n",
            "Requirement already satisfied: opencv-python in /usr/local/lib/python3.7/dist-packages (from imgaug) (4.6.0.66)\n",
            "Requirement already satisfied: matplotlib in /usr/local/lib/python3.7/dist-packages (from imgaug) (3.2.2)\n",
            "Requirement already satisfied: scikit-image>=0.14.2 in /usr/local/lib/python3.7/dist-packages (from imgaug) (0.18.3)\n",
            "Requirement already satisfied: imageio in /usr/local/lib/python3.7/dist-packages (from imgaug) (2.9.0)\n",
            "Requirement already satisfied: Shapely in /usr/local/lib/python3.7/dist-packages (from imgaug) (1.8.2)\n",
            "Requirement already satisfied: six in /usr/local/lib/python3.7/dist-packages (from imgaug) (1.15.0)\n",
            "Requirement already satisfied: networkx>=2.0 in /usr/local/lib/python3.7/dist-packages (from scikit-image>=0.14.2->imgaug) (2.6.3)\n",
            "Requirement already satisfied: tifffile>=2019.7.26 in /usr/local/lib/python3.7/dist-packages (from scikit-image>=0.14.2->imgaug) (2021.11.2)\n",
            "Requirement already satisfied: PyWavelets>=1.1.1 in /usr/local/lib/python3.7/dist-packages (from scikit-image>=0.14.2->imgaug) (1.3.0)\n",
            "Requirement already satisfied: python-dateutil>=2.1 in /usr/local/lib/python3.7/dist-packages (from matplotlib->imgaug) (2.8.2)\n",
            "Requirement already satisfied: cycler>=0.10 in /usr/local/lib/python3.7/dist-packages (from matplotlib->imgaug) (0.11.0)\n",
            "Requirement already satisfied: kiwisolver>=1.0.1 in /usr/local/lib/python3.7/dist-packages (from matplotlib->imgaug) (1.4.4)\n",
            "Requirement already satisfied: pyparsing!=2.0.4,!=2.1.2,!=2.1.6,>=2.0.1 in /usr/local/lib/python3.7/dist-packages (from matplotlib->imgaug) (3.0.9)\n",
            "Requirement already satisfied: typing-extensions in /usr/local/lib/python3.7/dist-packages (from kiwisolver>=1.0.1->matplotlib->imgaug) (4.1.1)\n"
          ]
        }
      ],
      "source": [
        "pip install imgaug"
      ]
    },
    {
      "cell_type": "code",
      "execution_count": null,
      "id": "fea8f8bc",
      "metadata": {
        "id": "fea8f8bc"
      },
      "outputs": [],
      "source": [
        "import datetime as dt\n",
        "import matplotlib.pyplot as plt\n",
        "import matplotlib.image as img\n",
        "import numpy as np\n",
        "import os\n",
        "import pandas as pd\n",
        "import seaborn as sns\n",
        "from tensorflow.keras.applications import InceptionV3\n",
        "from tensorflow.keras.applications import VGG16\n",
        "from tensorflow.keras.applications import ResNet50\n",
        "from tensorflow.keras.applications import resnet50\n",
        "from tensorflow.keras.applications import vgg16\n",
        "from tensorflow.keras.applications import inception_v3\n",
        "from keras.preprocessing import image\n",
        "from tensorflow.keras.preprocessing.image import ImageDataGenerator\n",
        "from tensorflow.keras.layers import Dense, Dropout, BatchNormalization, ReLU\n",
        "from tensorflow.keras.activations import swish\n",
        "from tensorflow.keras.models import Model\n",
        "from tensorflow.keras.optimizers import Adam\n",
        "from tensorflow.keras.callbacks import ModelCheckpoint, ReduceLROnPlateau, EarlyStopping\n",
        "from mpl_toolkits.axes_grid1 import ImageGrid\n",
        "from sklearn.metrics import accuracy_score, confusion_matrix\n",
        "from tqdm import tqdm\n",
        "from sklearn.model_selection import train_test_split\n",
        "import random\n",
        "import imgaug as ia\n",
        "import imgaug.augmenters as iaa\n",
        "from keras.utils import layer_utils\n",
        "from tensorflow.keras.utils import to_categorical\n",
        "from statistics import mean\n",
        "import math\n",
        "import cv2\n",
        "from tensorflow import keras\n",
        "from sklearn.metrics import accuracy_score\n",
        "from sklearn.metrics import classification_report"
      ]
    },
    {
      "cell_type": "markdown",
      "id": "b884c3d7",
      "metadata": {
        "id": "b884c3d7"
      },
      "source": [
        "**Resizing the image and Loading the dataset**"
      ]
    },
    {
      "cell_type": "code",
      "execution_count": null,
      "id": "af0ffb4a",
      "metadata": {
        "id": "af0ffb4a"
      },
      "outputs": [],
      "source": [
        "# re-size all the images\n",
        "IMAGE_SIZE = [224, 224]\n",
        "#loading the data\n",
        "train_dir = r\"/content/drive/MyDrive/data_task1/train\"\n",
        "test_dir = r\"/content/drive/MyDrive/data_task1/test\"\n",
        "val_dir = r\"/content/drive/MyDrive/data_task1/val\""
      ]
    },
    {
      "cell_type": "markdown",
      "id": "7230bab4",
      "metadata": {
        "id": "7230bab4"
      },
      "source": [
        "**Visualisation of dataset**"
      ]
    },
    {
      "cell_type": "code",
      "execution_count": null,
      "id": "a304ab82",
      "metadata": {
        "id": "a304ab82",
        "outputId": "6a628656-bcb2-4a4d-f25b-b76e8c24d459",
        "colab": {
          "base_uri": "https://localhost:8080/"
        }
      },
      "outputs": [
        {
          "output_type": "execute_result",
          "data": {
            "text/plain": [
              "['blackgrass', 'charlock', 'cleavers', 'fat hen', 'maize', 'wheat']"
            ]
          },
          "metadata": {},
          "execution_count": 9
        }
      ],
      "source": [
        "datasets = [r\"/content/drive/MyDrive/data_task1/train\"]\n",
        "\n",
        "Classes = [\"blackgrass\",\"charlock\",\"cleavers\",\"fat hen\",\"maize\",\"wheat\"]\n",
        "\n",
        "n_classes = len(Classes)\n",
        "\n",
        "Classes"
      ]
    },
    {
      "cell_type": "markdown",
      "id": "6144bd05",
      "metadata": {
        "id": "6144bd05"
      },
      "source": [
        "**Augmentation process**"
      ]
    },
    {
      "cell_type": "code",
      "execution_count": null,
      "id": "bd72a742",
      "metadata": {
        "id": "bd72a742"
      },
      "outputs": [],
      "source": [
        "def augmentation_classes(Classes,train_dir):\n",
        "    size_dict={}\n",
        "    for i,classes in enumerate(Classes):\n",
        "         size_dict[Classes[i]]=len(os.listdir(os.path.join(train_dir, classes)))\n",
        "    print('Sample sizes of different classes are\\n\\n',size_dict)\n",
        "    values_list=list(size_dict.values())\n",
        "    ideal_samples=math.ceil(mean(values_list)*1.1)\n",
        "    required_aug=[]\n",
        "    for i,j in enumerate(size_dict):\n",
        "        if size_dict[j]<ideal_samples:\n",
        "            required_aug.append(j)\n",
        "    print('\\n\\nMinority classes requiring augmentations are\\n',required_aug)\n",
        "    return required_aug,ideal_samples,size_dict"
      ]
    },
    {
      "cell_type": "code",
      "execution_count": null,
      "id": "cebdbe60",
      "metadata": {
        "id": "cebdbe60"
      },
      "outputs": [],
      "source": [
        "def image_augmentation(raw_images):\n",
        "    \n",
        "    \n",
        "    seq=iaa.Sequential([iaa.Fliplr(0.5),\n",
        "                        iaa.Flipud(0.3),\n",
        "                        iaa.LinearContrast((0.75, 1.5)),\n",
        "                        iaa.Crop(percent=(0, 0.2)),\n",
        "                        iaa.Affine(rotate=(-45, 45)),\n",
        "                        iaa.GaussianBlur(sigma=(0.0, 3.0))\n",
        "                        ])\n",
        "    image_aug=seq(images=raw_images)\n",
        "    return image_aug"
      ]
    },
    {
      "cell_type": "code",
      "execution_count": null,
      "id": "0aaa04f6",
      "metadata": {
        "id": "0aaa04f6"
      },
      "outputs": [],
      "source": [
        "def preprocessing(img_path):\n",
        "    image = cv2.resize(cv2.imread(img_path), (224,224), interpolation = cv2.INTER_NEAREST)\n",
        "    return image"
      ]
    },
    {
      "cell_type": "code",
      "execution_count": null,
      "id": "60cccd0a",
      "metadata": {
        "id": "60cccd0a"
      },
      "outputs": [],
      "source": [
        "def get_training_data( model):\n",
        "        \n",
        "    if model == \"resnet50\":\n",
        "        datagen = ImageDataGenerator(preprocessing_function = resnet50.preprocess_input, validation_split=0.15)\n",
        "    elif model == \"inceptionV3\":\n",
        "        datagen = ImageDataGenerator(preprocessing_function = inception_v3.preprocess_input, validation_split=0.15)\n",
        "    elif model == 'vgg16':\n",
        "        datagen = ImageDataGenerator(preprocessing_function = vgg16.preprocess_input, validation_split=0.15)\n",
        "\n",
        "    train_data_den = datagen.flow_from_directory(\n",
        "            directory= os.path.join(save_dir),\n",
        "            class_mode = \"categorical\",\n",
        "            batch_size=32,\n",
        "            shuffle=True,\n",
        "            subset='training'\n",
        "        )\n",
        "        \n",
        "    val_data_gen = datagen.flow_from_directory(\n",
        "            directory= os.path.join(save_dir),\n",
        "            class_mode = 'categorical',\n",
        "            batch_size=32,\n",
        "            shuffle=False,\n",
        "            subset='validation'\n",
        "        )\n",
        "\n",
        "    return train_data_den, val_data_gen"
      ]
    },
    {
      "cell_type": "code",
      "execution_count": null,
      "id": "4c100d16",
      "metadata": {
        "id": "4c100d16"
      },
      "outputs": [],
      "source": [
        "def augment_and_store_data(Classes,train_dir,save_dir,required_aug,ideal_samples,size_dict):\n",
        "    for i,sample_class in enumerate(Classes):\n",
        "        try:\n",
        "            os.mkdir(os.path.join(save_dir,sample_class))\n",
        "        except FileExistsError:\n",
        "            pass\n",
        "        img_list=[]\n",
        "        for img_loc in os.listdir(os.path.join(train_dir,sample_class)):\n",
        "            image = preprocessing(os.path.join(train_dir, sample_class, img_loc))\n",
        "            img_list.append(image)\n",
        "        if sample_class in required_aug:\n",
        "            aug_img= image_augmentation(img_list)\n",
        "            req_img=random.sample(aug_img,(ideal_samples-size_dict[sample_class]))\n",
        "            img_list.extend(req_img)\n",
        "        for image_number, image in enumerate(img_list):\n",
        "            cv2.imwrite(os.path.join(save_dir, sample_class, \"{}.png\".format(image_number + 1)), image)"
      ]
    },
    {
      "cell_type": "code",
      "execution_count": null,
      "id": "09be6ad8",
      "metadata": {
        "id": "09be6ad8"
      },
      "outputs": [],
      "source": [
        "def model_prep(model_arch,monitor,lr_patience,early_stop_patience,min_lr):\n",
        "    checkpoint = ModelCheckpoint(filepath=os.path.join(r'/content/drive/MyDrive/task1 file',model_arch,'.h5'), monitor='val_acc', mode='max', save_best_only=True)\n",
        "    #reduce_lr = ReduceLROnPlateau(monitor=monitor, factor=0.2, patience=1, min_lr=min_lr)\n",
        "    early_stop = EarlyStopping(monitor='val_loss', min_delta=0.001, patience=12, verbose=1, mode='min', restore_best_weights=True)\n",
        "    #CSVLogger logs epoch, acc, loss, val_acc, val_loss\n",
        "    log_csv = CSVLogger('my_logs.csv', separator=',', append=False)\n",
        "    callback=[checkpoint,early_stop, log_csv]\n",
        "    train_gen, val_gen = get_training_data(model = model_arch)\n",
        "    \n",
        "    return callback,train_gen,val_gen"
      ]
    },
    {
      "cell_type": "markdown",
      "id": "a308c832",
      "metadata": {
        "id": "a308c832"
      },
      "source": [
        "**Before Augmentation**"
      ]
    },
    {
      "cell_type": "code",
      "execution_count": null,
      "id": "68d47e25",
      "metadata": {
        "id": "68d47e25",
        "outputId": "b2ac8be9-9468-420f-f18a-7153a80da389",
        "colab": {
          "base_uri": "https://localhost:8080/",
          "height": 262
        }
      },
      "outputs": [
        {
          "output_type": "display_data",
          "data": {
            "text/plain": [
              "<Figure size 432x288 with 1 Axes>"
            ],
            "image/png": "[encoded data removed]"
          },
          "metadata": {
            "needs_background": "light"
          }
        }
      ],
      "source": [
        "a={}\n",
        "for i,classes in enumerate(Classes):\n",
        "     a[i]=len(os.listdir(os.path.join(train_dir, classes)))\n",
        "a=pd.DataFrame(a.items(),columns=['index','no.of samples'],index=a.keys())\n",
        "a['no.of samples'].plot(kind='bar')\n",
        "sample_size=a['no.of samples']"
      ]
    },
    {
      "cell_type": "markdown",
      "id": "859c8ee5",
      "metadata": {
        "id": "859c8ee5"
      },
      "source": [
        "**Finding the classes needing for the augmentation**"
      ]
    },
    {
      "cell_type": "code",
      "execution_count": null,
      "id": "ba85cf71",
      "metadata": {
        "id": "ba85cf71",
        "outputId": "17f3b511-3208-42d1-f1d9-442f78e414c9",
        "colab": {
          "base_uri": "https://localhost:8080/"
        }
      },
      "outputs": [
        {
          "output_type": "stream",
          "name": "stdout",
          "text": [
            "Sample sizes of different classes are\n",
            "\n",
            " {'blackgrass': 180, 'charlock': 272, 'cleavers': 208, 'fat hen': 328, 'maize': 146, 'wheat': 153}\n",
            "\n",
            "\n",
            "Minority classes requiring augmentations are\n",
            " ['blackgrass', 'cleavers', 'maize', 'wheat']\n"
          ]
        }
      ],
      "source": [
        "required_aug,ideal_samples,size_dict = augmentation_classes(Classes,train_dir)"
      ]
    },
    {
      "cell_type": "markdown",
      "id": "a6855e57",
      "metadata": {
        "id": "a6855e57"
      },
      "source": [
        "**Augmenting and storing data**"
      ]
    },
    {
      "cell_type": "code",
      "execution_count": null,
      "id": "859a60c6",
      "metadata": {
        "id": "859a60c6"
      },
      "outputs": [],
      "source": [
        "save_dir = r\"/content/drive/MyDrive/task1 file\""
      ]
    },
    {
      "cell_type": "code",
      "execution_count": null,
      "id": "9a6f794a",
      "metadata": {
        "id": "9a6f794a"
      },
      "outputs": [],
      "source": [
        "augment_and_store_data(Classes,train_dir,save_dir,required_aug,ideal_samples,size_dict)"
      ]
    },
    {
      "cell_type": "markdown",
      "id": "df76eba3",
      "metadata": {
        "id": "df76eba3"
      },
      "source": [
        "**After augmentation**"
      ]
    },
    {
      "cell_type": "code",
      "execution_count": null,
      "id": "af85d5a6",
      "metadata": {
        "id": "af85d5a6",
        "outputId": "5d40f859-c3cf-4aa1-98e3-dc3137dacaf2",
        "colab": {
          "base_uri": "https://localhost:8080/",
          "height": 262
        }
      },
      "outputs": [
        {
          "output_type": "display_data",
          "data": {
            "text/plain": [
              "<Figure size 432x288 with 1 Axes>"
            ],
            "image/png": "[encoded data removed]"
          },
          "metadata": {
            "needs_background": "light"
          }
        }
      ],
      "source": [
        "c={}\n",
        "for i,classes in enumerate(Classes):\n",
        "     c[i]=len(os.listdir(os.path.join(save_dir, classes)))\n",
        "c=pd.DataFrame(c.items(),columns=['index','no.of samples'],index=c.keys())\n",
        "c['no.of samples'].plot(kind='bar')\n",
        "sample_size=a['no.of samples']"
      ]
    },
    {
      "cell_type": "markdown",
      "id": "dcab9b09",
      "metadata": {
        "id": "dcab9b09"
      },
      "source": [
        "**Model Training**"
      ]
    },
    {
      "cell_type": "code",
      "source": [
        "from tensorflow.keras.callbacks import CSVLogger"
      ],
      "metadata": {
        "id": "mc_ujwiPZyYj"
      },
      "id": "mc_ujwiPZyYj",
      "execution_count": null,
      "outputs": []
    },
    {
      "cell_type": "code",
      "execution_count": null,
      "id": "9d13d576",
      "metadata": {
        "id": "9d13d576",
        "outputId": "e15b3ddd-a489-48c1-b074-911493fc4250",
        "colab": {
          "base_uri": "https://localhost:8080/"
        }
      },
      "outputs": [
        {
          "output_type": "stream",
          "name": "stdout",
          "text": [
            "Found 1315 images belonging to 6 classes.\n",
            "Found 229 images belonging to 6 classes.\n"
          ]
        }
      ],
      "source": [
        "callback,train_gen,val_gen=model_prep('inceptionV3','val_loss',2,5,0.000001)"
      ]
    },
    {
      "cell_type": "code",
      "source": [
        "import numpy as np\n",
        "import pandas as pd\n",
        "import matplotlib.pyplot as plt\n",
        "import sklearn\n",
        "import seaborn as sns\n",
        "\n",
        "from sklearn import metrics\n",
        "from sklearn.metrics import confusion_matrix, classification_report\n",
        "from tensorflow.keras.layers import Input, Lambda, Dense, Flatten\n",
        "from tensorflow.keras.models import Model\n",
        "from tensorflow.keras.applications.resnet50 import ResNet50\n",
        "from tensorflow.keras.applications.resnet50 import preprocess_input\n",
        "from keras.preprocessing import image\n",
        "from keras.preprocessing.image import ImageDataGenerator\n",
        "from keras.models import Sequential\n",
        "from glob import glob\n",
        "from sklearn.metrics import confusion_matrix\n",
        "from sklearn.metrics import accuracy_score"
      ],
      "metadata": {
        "id": "W7WIEhLyP7XN"
      },
      "id": "W7WIEhLyP7XN",
      "execution_count": null,
      "outputs": []
    },
    {
      "cell_type": "code",
      "source": [
        "# useful for getting number of classes\n",
        "folders = glob(r\"/content/drive/MyDrive/data_task1/train/*\")"
      ],
      "metadata": {
        "id": "GGl3pAo5PbGM"
      },
      "id": "GGl3pAo5PbGM",
      "execution_count": null,
      "outputs": []
    },
    {
      "cell_type": "code",
      "source": [
        "\n",
        "from tensorflow.keras import Sequential\n",
        "from tensorflow.keras.layers import Flatten,Dense,Dropout\n",
        "from tensorflow.keras.models import Model\n",
        "\n",
        "vgg16_model = VGG16(weights='imagenet', include_top=False, pooling='avg', input_shape=(224, 224, 3))\n",
        "x = vgg16_model.output\n",
        "x = Flatten()(x)\n",
        "#x = Dense(128,activation = \"relu\")(x)\n",
        "#x = Dropout(0.5)(x)\n",
        "pred = Dense(6,activation = \"softmax\")(x)\n",
        "model = Model(inputs = vgg16_model.input,outputs = pred)\n",
        "\n",
        "for layers in vgg16_model.layers:\n",
        "    layers.trainable = True\n",
        "\n",
        "model.compile(Adam(lr=0.0001), loss='categorical_crossentropy', metrics=['accuracy'])"
      ],
      "metadata": {
        "colab": {
          "base_uri": "https://localhost:8080/"
        },
        "id": "k16J8dzLvq5O",
        "outputId": "955b81ef-f59a-46cc-8103-120f0df02117"
      },
      "id": "k16J8dzLvq5O",
      "execution_count": null,
      "outputs": [
        {
          "output_type": "stream",
          "name": "stderr",
          "text": [
            "/usr/local/lib/python3.7/dist-packages/keras/optimizer_v2/adam.py:105: UserWarning: The `lr` argument is deprecated, use `learning_rate` instead.\n",
            "  super(Adam, self).__init__(name, **kwargs)\n"
          ]
        }
      ]
    },
    {
      "cell_type": "code",
      "source": [
        "model.summary()"
      ],
      "metadata": {
        "colab": {
          "base_uri": "https://localhost:8080/"
        },
        "id": "irFITJQAcxQu",
        "outputId": "fee155c6-3059-4cfa-91cc-c97929ded47b"
      },
      "id": "irFITJQAcxQu",
      "execution_count": null,
      "outputs": [
        {
          "output_type": "stream",
          "name": "stdout",
          "text": [
            "Model: \"model_9\"\n",
            "_________________________________________________________________\n",
            " Layer (type)                Output Shape              Param #   \n",
            "=================================================================\n",
            " input_11 (InputLayer)       [(None, 224, 224, 3)]     0         \n",
            "                                                                 \n",
            " block1_conv1 (Conv2D)       (None, 224, 224, 64)      1792      \n",
            "                                                                 \n",
            " block1_conv2 (Conv2D)       (None, 224, 224, 64)      36928     \n",
            "                                                                 \n",
            " block1_pool (MaxPooling2D)  (None, 112, 112, 64)      0         \n",
            "                                                                 \n",
            " block2_conv1 (Conv2D)       (None, 112, 112, 128)     73856     \n",
            "                                                                 \n",
            " block2_conv2 (Conv2D)       (None, 112, 112, 128)     147584    \n",
            "                                                                 \n",
            " block2_pool (MaxPooling2D)  (None, 56, 56, 128)       0         \n",
            "                                                                 \n",
            " block3_conv1 (Conv2D)       (None, 56, 56, 256)       295168    \n",
            "                                                                 \n",
            " block3_conv2 (Conv2D)       (None, 56, 56, 256)       590080    \n",
            "                                                                 \n",
            " block3_conv3 (Conv2D)       (None, 56, 56, 256)       590080    \n",
            "                                                                 \n",
            " block3_pool (MaxPooling2D)  (None, 28, 28, 256)       0         \n",
            "                                                                 \n",
            " block4_conv1 (Conv2D)       (None, 28, 28, 512)       1180160   \n",
            "                                                                 \n",
            " block4_conv2 (Conv2D)       (None, 28, 28, 512)       2359808   \n",
            "                                                                 \n",
            " block4_conv3 (Conv2D)       (None, 28, 28, 512)       2359808   \n",
            "                                                                 \n",
            " block4_pool (MaxPooling2D)  (None, 14, 14, 512)       0         \n",
            "                                                                 \n",
            " block5_conv1 (Conv2D)       (None, 14, 14, 512)       2359808   \n",
            "                                                                 \n",
            " block5_conv2 (Conv2D)       (None, 14, 14, 512)       2359808   \n",
            "                                                                 \n",
            " block5_conv3 (Conv2D)       (None, 14, 14, 512)       2359808   \n",
            "                                                                 \n",
            " block5_pool (MaxPooling2D)  (None, 7, 7, 512)         0         \n",
            "                                                                 \n",
            " global_average_pooling2d_10  (None, 512)              0         \n",
            "  (GlobalAveragePooling2D)                                       \n",
            "                                                                 \n",
            " flatten_9 (Flatten)         (None, 512)               0         \n",
            "                                                                 \n",
            " dense_11 (Dense)            (None, 6)                 3078      \n",
            "                                                                 \n",
            "=================================================================\n",
            "Total params: 14,717,766\n",
            "Trainable params: 14,717,766\n",
            "Non-trainable params: 0\n",
            "_________________________________________________________________\n"
          ]
        }
      ]
    },
    {
      "cell_type": "code",
      "execution_count": null,
      "id": "1133c21a",
      "metadata": {
        "id": "1133c21a",
        "colab": {
          "base_uri": "https://localhost:8080/"
        },
        "outputId": "590b8a1b-35a0-4be7-b8ad-2b14a57b110c"
      },
      "outputs": [
        {
          "output_type": "stream",
          "name": "stdout",
          "text": [
            "Epoch 1/50\n"
          ]
        },
        {
          "output_type": "stream",
          "name": "stderr",
          "text": [
            "/usr/local/lib/python3.7/dist-packages/ipykernel_launcher.py:7: UserWarning: `Model.fit_generator` is deprecated and will be removed in a future version. Please use `Model.fit`, which supports generators.\n",
            "  import sys\n"
          ]
        },
        {
          "output_type": "stream",
          "name": "stdout",
          "text": [
            "42/42 [==============================] - ETA: 0s - loss: 1.1659 - accuracy: 0.5300"
          ]
        },
        {
          "output_type": "stream",
          "name": "stderr",
          "text": [
            "WARNING:tensorflow:Can save best model only with val_acc available, skipping.\n"
          ]
        },
        {
          "output_type": "stream",
          "name": "stdout",
          "text": [
            "\b\b\b\b\b\b\b\b\b\b\b\b\b\b\b\b\b\b\b\b\b\b\b\b\b\b\b\b\b\b\b\b\b\b\b\b\b\b\b\b\b\b\b\b\b\b\b\b\b\b\b\b\b\b\b\b\b\b\b\b\b\b\b\b\b\b\b\b\b\b\b\b\b\b\b\b\b\b\b\b\b\b\r42/42 [==============================] - 42s 739ms/step - loss: 1.1659 - accuracy: 0.5300 - val_loss: 0.6071 - val_accuracy: 0.7991\n",
            "Epoch 2/50\n",
            "42/42 [==============================] - ETA: 0s - loss: 0.5834 - accuracy: 0.7901"
          ]
        },
        {
          "output_type": "stream",
          "name": "stderr",
          "text": [
            "WARNING:tensorflow:Can save best model only with val_acc available, skipping.\n"
          ]
        },
        {
          "output_type": "stream",
          "name": "stdout",
          "text": [
            "\b\b\b\b\b\b\b\b\b\b\b\b\b\b\b\b\b\b\b\b\b\b\b\b\b\b\b\b\b\b\b\b\b\b\b\b\b\b\b\b\b\b\b\b\b\b\b\b\b\b\b\b\b\b\b\b\b\b\b\b\b\b\b\b\b\b\b\b\b\b\b\b\b\b\b\b\b\b\b\b\b\b\r42/42 [==============================] - 26s 623ms/step - loss: 0.5834 - accuracy: 0.7901 - val_loss: 0.4969 - val_accuracy: 0.8341\n",
            "Epoch 3/50\n",
            "42/42 [==============================] - ETA: 0s - loss: 0.3928 - accuracy: 0.8608"
          ]
        },
        {
          "output_type": "stream",
          "name": "stderr",
          "text": [
            "WARNING:tensorflow:Can save best model only with val_acc available, skipping.\n"
          ]
        },
        {
          "output_type": "stream",
          "name": "stdout",
          "text": [
            "\b\b\b\b\b\b\b\b\b\b\b\b\b\b\b\b\b\b\b\b\b\b\b\b\b\b\b\b\b\b\b\b\b\b\b\b\b\b\b\b\b\b\b\b\b\b\b\b\b\b\b\b\b\b\b\b\b\b\b\b\b\b\b\b\b\b\b\b\b\b\b\b\b\b\b\b\b\b\b\b\b\b\r42/42 [==============================] - 27s 647ms/step - loss: 0.3928 - accuracy: 0.8608 - val_loss: 0.2992 - val_accuracy: 0.8996\n",
            "Epoch 4/50\n",
            "42/42 [==============================] - ETA: 0s - loss: 0.2043 - accuracy: 0.9346"
          ]
        },
        {
          "output_type": "stream",
          "name": "stderr",
          "text": [
            "WARNING:tensorflow:Can save best model only with val_acc available, skipping.\n"
          ]
        },
        {
          "output_type": "stream",
          "name": "stdout",
          "text": [
            "\b\b\b\b\b\b\b\b\b\b\b\b\b\b\b\b\b\b\b\b\b\b\b\b\b\b\b\b\b\b\b\b\b\b\b\b\b\b\b\b\b\b\b\b\b\b\b\b\b\b\b\b\b\b\b\b\b\b\b\b\b\b\b\b\b\b\b\b\b\b\b\b\b\b\b\b\b\b\b\b\b\b\r42/42 [==============================] - 27s 648ms/step - loss: 0.2043 - accuracy: 0.9346 - val_loss: 0.1679 - val_accuracy: 0.9258\n",
            "Epoch 5/50\n",
            "42/42 [==============================] - ETA: 0s - loss: 0.1352 - accuracy: 0.9582"
          ]
        },
        {
          "output_type": "stream",
          "name": "stderr",
          "text": [
            "WARNING:tensorflow:Can save best model only with val_acc available, skipping.\n"
          ]
        },
        {
          "output_type": "stream",
          "name": "stdout",
          "text": [
            "\b\b\b\b\b\b\b\b\b\b\b\b\b\b\b\b\b\b\b\b\b\b\b\b\b\b\b\b\b\b\b\b\b\b\b\b\b\b\b\b\b\b\b\b\b\b\b\b\b\b\b\b\b\b\b\b\b\b\b\b\b\b\b\b\b\b\b\b\b\b\b\b\b\b\b\b\b\b\b\b\b\b\r42/42 [==============================] - 27s 632ms/step - loss: 0.1352 - accuracy: 0.9582 - val_loss: 0.1675 - val_accuracy: 0.9432\n",
            "Epoch 6/50\n",
            "42/42 [==============================] - ETA: 0s - loss: 0.1360 - accuracy: 0.9559"
          ]
        },
        {
          "output_type": "stream",
          "name": "stderr",
          "text": [
            "WARNING:tensorflow:Can save best model only with val_acc available, skipping.\n"
          ]
        },
        {
          "output_type": "stream",
          "name": "stdout",
          "text": [
            "\b\b\b\b\b\b\b\b\b\b\b\b\b\b\b\b\b\b\b\b\b\b\b\b\b\b\b\b\b\b\b\b\b\b\b\b\b\b\b\b\b\b\b\b\b\b\b\b\b\b\b\b\b\b\b\b\b\b\b\b\b\b\b\b\b\b\b\b\b\b\b\b\b\b\b\b\b\b\b\b\b\b\r42/42 [==============================] - 27s 638ms/step - loss: 0.1360 - accuracy: 0.9559 - val_loss: 0.1113 - val_accuracy: 0.9607\n",
            "Epoch 7/50\n",
            "42/42 [==============================] - ETA: 0s - loss: 0.0930 - accuracy: 0.9726"
          ]
        },
        {
          "output_type": "stream",
          "name": "stderr",
          "text": [
            "WARNING:tensorflow:Can save best model only with val_acc available, skipping.\n"
          ]
        },
        {
          "output_type": "stream",
          "name": "stdout",
          "text": [
            "\b\b\b\b\b\b\b\b\b\b\b\b\b\b\b\b\b\b\b\b\b\b\b\b\b\b\b\b\b\b\b\b\b\b\b\b\b\b\b\b\b\b\b\b\b\b\b\b\b\b\b\b\b\b\b\b\b\b\b\b\b\b\b\b\b\b\b\b\b\b\b\b\b\b\b\b\b\b\b\b\b\b\r42/42 [==============================] - 27s 647ms/step - loss: 0.0930 - accuracy: 0.9726 - val_loss: 0.1777 - val_accuracy: 0.9520\n",
            "Epoch 8/50\n",
            "42/42 [==============================] - ETA: 0s - loss: 0.0852 - accuracy: 0.9719"
          ]
        },
        {
          "output_type": "stream",
          "name": "stderr",
          "text": [
            "WARNING:tensorflow:Can save best model only with val_acc available, skipping.\n"
          ]
        },
        {
          "output_type": "stream",
          "name": "stdout",
          "text": [
            "\b\b\b\b\b\b\b\b\b\b\b\b\b\b\b\b\b\b\b\b\b\b\b\b\b\b\b\b\b\b\b\b\b\b\b\b\b\b\b\b\b\b\b\b\b\b\b\b\b\b\b\b\b\b\b\b\b\b\b\b\b\b\b\b\b\b\b\b\b\b\b\b\b\b\b\b\b\b\b\b\b\b\r42/42 [==============================] - 27s 635ms/step - loss: 0.0852 - accuracy: 0.9719 - val_loss: 0.1874 - val_accuracy: 0.9389\n",
            "Epoch 9/50\n",
            "42/42 [==============================] - ETA: 0s - loss: 0.0849 - accuracy: 0.9719"
          ]
        },
        {
          "output_type": "stream",
          "name": "stderr",
          "text": [
            "WARNING:tensorflow:Can save best model only with val_acc available, skipping.\n"
          ]
        },
        {
          "output_type": "stream",
          "name": "stdout",
          "text": [
            "\b\b\b\b\b\b\b\b\b\b\b\b\b\b\b\b\b\b\b\b\b\b\b\b\b\b\b\b\b\b\b\b\b\b\b\b\b\b\b\b\b\b\b\b\b\b\b\b\b\b\b\b\b\b\b\b\b\b\b\b\b\b\b\b\b\b\b\b\b\b\b\b\b\b\b\b\b\b\b\b\b\b\r42/42 [==============================] - 27s 633ms/step - loss: 0.0849 - accuracy: 0.9719 - val_loss: 0.3360 - val_accuracy: 0.9301\n",
            "Epoch 10/50\n",
            "42/42 [==============================] - ETA: 0s - loss: 0.2025 - accuracy: 0.9240"
          ]
        },
        {
          "output_type": "stream",
          "name": "stderr",
          "text": [
            "WARNING:tensorflow:Can save best model only with val_acc available, skipping.\n"
          ]
        },
        {
          "output_type": "stream",
          "name": "stdout",
          "text": [
            "\b\b\b\b\b\b\b\b\b\b\b\b\b\b\b\b\b\b\b\b\b\b\b\b\b\b\b\b\b\b\b\b\b\b\b\b\b\b\b\b\b\b\b\b\b\b\b\b\b\b\b\b\b\b\b\b\b\b\b\b\b\b\b\b\b\b\b\b\b\b\b\b\b\b\b\b\b\b\b\b\b\b\r42/42 [==============================] - 27s 635ms/step - loss: 0.2025 - accuracy: 0.9240 - val_loss: 0.2404 - val_accuracy: 0.9170\n",
            "Epoch 11/50\n",
            "42/42 [==============================] - ETA: 0s - loss: 0.1303 - accuracy: 0.9536"
          ]
        },
        {
          "output_type": "stream",
          "name": "stderr",
          "text": [
            "WARNING:tensorflow:Can save best model only with val_acc available, skipping.\n"
          ]
        },
        {
          "output_type": "stream",
          "name": "stdout",
          "text": [
            "\b\b\b\b\b\b\b\b\b\b\b\b\b\b\b\b\b\b\b\b\b\b\b\b\b\b\b\b\b\b\b\b\b\b\b\b\b\b\b\b\b\b\b\b\b\b\b\b\b\b\b\b\b\b\b\b\b\b\b\b\b\b\b\b\b\b\b\b\b\b\b\b\b\b\b\b\b\b\b\b\b\b\r42/42 [==============================] - 27s 637ms/step - loss: 0.1303 - accuracy: 0.9536 - val_loss: 0.1265 - val_accuracy: 0.9607\n",
            "Epoch 12/50\n",
            "42/42 [==============================] - ETA: 0s - loss: 0.0865 - accuracy: 0.9703"
          ]
        },
        {
          "output_type": "stream",
          "name": "stderr",
          "text": [
            "WARNING:tensorflow:Can save best model only with val_acc available, skipping.\n"
          ]
        },
        {
          "output_type": "stream",
          "name": "stdout",
          "text": [
            "\b\b\b\b\b\b\b\b\b\b\b\b\b\b\b\b\b\b\b\b\b\b\b\b\b\b\b\b\b\b\b\b\b\b\b\b\b\b\b\b\b\b\b\b\b\b\b\b\b\b\b\b\b\b\b\b\b\b\b\b\b\b\b\b\b\b\b\b\b\b\b\b\b\b\b\b\b\b\b\b\b\b\r42/42 [==============================] - 27s 650ms/step - loss: 0.0865 - accuracy: 0.9703 - val_loss: 0.1876 - val_accuracy: 0.9258\n",
            "Epoch 13/50\n",
            "42/42 [==============================] - ETA: 0s - loss: 0.0456 - accuracy: 0.9856"
          ]
        },
        {
          "output_type": "stream",
          "name": "stderr",
          "text": [
            "WARNING:tensorflow:Can save best model only with val_acc available, skipping.\n"
          ]
        },
        {
          "output_type": "stream",
          "name": "stdout",
          "text": [
            "\b\b\b\b\b\b\b\b\b\b\b\b\b\b\b\b\b\b\b\b\b\b\b\b\b\b\b\b\b\b\b\b\b\b\b\b\b\b\b\b\b\b\b\b\b\b\b\b\b\b\b\b\b\b\b\b\b\b\b\b\b\b\b\b\b\b\b\b\b\b\b\b\b\b\b\b\b\b\b\b\b\b\r42/42 [==============================] - 27s 637ms/step - loss: 0.0456 - accuracy: 0.9856 - val_loss: 0.1381 - val_accuracy: 0.9607\n",
            "Epoch 14/50\n",
            "42/42 [==============================] - ETA: 0s - loss: 0.0080 - accuracy: 0.9977"
          ]
        },
        {
          "output_type": "stream",
          "name": "stderr",
          "text": [
            "WARNING:tensorflow:Can save best model only with val_acc available, skipping.\n"
          ]
        },
        {
          "output_type": "stream",
          "name": "stdout",
          "text": [
            "\b\b\b\b\b\b\b\b\b\b\b\b\b\b\b\b\b\b\b\b\b\b\b\b\b\b\b\b\b\b\b\b\b\b\b\b\b\b\b\b\b\b\b\b\b\b\b\b\b\b\b\b\b\b\b\b\b\b\b\b\b\b\b\b\b\b\b\b\b\b\b\b\b\b\b\b\b\b\b\b\b\b\r42/42 [==============================] - 27s 639ms/step - loss: 0.0080 - accuracy: 0.9977 - val_loss: 0.0910 - val_accuracy: 0.9738\n",
            "Epoch 15/50\n",
            "42/42 [==============================] - ETA: 0s - loss: 0.0199 - accuracy: 0.9924"
          ]
        },
        {
          "output_type": "stream",
          "name": "stderr",
          "text": [
            "WARNING:tensorflow:Can save best model only with val_acc available, skipping.\n"
          ]
        },
        {
          "output_type": "stream",
          "name": "stdout",
          "text": [
            "\b\b\b\b\b\b\b\b\b\b\b\b\b\b\b\b\b\b\b\b\b\b\b\b\b\b\b\b\b\b\b\b\b\b\b\b\b\b\b\b\b\b\b\b\b\b\b\b\b\b\b\b\b\b\b\b\b\b\b\b\b\b\b\b\b\b\b\b\b\b\b\b\b\b\b\b\b\b\b\b\b\b\r42/42 [==============================] - 27s 634ms/step - loss: 0.0199 - accuracy: 0.9924 - val_loss: 0.1263 - val_accuracy: 0.9651\n",
            "Epoch 16/50\n",
            "42/42 [==============================] - ETA: 0s - loss: 0.0848 - accuracy: 0.9719"
          ]
        },
        {
          "output_type": "stream",
          "name": "stderr",
          "text": [
            "WARNING:tensorflow:Can save best model only with val_acc available, skipping.\n"
          ]
        },
        {
          "output_type": "stream",
          "name": "stdout",
          "text": [
            "\b\b\b\b\b\b\b\b\b\b\b\b\b\b\b\b\b\b\b\b\b\b\b\b\b\b\b\b\b\b\b\b\b\b\b\b\b\b\b\b\b\b\b\b\b\b\b\b\b\b\b\b\b\b\b\b\b\b\b\b\b\b\b\b\b\b\b\b\b\b\b\b\b\b\b\b\b\b\b\b\b\b\r42/42 [==============================] - 27s 634ms/step - loss: 0.0848 - accuracy: 0.9719 - val_loss: 0.1580 - val_accuracy: 0.9520\n",
            "Epoch 17/50\n",
            "42/42 [==============================] - ETA: 0s - loss: 0.0182 - accuracy: 0.9932"
          ]
        },
        {
          "output_type": "stream",
          "name": "stderr",
          "text": [
            "WARNING:tensorflow:Can save best model only with val_acc available, skipping.\n"
          ]
        },
        {
          "output_type": "stream",
          "name": "stdout",
          "text": [
            "\b\b\b\b\b\b\b\b\b\b\b\b\b\b\b\b\b\b\b\b\b\b\b\b\b\b\b\b\b\b\b\b\b\b\b\b\b\b\b\b\b\b\b\b\b\b\b\b\b\b\b\b\b\b\b\b\b\b\b\b\b\b\b\b\b\b\b\b\b\b\b\b\b\b\b\b\b\b\b\b\b\b\r42/42 [==============================] - 27s 635ms/step - loss: 0.0182 - accuracy: 0.9932 - val_loss: 0.0869 - val_accuracy: 0.9738\n",
            "Epoch 18/50\n",
            "42/42 [==============================] - ETA: 0s - loss: 0.0040 - accuracy: 0.9992"
          ]
        },
        {
          "output_type": "stream",
          "name": "stderr",
          "text": [
            "WARNING:tensorflow:Can save best model only with val_acc available, skipping.\n"
          ]
        },
        {
          "output_type": "stream",
          "name": "stdout",
          "text": [
            "\b\b\b\b\b\b\b\b\b\b\b\b\b\b\b\b\b\b\b\b\b\b\b\b\b\b\b\b\b\b\b\b\b\b\b\b\b\b\b\b\b\b\b\b\b\b\b\b\b\b\b\b\b\b\b\b\b\b\b\b\b\b\b\b\b\b\b\b\b\b\b\b\b\b\b\b\b\b\b\b\b\b\r42/42 [==============================] - 27s 633ms/step - loss: 0.0040 - accuracy: 0.9992 - val_loss: 0.1593 - val_accuracy: 0.9694\n",
            "Epoch 19/50\n",
            "42/42 [==============================] - ETA: 0s - loss: 9.9440e-04 - accuracy: 1.0000"
          ]
        },
        {
          "output_type": "stream",
          "name": "stderr",
          "text": [
            "WARNING:tensorflow:Can save best model only with val_acc available, skipping.\n"
          ]
        },
        {
          "output_type": "stream",
          "name": "stdout",
          "text": [
            "\b\b\b\b\b\b\b\b\b\b\b\b\b\b\b\b\b\b\b\b\b\b\b\b\b\b\b\b\b\b\b\b\b\b\b\b\b\b\b\b\b\b\b\b\b\b\b\b\b\b\b\b\b\b\b\b\b\b\b\b\b\b\b\b\b\b\b\b\b\b\b\b\b\b\b\b\b\b\b\b\b\b\b\b\b\b\r42/42 [==============================] - 27s 655ms/step - loss: 9.9440e-04 - accuracy: 1.0000 - val_loss: 0.1104 - val_accuracy: 0.9782\n",
            "Epoch 20/50\n",
            "42/42 [==============================] - ETA: 0s - loss: 3.8206e-04 - accuracy: 1.0000"
          ]
        },
        {
          "output_type": "stream",
          "name": "stderr",
          "text": [
            "WARNING:tensorflow:Can save best model only with val_acc available, skipping.\n"
          ]
        },
        {
          "output_type": "stream",
          "name": "stdout",
          "text": [
            "\b\b\b\b\b\b\b\b\b\b\b\b\b\b\b\b\b\b\b\b\b\b\b\b\b\b\b\b\b\b\b\b\b\b\b\b\b\b\b\b\b\b\b\b\b\b\b\b\b\b\b\b\b\b\b\b\b\b\b\b\b\b\b\b\b\b\b\b\b\b\b\b\b\b\b\b\b\b\b\b\b\b\b\b\b\b\r42/42 [==============================] - 28s 654ms/step - loss: 3.8206e-04 - accuracy: 1.0000 - val_loss: 0.1179 - val_accuracy: 0.9782\n",
            "Epoch 21/50\n",
            "42/42 [==============================] - ETA: 0s - loss: 2.1360e-04 - accuracy: 1.0000"
          ]
        },
        {
          "output_type": "stream",
          "name": "stderr",
          "text": [
            "WARNING:tensorflow:Can save best model only with val_acc available, skipping.\n"
          ]
        },
        {
          "output_type": "stream",
          "name": "stdout",
          "text": [
            "\b\b\b\b\b\b\b\b\b\b\b\b\b\b\b\b\b\b\b\b\b\b\b\b\b\b\b\b\b\b\b\b\b\b\b\b\b\b\b\b\b\b\b\b\b\b\b\b\b\b\b\b\b\b\b\b\b\b\b\b\b\b\b\b\b\b\b\b\b\b\b\b\b\b\b\b\b\b\b\b\b\b\b\b\b\b\r42/42 [==============================] - 26s 622ms/step - loss: 2.1360e-04 - accuracy: 1.0000 - val_loss: 0.1213 - val_accuracy: 0.9782\n",
            "Epoch 22/50\n",
            "42/42 [==============================] - ETA: 0s - loss: 1.4774e-04 - accuracy: 1.0000"
          ]
        },
        {
          "output_type": "stream",
          "name": "stderr",
          "text": [
            "WARNING:tensorflow:Can save best model only with val_acc available, skipping.\n"
          ]
        },
        {
          "output_type": "stream",
          "name": "stdout",
          "text": [
            "\b\b\b\b\b\b\b\b\b\b\b\b\b\b\b\b\b\b\b\b\b\b\b\b\b\b\b\b\b\b\b\b\b\b\b\b\b\b\b\b\b\b\b\b\b\b\b\b\b\b\b\b\b\b\b\b\b\b\b\b\b\b\b\b\b\b\b\b\b\b\b\b\b\b\b\b\b\b\b\b\b\b\b\b\b\b\r42/42 [==============================] - 27s 634ms/step - loss: 1.4774e-04 - accuracy: 1.0000 - val_loss: 0.1299 - val_accuracy: 0.9782\n",
            "Epoch 23/50\n",
            "42/42 [==============================] - ETA: 0s - loss: 1.1745e-04 - accuracy: 1.0000"
          ]
        },
        {
          "output_type": "stream",
          "name": "stderr",
          "text": [
            "WARNING:tensorflow:Can save best model only with val_acc available, skipping.\n"
          ]
        },
        {
          "output_type": "stream",
          "name": "stdout",
          "text": [
            "\b\b\b\b\b\b\b\b\b\b\b\b\b\b\b\b\b\b\b\b\b\b\b\b\b\b\b\b\b\b\b\b\b\b\b\b\b\b\b\b\b\b\b\b\b\b\b\b\b\b\b\b\b\b\b\b\b\b\b\b\b\b\b\b\b\b\b\b\b\b\b\b\b\b\b\b\b\b\b\b\b\b\b\b\b\b\r42/42 [==============================] - 27s 643ms/step - loss: 1.1745e-04 - accuracy: 1.0000 - val_loss: 0.1369 - val_accuracy: 0.9782\n",
            "Epoch 24/50\n",
            "42/42 [==============================] - ETA: 0s - loss: 9.2824e-05 - accuracy: 1.0000"
          ]
        },
        {
          "output_type": "stream",
          "name": "stderr",
          "text": [
            "WARNING:tensorflow:Can save best model only with val_acc available, skipping.\n"
          ]
        },
        {
          "output_type": "stream",
          "name": "stdout",
          "text": [
            "\b\b\b\b\b\b\b\b\b\b\b\b\b\b\b\b\b\b\b\b\b\b\b\b\b\b\b\b\b\b\b\b\b\b\b\b\b\b\b\b\b\b\b\b\b\b\b\b\b\b\b\b\b\b\b\b\b\b\b\b\b\b\b\b\b\b\b\b\b\b\b\b\b\b\b\b\b\b\b\b\b\b\b\b\b\b\r42/42 [==============================] - 27s 633ms/step - loss: 9.2824e-05 - accuracy: 1.0000 - val_loss: 0.1400 - val_accuracy: 0.9782\n",
            "Epoch 25/50\n",
            "42/42 [==============================] - ETA: 0s - loss: 7.7666e-05 - accuracy: 1.0000"
          ]
        },
        {
          "output_type": "stream",
          "name": "stderr",
          "text": [
            "WARNING:tensorflow:Can save best model only with val_acc available, skipping.\n"
          ]
        },
        {
          "output_type": "stream",
          "name": "stdout",
          "text": [
            "\b\b\b\b\b\b\b\b\b\b\b\b\b\b\b\b\b\b\b\b\b\b\b\b\b\b\b\b\b\b\b\b\b\b\b\b\b\b\b\b\b\b\b\b\b\b\b\b\b\b\b\b\b\b\b\b\b\b\b\b\b\b\b\b\b\b\b\b\b\b\b\b\b\b\b\b\b\b\b\b\b\b\b\b\b\b\r42/42 [==============================] - 27s 635ms/step - loss: 7.7666e-05 - accuracy: 1.0000 - val_loss: 0.1411 - val_accuracy: 0.9782\n",
            "Epoch 26/50\n",
            "42/42 [==============================] - ETA: 0s - loss: 6.7114e-05 - accuracy: 1.0000"
          ]
        },
        {
          "output_type": "stream",
          "name": "stderr",
          "text": [
            "WARNING:tensorflow:Can save best model only with val_acc available, skipping.\n"
          ]
        },
        {
          "output_type": "stream",
          "name": "stdout",
          "text": [
            "\b\b\b\b\b\b\b\b\b\b\b\b\b\b\b\b\b\b\b\b\b\b\b\b\b\b\b\b\b\b\b\b\b\b\b\b\b\b\b\b\b\b\b\b\b\b\b\b\b\b\b\b\b\b\b\b\b\b\b\b\b\b\b\b\b\b\b\b\b\b\b\b\b\b\b\b\b\b\b\b\b\b\b\b\b\b\r42/42 [==============================] - 27s 640ms/step - loss: 6.7114e-05 - accuracy: 1.0000 - val_loss: 0.1434 - val_accuracy: 0.9782\n",
            "Epoch 27/50\n",
            "42/42 [==============================] - ETA: 0s - loss: 5.7585e-05 - accuracy: 1.0000"
          ]
        },
        {
          "output_type": "stream",
          "name": "stderr",
          "text": [
            "WARNING:tensorflow:Can save best model only with val_acc available, skipping.\n"
          ]
        },
        {
          "output_type": "stream",
          "name": "stdout",
          "text": [
            "\b\b\b\b\b\b\b\b\b\b\b\b\b\b\b\b\b\b\b\b\b\b\b\b\b\b\b\b\b\b\b\b\b\b\b\b\b\b\b\b\b\b\b\b\b\b\b\b\b\b\b\b\b\b\b\b\b\b\b\b\b\b\b\b\b\b\b\b\b\b\b\b\b\b\b\b\b\b\b\b\b\b\b\b\b\b\r42/42 [==============================] - 27s 639ms/step - loss: 5.7585e-05 - accuracy: 1.0000 - val_loss: 0.1458 - val_accuracy: 0.9782\n",
            "Epoch 28/50\n",
            "42/42 [==============================] - ETA: 0s - loss: 5.0538e-05 - accuracy: 1.0000"
          ]
        },
        {
          "output_type": "stream",
          "name": "stderr",
          "text": [
            "WARNING:tensorflow:Can save best model only with val_acc available, skipping.\n"
          ]
        },
        {
          "output_type": "stream",
          "name": "stdout",
          "text": [
            "\b\b\b\b\b\b\b\b\b\b\b\b\b\b\b\b\b\b\b\b\b\b\b\b\b\b\b\b\b\b\b\b\b\b\b\b\b\b\b\b\b\b\b\b\b\b\b\b\b\b\b\b\b\b\b\b\b\b\b\b\b\b\b\b\b\b\b\b\b\b\b\b\b\b\b\b\b\b\b\b\b\b\b\b\b\b\r42/42 [==============================] - 27s 639ms/step - loss: 5.0538e-05 - accuracy: 1.0000 - val_loss: 0.1491 - val_accuracy: 0.9782\n",
            "Epoch 29/50\n",
            "42/42 [==============================] - ETA: 0s - loss: 4.4344e-05 - accuracy: 1.0000"
          ]
        },
        {
          "output_type": "stream",
          "name": "stderr",
          "text": [
            "WARNING:tensorflow:Can save best model only with val_acc available, skipping.\n"
          ]
        },
        {
          "output_type": "stream",
          "name": "stdout",
          "text": [
            "Restoring model weights from the end of the best epoch: 17.\n",
            "42/42 [==============================] - 27s 634ms/step - loss: 4.4344e-05 - accuracy: 1.0000 - val_loss: 0.1509 - val_accuracy: 0.9782\n",
            "Epoch 29: early stopping\n"
          ]
        }
      ],
      "source": [
        "history = model.fit_generator(\n",
        "  train_gen,\n",
        "  validation_data=val_gen,\n",
        "  epochs=50,\n",
        "  steps_per_epoch=len(train_gen),\n",
        "  validation_steps=len(val_gen),\n",
        "callbacks= callback)"
      ]
    },
    {
      "cell_type": "code",
      "execution_count": null,
      "id": "cca65bc6",
      "metadata": {
        "id": "cca65bc6"
      },
      "outputs": [],
      "source": [
        "model.save('/content/drive/MyDrive/save file task 1/VGG16_models.hdf5')"
      ]
    },
    {
      "cell_type": "code",
      "source": [
        "#plot the training and validation accuracy and loss at each epoch\n",
        "print(\"Values stored in history are ... \\n\", history.history)\n",
        "loss = history.history['loss']\n",
        "val_loss = history.history['val_loss']\n",
        "epochs = range(1, len(loss) + 1)\n",
        "plt.plot(epochs, loss, 'y', label='Training loss')\n",
        "plt.plot(epochs, val_loss, 'r', label='Validation loss')\n",
        "plt.title('Training and validation loss')\n",
        "plt.xlabel('Epochs')\n",
        "plt.ylabel('Loss')\n",
        "plt.legend()\n",
        "plt.show()"
      ],
      "metadata": {
        "colab": {
          "base_uri": "https://localhost:8080/",
          "height": 351
        },
        "id": "NIPGcMClT0JM",
        "outputId": "9da90dbd-76ba-437c-e50b-c0d2ae7f1c96"
      },
      "id": "NIPGcMClT0JM",
      "execution_count": null,
      "outputs": [
        {
          "output_type": "stream",
          "name": "stdout",
          "text": [
            "Values stored in history are ... \n",
            " {'loss': [1.1658554077148438, 0.5833571553230286, 0.3927633762359619, 0.20429758727550507, 0.13523510098457336, 0.1359887421131134, 0.09301896393299103, 0.08516140282154083, 0.08487970381975174, 0.20252364873886108, 0.13032421469688416, 0.08650519698858261, 0.0456400141119957, 0.008036362938582897, 0.019864730536937714, 0.08475692570209503, 0.018222304061055183, 0.003977625165134668, 0.0009943994227796793, 0.0003820561687462032, 0.0002136014518328011, 0.00014774421288166195, 0.00011745089432224631, 9.282433893531561e-05, 7.766564522171393e-05, 6.711391324643046e-05, 5.7584751630201936e-05, 5.053767381468788e-05, 4.4343527406454086e-05], 'accuracy': [0.5300379991531372, 0.7901140451431274, 0.8608365058898926, 0.9346007704734802, 0.9581748843193054, 0.9558935165405273, 0.9726235866546631, 0.9718630909919739, 0.9718630909919739, 0.9239543676376343, 0.9536121487617493, 0.970342218875885, 0.9855513572692871, 0.9977186322212219, 0.9923954606056213, 0.9718630909919739, 0.9931558966636658, 0.9992395639419556, 1.0, 1.0, 1.0, 1.0, 1.0, 1.0, 1.0, 1.0, 1.0, 1.0, 1.0], 'val_loss': [0.6070953607559204, 0.49692970514297485, 0.2991573214530945, 0.16790592670440674, 0.1675175130367279, 0.1113099753856659, 0.17772629857063293, 0.18735674023628235, 0.33598655462265015, 0.24041713774204254, 0.12654215097427368, 0.18757477402687073, 0.13808035850524902, 0.09103268384933472, 0.12626606225967407, 0.15801295638084412, 0.08688560128211975, 0.15927259624004364, 0.11037331819534302, 0.11788664758205414, 0.12127529829740524, 0.12992459535598755, 0.13690707087516785, 0.14001445472240448, 0.1411328762769699, 0.1433790922164917, 0.14575091004371643, 0.1490725576877594, 0.1508696973323822], 'val_accuracy': [0.7991266250610352, 0.8340611457824707, 0.8995633125305176, 0.9257642030715942, 0.943231463432312, 0.960698664188385, 0.9519650936126709, 0.9388646483421326, 0.9301310181617737, 0.9170305728912354, 0.960698664188385, 0.9257642030715942, 0.960698664188385, 0.9737991094589233, 0.9650654792785645, 0.9519650936126709, 0.9737991094589233, 0.9694322943687439, 0.9781659245491028, 0.9781659245491028, 0.9781659245491028, 0.9781659245491028, 0.9781659245491028, 0.9781659245491028, 0.9781659245491028, 0.9781659245491028, 0.9781659245491028, 0.9781659245491028, 0.9781659245491028]}\n"
          ]
        },
        {
          "output_type": "display_data",
          "data": {
            "text/plain": [
              "<Figure size 432x288 with 1 Axes>"
            ],
            "image/png": "[encoded data removed]"
          },
          "metadata": {
            "needs_background": "light"
          }
        }
      ]
    },
    {
      "cell_type": "code",
      "source": [
        "#plot the training and validation accuracy and loss at each epoch\n",
        "print(\"Values stored in history are ... \\n\", history.history)\n",
        "acc = history.history['accuracy']\n",
        "val_acc = history.history['val_accuracy']\n",
        "plt.plot(epochs, acc, 'y', label='Training acc')\n",
        "plt.plot(epochs, val_acc, 'r', label='Validation acc')\n",
        "plt.title('Training and validation accuracy')\n",
        "plt.xlabel('Epochs')\n",
        "plt.ylabel('Accuracy')\n",
        "plt.legend()\n",
        "plt.show()"
      ],
      "metadata": {
        "colab": {
          "base_uri": "https://localhost:8080/",
          "height": 351
        },
        "id": "v0D0bwv3T0Lm",
        "outputId": "c11defc3-5648-49a5-9742-89e605080416"
      },
      "id": "v0D0bwv3T0Lm",
      "execution_count": null,
      "outputs": [
        {
          "output_type": "stream",
          "name": "stdout",
          "text": [
            "Values stored in history are ... \n",
            " {'loss': [1.1658554077148438, 0.5833571553230286, 0.3927633762359619, 0.20429758727550507, 0.13523510098457336, 0.1359887421131134, 0.09301896393299103, 0.08516140282154083, 0.08487970381975174, 0.20252364873886108, 0.13032421469688416, 0.08650519698858261, 0.0456400141119957, 0.008036362938582897, 0.019864730536937714, 0.08475692570209503, 0.018222304061055183, 0.003977625165134668, 0.0009943994227796793, 0.0003820561687462032, 0.0002136014518328011, 0.00014774421288166195, 0.00011745089432224631, 9.282433893531561e-05, 7.766564522171393e-05, 6.711391324643046e-05, 5.7584751630201936e-05, 5.053767381468788e-05, 4.4343527406454086e-05], 'accuracy': [0.5300379991531372, 0.7901140451431274, 0.8608365058898926, 0.9346007704734802, 0.9581748843193054, 0.9558935165405273, 0.9726235866546631, 0.9718630909919739, 0.9718630909919739, 0.9239543676376343, 0.9536121487617493, 0.970342218875885, 0.9855513572692871, 0.9977186322212219, 0.9923954606056213, 0.9718630909919739, 0.9931558966636658, 0.9992395639419556, 1.0, 1.0, 1.0, 1.0, 1.0, 1.0, 1.0, 1.0, 1.0, 1.0, 1.0], 'val_loss': [0.6070953607559204, 0.49692970514297485, 0.2991573214530945, 0.16790592670440674, 0.1675175130367279, 0.1113099753856659, 0.17772629857063293, 0.18735674023628235, 0.33598655462265015, 0.24041713774204254, 0.12654215097427368, 0.18757477402687073, 0.13808035850524902, 0.09103268384933472, 0.12626606225967407, 0.15801295638084412, 0.08688560128211975, 0.15927259624004364, 0.11037331819534302, 0.11788664758205414, 0.12127529829740524, 0.12992459535598755, 0.13690707087516785, 0.14001445472240448, 0.1411328762769699, 0.1433790922164917, 0.14575091004371643, 0.1490725576877594, 0.1508696973323822], 'val_accuracy': [0.7991266250610352, 0.8340611457824707, 0.8995633125305176, 0.9257642030715942, 0.943231463432312, 0.960698664188385, 0.9519650936126709, 0.9388646483421326, 0.9301310181617737, 0.9170305728912354, 0.960698664188385, 0.9257642030715942, 0.960698664188385, 0.9737991094589233, 0.9650654792785645, 0.9519650936126709, 0.9737991094589233, 0.9694322943687439, 0.9781659245491028, 0.9781659245491028, 0.9781659245491028, 0.9781659245491028, 0.9781659245491028, 0.9781659245491028, 0.9781659245491028, 0.9781659245491028, 0.9781659245491028, 0.9781659245491028, 0.9781659245491028]}\n"
          ]
        },
        {
          "output_type": "display_data",
          "data": {
            "text/plain": [
              "<Figure size 432x288 with 1 Axes>"
            ],
            "image/png": "[encoded data removed]"
          },
          "metadata": {
            "needs_background": "light"
          }
        }
      ]
    },
    {
      "cell_type": "markdown",
      "source": [
        "**Confusion matrix and prediction**"
      ],
      "metadata": {
        "id": "oEIT0q2dU5lE"
      },
      "id": "oEIT0q2dU5lE"
    },
    {
      "cell_type": "code",
      "execution_count": 73,
      "id": "bbee87d3",
      "metadata": {
        "id": "bbee87d3"
      },
      "outputs": [],
      "source": [
        "vgg_model = keras.models.load_model('/content/drive/MyDrive/save file task 1/VGG16_models.hdf5')"
      ]
    },
    {
      "cell_type": "code",
      "execution_count": 75,
      "id": "fd3df129",
      "metadata": {
        "id": "fd3df129",
        "colab": {
          "base_uri": "https://localhost:8080/"
        },
        "outputId": "ba5da665-0cec-434b-ddbf-6732ccab245b"
      },
      "outputs": [
        {
          "output_type": "stream",
          "name": "stdout",
          "text": [
            "Found 1315 images belonging to 6 classes.\n",
            "Found 229 images belonging to 6 classes.\n"
          ]
        },
        {
          "output_type": "stream",
          "name": "stderr",
          "text": [
            "/usr/local/lib/python3.7/dist-packages/ipykernel_launcher.py:2: UserWarning: `Model.evaluate_generator` is deprecated and will be removed in a future version. Please use `Model.evaluate`, which supports generators.\n",
            "  \n"
          ]
        },
        {
          "output_type": "execute_result",
          "data": {
            "text/plain": [
              "[115.62071228027344, 0.567685604095459]"
            ]
          },
          "metadata": {},
          "execution_count": 75
        }
      ],
      "source": [
        "callback,train_gen,val_gen=model_prep('vgg16','val_loss',2,5,0.000001)\n",
        "model.evaluate_generator(generator=val_gen)"
      ]
    },
    {
      "cell_type": "code",
      "source": [
        "predictions = model.predict_generator(val_gen,28)"
      ],
      "metadata": {
        "colab": {
          "base_uri": "https://localhost:8080/"
        },
        "id": "pYr2KM_ouWuJ",
        "outputId": "f899a6dc-4f15-4ab2-91ec-110ef81835ad"
      },
      "id": "pYr2KM_ouWuJ",
      "execution_count": 76,
      "outputs": [
        {
          "output_type": "stream",
          "name": "stderr",
          "text": [
            "/usr/local/lib/python3.7/dist-packages/ipykernel_launcher.py:1: UserWarning: `Model.predict_generator` is deprecated and will be removed in a future version. Please use `Model.predict`, which supports generators.\n",
            "  \"\"\"Entry point for launching an IPython kernel.\n",
            "WARNING:tensorflow:Your input ran out of data; interrupting training. Make sure that your dataset or generator can generate at least `steps_per_epoch * epochs` batches (in this case, 28 batches). You may need to use the repeat() function when building your dataset.\n"
          ]
        }
      ]
    },
    {
      "cell_type": "code",
      "source": [
        "y_pred = np.argmax(predictions, axis=1)\n",
        "cf_matrix = confusion_matrix(val_gen.classes, y_pred)\n",
        "print('Classification Report')\n",
        "print(classification_report(val_gen.classes, y_pred, target_names=Classes))\n",
        "plt.figure(figsize=(20,20))\n",
        "sns.heatmap(cf_matrix, annot=True, xticklabels=Classes, yticklabels=Classes, cmap='Blues')"
      ],
      "metadata": {
        "colab": {
          "base_uri": "https://localhost:8080/",
          "height": 1000
        },
        "id": "XYjztQDMuWfA",
        "outputId": "1431b0d3-1574-438d-ee8c-48121bea075e"
      },
      "id": "XYjztQDMuWfA",
      "execution_count": 77,
      "outputs": [
        {
          "output_type": "stream",
          "name": "stdout",
          "text": [
            "Classification Report\n",
            "              precision    recall  f1-score   support\n",
            "\n",
            "  blackgrass       0.87      0.57      0.69        35\n",
            "    charlock       0.96      0.62      0.76        40\n",
            "    cleavers       0.43      1.00      0.60        35\n",
            "     fat hen       1.00      0.29      0.44        49\n",
            "       maize       0.67      0.17      0.27        35\n",
            "       wheat       0.40      0.86      0.55        35\n",
            "\n",
            "    accuracy                           0.57       229\n",
            "   macro avg       0.72      0.59      0.55       229\n",
            "weighted avg       0.74      0.57      0.55       229\n",
            "\n"
          ]
        },
        {
          "output_type": "execute_result",
          "data": {
            "text/plain": [
              "<matplotlib.axes._subplots.AxesSubplot at 0x7f78d3296a90>"
            ]
          },
          "metadata": {},
          "execution_count": 77
        },
        {
          "output_type": "display_data",
          "data": {
            "text/plain": [
              "<Figure size 1440x1440 with 2 Axes>"
            ],
            "image/png": "[encoded data removed]"
          },
          "metadata": {
            "needs_background": "light"
          }
        }
      ]
    },
    {
      "cell_type": "code",
      "source": [
        ""
      ],
      "metadata": {
        "id": "MQYOc7TduWYH"
      },
      "id": "MQYOc7TduWYH",
      "execution_count": null,
      "outputs": []
    },
    {
      "cell_type": "code",
      "source": [
        ""
      ],
      "metadata": {
        "id": "0rDySKUvuWVV"
      },
      "id": "0rDySKUvuWVV",
      "execution_count": null,
      "outputs": []
    }
  ],
  "metadata": {
    "kernelspec": {
      "display_name": "Python 3",
      "language": "python",
      "name": "python3"
    },
    "language_info": {
      "codemirror_mode": {
        "name": "ipython",
        "version": 3
      },
      "file_extension": ".py",
      "mimetype": "text/x-python",
      "name": "python",
      "nbconvert_exporter": "python",
      "pygments_lexer": "ipython3",
      "version": "3.8.8"
    },
    "colab": {
      "name": "Site_spec_weed_mgmt_(VGG16).ipynb",
      "provenance": [],
      "collapsed_sections": [],
      "include_colab_link": true
    },
    "accelerator": "GPU",
    "gpuClass": "standard"
  },
  "nbformat": 4,
  "nbformat_minor": 5
}