{
  "cells": [
    {
      "cell_type": "markdown",
      "metadata": {
        "id": "view-in-github",
        "colab_type": "text"
      },
      "source": [
        "<a href=\"https://colab.research.google.com/github/rakezhjab/Advanced-machine-learning-assessment/blob/main/A2C_SEED70_Model.ipynb\" target=\"_parent\"><img src=\"https://colab.research.google.com/assets/colab-badge.svg\" alt=\"Open In Colab\"/></a>"
      ]
    },
    {
      "cell_type": "code",
      "execution_count": 16,
      "id": "4ee43f94",
      "metadata": {
        "colab": {
          "base_uri": "https://localhost:8080/"
        },
        "id": "4ee43f94",
        "outputId": "473f93ab-150d-448b-f920-e7c9639f0ac2"
      },
      "outputs": [
        {
          "output_type": "stream",
          "name": "stdout",
          "text": [
            "Looking in indexes: https://pypi.org/simple, https://us-python.pkg.dev/colab-wheels/public/simple/\n",
            "Requirement already satisfied: tensorflow-gpu in /usr/local/lib/python3.7/dist-packages (2.9.1)\n",
            "Requirement already satisfied: six>=1.12.0 in /usr/local/lib/python3.7/dist-packages (from tensorflow-gpu) (1.15.0)\n",
            "Requirement already satisfied: termcolor>=1.1.0 in /usr/local/lib/python3.7/dist-packages (from tensorflow-gpu) (1.1.0)\n",
            "Requirement already satisfied: gast<=0.4.0,>=0.2.1 in /usr/local/lib/python3.7/dist-packages (from tensorflow-gpu) (0.4.0)\n",
            "Requirement already satisfied: tensorflow-io-gcs-filesystem>=0.23.1 in /usr/local/lib/python3.7/dist-packages (from tensorflow-gpu) (0.26.0)\n",
            "Requirement already satisfied: tensorflow-estimator<2.10.0,>=2.9.0rc0 in /usr/local/lib/python3.7/dist-packages (from tensorflow-gpu) (2.9.0)\n",
            "Requirement already satisfied: opt-einsum>=2.3.2 in /usr/local/lib/python3.7/dist-packages (from tensorflow-gpu) (3.3.0)\n",
            "Requirement already satisfied: protobuf<3.20,>=3.9.2 in /usr/local/lib/python3.7/dist-packages (from tensorflow-gpu) (3.19.4)\n",
            "Requirement already satisfied: wrapt>=1.11.0 in /usr/local/lib/python3.7/dist-packages (from tensorflow-gpu) (1.14.1)\n",
            "Requirement already satisfied: h5py>=2.9.0 in /usr/local/lib/python3.7/dist-packages (from tensorflow-gpu) (3.1.0)\n",
            "Requirement already satisfied: absl-py>=1.0.0 in /usr/local/lib/python3.7/dist-packages (from tensorflow-gpu) (1.2.0)\n",
            "Requirement already satisfied: astunparse>=1.6.0 in /usr/local/lib/python3.7/dist-packages (from tensorflow-gpu) (1.6.3)\n",
            "Requirement already satisfied: keras-preprocessing>=1.1.1 in /usr/local/lib/python3.7/dist-packages (from tensorflow-gpu) (1.1.2)\n",
            "Requirement already satisfied: setuptools in /usr/local/lib/python3.7/dist-packages (from tensorflow-gpu) (57.4.0)\n",
            "Requirement already satisfied: grpcio<2.0,>=1.24.3 in /usr/local/lib/python3.7/dist-packages (from tensorflow-gpu) (1.47.0)\n",
            "Requirement already satisfied: flatbuffers<2,>=1.12 in /usr/local/lib/python3.7/dist-packages (from tensorflow-gpu) (1.12)\n",
            "Requirement already satisfied: tensorboard<2.10,>=2.9 in /usr/local/lib/python3.7/dist-packages (from tensorflow-gpu) (2.9.1)\n",
            "Requirement already satisfied: libclang>=13.0.0 in /usr/local/lib/python3.7/dist-packages (from tensorflow-gpu) (14.0.1)\n",
            "Requirement already satisfied: keras<2.10.0,>=2.9.0rc0 in /usr/local/lib/python3.7/dist-packages (from tensorflow-gpu) (2.9.0)\n",
            "Requirement already satisfied: packaging in /usr/local/lib/python3.7/dist-packages (from tensorflow-gpu) (21.3)\n",
            "Requirement already satisfied: typing-extensions>=3.6.6 in /usr/local/lib/python3.7/dist-packages (from tensorflow-gpu) (4.1.1)\n",
            "Requirement already satisfied: numpy>=1.20 in /usr/local/lib/python3.7/dist-packages (from tensorflow-gpu) (1.21.6)\n",
            "Requirement already satisfied: google-pasta>=0.1.1 in /usr/local/lib/python3.7/dist-packages (from tensorflow-gpu) (0.2.0)\n",
            "Requirement already satisfied: wheel<1.0,>=0.23.0 in /usr/local/lib/python3.7/dist-packages (from astunparse>=1.6.0->tensorflow-gpu) (0.37.1)\n",
            "Requirement already satisfied: cached-property in /usr/local/lib/python3.7/dist-packages (from h5py>=2.9.0->tensorflow-gpu) (1.5.2)\n",
            "Requirement already satisfied: tensorboard-plugin-wit>=1.6.0 in /usr/local/lib/python3.7/dist-packages (from tensorboard<2.10,>=2.9->tensorflow-gpu) (1.8.1)\n",
            "Requirement already satisfied: werkzeug>=1.0.1 in /usr/local/lib/python3.7/dist-packages (from tensorboard<2.10,>=2.9->tensorflow-gpu) (1.0.1)\n",
            "Requirement already satisfied: tensorboard-data-server<0.7.0,>=0.6.0 in /usr/local/lib/python3.7/dist-packages (from tensorboard<2.10,>=2.9->tensorflow-gpu) (0.6.1)\n",
            "Requirement already satisfied: google-auth-oauthlib<0.5,>=0.4.1 in /usr/local/lib/python3.7/dist-packages (from tensorboard<2.10,>=2.9->tensorflow-gpu) (0.4.6)\n",
            "Requirement already satisfied: google-auth<3,>=1.6.3 in /usr/local/lib/python3.7/dist-packages (from tensorboard<2.10,>=2.9->tensorflow-gpu) (1.35.0)\n",
            "Requirement already satisfied: markdown>=2.6.8 in /usr/local/lib/python3.7/dist-packages (from tensorboard<2.10,>=2.9->tensorflow-gpu) (3.4.1)\n",
            "Requirement already satisfied: requests<3,>=2.21.0 in /usr/local/lib/python3.7/dist-packages (from tensorboard<2.10,>=2.9->tensorflow-gpu) (2.23.0)\n",
            "Requirement already satisfied: cachetools<5.0,>=2.0.0 in /usr/local/lib/python3.7/dist-packages (from google-auth<3,>=1.6.3->tensorboard<2.10,>=2.9->tensorflow-gpu) (4.2.4)\n",
            "Requirement already satisfied: rsa<5,>=3.1.4 in /usr/local/lib/python3.7/dist-packages (from google-auth<3,>=1.6.3->tensorboard<2.10,>=2.9->tensorflow-gpu) (4.9)\n",
            "Requirement already satisfied: pyasn1-modules>=0.2.1 in /usr/local/lib/python3.7/dist-packages (from google-auth<3,>=1.6.3->tensorboard<2.10,>=2.9->tensorflow-gpu) (0.2.8)\n",
            "Requirement already satisfied: requests-oauthlib>=0.7.0 in /usr/local/lib/python3.7/dist-packages (from google-auth-oauthlib<0.5,>=0.4.1->tensorboard<2.10,>=2.9->tensorflow-gpu) (1.3.1)\n",
            "Requirement already satisfied: importlib-metadata>=4.4 in /usr/local/lib/python3.7/dist-packages (from markdown>=2.6.8->tensorboard<2.10,>=2.9->tensorflow-gpu) (4.12.0)\n",
            "Requirement already satisfied: zipp>=0.5 in /usr/local/lib/python3.7/dist-packages (from importlib-metadata>=4.4->markdown>=2.6.8->tensorboard<2.10,>=2.9->tensorflow-gpu) (3.8.1)\n",
            "Requirement already satisfied: pyasn1<0.5.0,>=0.4.6 in /usr/local/lib/python3.7/dist-packages (from pyasn1-modules>=0.2.1->google-auth<3,>=1.6.3->tensorboard<2.10,>=2.9->tensorflow-gpu) (0.4.8)\n",
            "Requirement already satisfied: idna<3,>=2.5 in /usr/local/lib/python3.7/dist-packages (from requests<3,>=2.21.0->tensorboard<2.10,>=2.9->tensorflow-gpu) (2.10)\n",
            "Requirement already satisfied: certifi>=2017.4.17 in /usr/local/lib/python3.7/dist-packages (from requests<3,>=2.21.0->tensorboard<2.10,>=2.9->tensorflow-gpu) (2022.6.15)\n",
            "Requirement already satisfied: chardet<4,>=3.0.2 in /usr/local/lib/python3.7/dist-packages (from requests<3,>=2.21.0->tensorboard<2.10,>=2.9->tensorflow-gpu) (3.0.4)\n",
            "Requirement already satisfied: urllib3!=1.25.0,!=1.25.1,<1.26,>=1.21.1 in /usr/local/lib/python3.7/dist-packages (from requests<3,>=2.21.0->tensorboard<2.10,>=2.9->tensorflow-gpu) (1.24.3)\n",
            "Requirement already satisfied: oauthlib>=3.0.0 in /usr/local/lib/python3.7/dist-packages (from requests-oauthlib>=0.7.0->google-auth-oauthlib<0.5,>=0.4.1->tensorboard<2.10,>=2.9->tensorflow-gpu) (3.2.0)\n",
            "Requirement already satisfied: pyparsing!=3.0.5,>=2.0.2 in /usr/local/lib/python3.7/dist-packages (from packaging->tensorflow-gpu) (3.0.9)\n"
          ]
        }
      ],
      "source": [
        "pip install tensorflow-gpu"
      ]
    },
    {
      "cell_type": "markdown",
      "id": "af7724f1",
      "metadata": {
        "id": "af7724f1"
      },
      "source": [
        "**Mario game setup**"
      ]
    },
    {
      "cell_type": "code",
      "execution_count": 17,
      "id": "65bd6260",
      "metadata": {
        "colab": {
          "base_uri": "https://localhost:8080/"
        },
        "id": "65bd6260",
        "outputId": "6746609b-5e15-4a93-9e89-3940fef93491"
      },
      "outputs": [
        {
          "output_type": "stream",
          "name": "stdout",
          "text": [
            "Looking in indexes: https://pypi.org/simple, https://us-python.pkg.dev/colab-wheels/public/simple/\n",
            "Requirement already satisfied: gym_super_mario_bros==7.3.0 in /usr/local/lib/python3.7/dist-packages (7.3.0)\n",
            "Requirement already satisfied: nes_py in /usr/local/lib/python3.7/dist-packages (8.2.1)\n",
            "Requirement already satisfied: gym>=0.17.2 in /usr/local/lib/python3.7/dist-packages (from nes_py) (0.21.0)\n",
            "Requirement already satisfied: tqdm>=4.48.2 in /usr/local/lib/python3.7/dist-packages (from nes_py) (4.64.0)\n",
            "Requirement already satisfied: numpy>=1.18.5 in /usr/local/lib/python3.7/dist-packages (from nes_py) (1.21.6)\n",
            "Requirement already satisfied: pyglet<=1.5.21,>=1.4.0 in /usr/local/lib/python3.7/dist-packages (from nes_py) (1.5.0)\n",
            "Requirement already satisfied: importlib-metadata>=4.8.1 in /usr/local/lib/python3.7/dist-packages (from gym>=0.17.2->nes_py) (4.12.0)\n",
            "Requirement already satisfied: cloudpickle>=1.2.0 in /usr/local/lib/python3.7/dist-packages (from gym>=0.17.2->nes_py) (1.3.0)\n",
            "Requirement already satisfied: zipp>=0.5 in /usr/local/lib/python3.7/dist-packages (from importlib-metadata>=4.8.1->gym>=0.17.2->nes_py) (3.8.1)\n",
            "Requirement already satisfied: typing-extensions>=3.6.4 in /usr/local/lib/python3.7/dist-packages (from importlib-metadata>=4.8.1->gym>=0.17.2->nes_py) (4.1.1)\n",
            "Requirement already satisfied: future in /usr/local/lib/python3.7/dist-packages (from pyglet<=1.5.21,>=1.4.0->nes_py) (0.16.0)\n"
          ]
        }
      ],
      "source": [
        "!pip install gym_super_mario_bros==7.3.0 nes_py"
      ]
    },
    {
      "cell_type": "code",
      "execution_count": 18,
      "id": "e2410d2a",
      "metadata": {
        "id": "e2410d2a"
      },
      "outputs": [],
      "source": [
        "# Importing the game\n",
        "import gym_super_mario_bros\n",
        "# Importing the Joypad wrapper\n",
        "from nes_py.wrappers import JoypadSpace\n",
        "# Importing the SIMPLIFIED controls\n",
        "from gym_super_mario_bros.actions import SIMPLE_MOVEMENT"
      ]
    },
    {
      "cell_type": "code",
      "execution_count": 19,
      "id": "91aa3bce",
      "metadata": {
        "id": "91aa3bce"
      },
      "outputs": [],
      "source": [
        "# Setup game\n",
        "env = gym_super_mario_bros.make('SuperMarioBros2-v0')\n",
        "env = JoypadSpace(env, SIMPLE_MOVEMENT)"
      ]
    },
    {
      "cell_type": "markdown",
      "id": "1b89912a",
      "metadata": {
        "id": "1b89912a"
      },
      "source": [
        "**Preprocessing the environment**"
      ]
    },
    {
      "cell_type": "code",
      "execution_count": 20,
      "id": "08c280a7",
      "metadata": {
        "colab": {
          "base_uri": "https://localhost:8080/",
          "height": 554
        },
        "id": "08c280a7",
        "outputId": "cb45cd6a-e2e9-4069-ef40-287e0eeae96f"
      },
      "outputs": [
        {
          "output_type": "stream",
          "name": "stdout",
          "text": [
            "Looking in indexes: https://pypi.org/simple, https://us-python.pkg.dev/colab-wheels/public/simple/\n",
            "Looking in links: https://download.pytorch.org/whl/cu113/torch_stable.html\n",
            "Collecting torch==1.10.1+cu113\n",
            "tcmalloc: large alloc 1821458432 bytes == 0x306a000 @  0x7fac20c0a1e7 0x4a3940 0x5b438c 0x5ea94f 0x5939cb 0x594cd3 0x5d0ecb 0x59aeca 0x515655 0x593dd7 0x511e2c 0x593dd7 0x511e2c 0x549e0e 0x4bca8a 0x59c019 0x595ef6 0x5134a6 0x549576 0x4bca8a 0x59c019 0x595ef6 0x5134a6 0x549576 0x4bca8a 0x59c019 0x595ef6 0x5134a6 0x549e0e 0x4bca8a 0x59c019\n",
            "tcmalloc: large alloc 1821458432 bytes == 0x6f97e000 @  0x7fac20c0a1e7 0x4a3940 0x5b438c 0x64cfe7 0x59b076 0x515655 0x593dd7 0x511e2c 0x593dd7 0x511e2c 0x549e0e 0x4bca8a 0x59c019 0x595ef6 0x5134a6 0x549576 0x4bca8a 0x59c019 0x595ef6 0x5134a6 0x549576 0x4bca8a 0x59c019 0x595ef6 0x5134a6 0x549e0e 0x4bca8a 0x59c019 0x595ef6 0x5134a6 0x549576\n",
            "tcmalloc: large alloc 1821458432 bytes == 0xdc292000 @  0x7fac20c0a1e7 0x4a3940 0x59b5e2 0x63a515 0x63bd66 0x63be16 0x59afff 0x515655 0x593dd7 0x511e2c 0x549576 0x593fce 0x548ae9 0x5127f1 0x593dd7 0x5118f8 0x593dd7 0x511e2c 0x593dd7 0x511e2c 0x549e0e 0x4bca8a 0x59c019 0x595ef6 0x5134a6 0x549576 0x4bca8a 0x59c019 0x595ef6 0x5134a6 0x549576\n",
            "tcmalloc: large alloc 1821458432 bytes == 0x148ba6000 @  0x7fac20c0a1e7 0x4a3940 0x59b6f0 0x59f499 0x4d3969 0x512147 0x549576 0x593fce 0x511e2c 0x549576 0x593fce 0x511e2c 0x549e0e 0x593fce 0x511e2c 0x549e0e 0x593fce 0x511e2c 0x549e0e 0x593fce 0x511e2c 0x549576 0x593fce 0x548ae9 0x5127f1 0x593dd7 0x5118f8 0x593dd7 0x511e2c 0x593dd7 0x511e2c\n",
            "tcmalloc: large alloc 1821458432 bytes == 0x1b54ba000 @  0x7fac20c0a1e7 0x4a3940 0x5b438c 0x638cb2 0x59644e 0x5946b8 0x515600 0x549e0e 0x593fce 0x511e2c 0x549e0e 0x593fce 0x511e2c 0x549e0e 0x593fce 0x511e2c 0x549576 0x593fce 0x548ae9 0x5127f1 0x593dd7 0x5118f8 0x593dd7 0x511e2c 0x593dd7 0x511e2c 0x549e0e 0x4bca8a 0x59c019 0x595ef6 0x5134a6\n",
            "tcmalloc: large alloc 2276827136 bytes == 0x6f97e000 @  0x7fac20c0b615 0x592b76 0x4df71e 0x59afff 0x515655 0x549576 0x593fce 0x511e2c 0x549576 0x593fce 0x511e2c 0x549576 0x593fce 0x511e2c 0x549576 0x593fce 0x511e2c 0x549576 0x593fce 0x511e2c 0x593dd7 0x511e2c 0x549576 0x593fce 0x548ae9 0x5127f1 0x549576 0x593fce 0x511e2c 0x549e0e 0x593fce\n",
            "  Using cached https://download.pytorch.org/whl/cu113/torch-1.10.1%2Bcu113-cp37-cp37m-linux_x86_64.whl (1821.5 MB)\n",
            "Requirement already satisfied: torchvision==0.11.2+cu113 in /usr/local/lib/python3.7/dist-packages (0.11.2+cu113)\n",
            "Requirement already satisfied: torchaudio===0.10.1+cu113 in /usr/local/lib/python3.7/dist-packages (0.10.1+cu113)\n",
            "Requirement already satisfied: typing-extensions in /usr/local/lib/python3.7/dist-packages (from torch==1.10.1+cu113) (4.1.1)\n",
            "Requirement already satisfied: numpy in /usr/local/lib/python3.7/dist-packages (from torchvision==0.11.2+cu113) (1.21.6)\n",
            "Requirement already satisfied: pillow!=8.3.0,>=5.3.0 in /usr/local/lib/python3.7/dist-packages (from torchvision==0.11.2+cu113) (7.1.2)\n",
            "Installing collected packages: torch\n",
            "  Attempting uninstall: torch\n",
            "    Found existing installation: torch 1.12.0\n",
            "    Uninstalling torch-1.12.0:\n",
            "      Successfully uninstalled torch-1.12.0\n",
            "\u001b[31mERROR: pip's dependency resolver does not currently take into account all the packages that are installed. This behaviour is the source of the following dependency conflicts.\n",
            "torchtext 0.13.0 requires torch==1.12.0, but you have torch 1.10.1+cu113 which is incompatible.\n",
            "stable-baselines3 1.6.0 requires torch>=1.11, but you have torch 1.10.1+cu113 which is incompatible.\u001b[0m\n",
            "Successfully installed torch-1.10.1+cu113\n"
          ]
        },
        {
          "output_type": "display_data",
          "data": {
            "application/vnd.colab-display-data+json": {
              "pip_warning": {
                "packages": [
                  "torch"
                ]
              }
            }
          },
          "metadata": {}
        }
      ],
      "source": [
        "# Installing pytorch\n",
        "!pip install torch==1.10.1+cu113 torchvision==0.11.2+cu113 torchaudio===0.10.1+cu113 -f https://download.pytorch.org/whl/cu113/torch_stable.html"
      ]
    },
    {
      "cell_type": "code",
      "execution_count": 21,
      "id": "986f07ad",
      "metadata": {
        "colab": {
          "base_uri": "https://localhost:8080/",
          "height": 1000
        },
        "id": "986f07ad",
        "outputId": "d34e387f-04eb-4f7b-ef76-040ccbf29003"
      },
      "outputs": [
        {
          "output_type": "stream",
          "name": "stdout",
          "text": [
            "Looking in indexes: https://pypi.org/simple, https://us-python.pkg.dev/colab-wheels/public/simple/\n",
            "Requirement already satisfied: stable-baselines3[extra] in /usr/local/lib/python3.7/dist-packages (1.6.0)\n",
            "Requirement already satisfied: cloudpickle in /usr/local/lib/python3.7/dist-packages (from stable-baselines3[extra]) (1.3.0)\n",
            "Requirement already satisfied: matplotlib in /usr/local/lib/python3.7/dist-packages (from stable-baselines3[extra]) (3.2.2)\n",
            "Requirement already satisfied: pandas in /usr/local/lib/python3.7/dist-packages (from stable-baselines3[extra]) (1.3.5)\n",
            "Collecting torch>=1.11\n",
            "  Using cached torch-1.12.0-cp37-cp37m-manylinux1_x86_64.whl (776.3 MB)\n",
            "Requirement already satisfied: gym==0.21 in /usr/local/lib/python3.7/dist-packages (from stable-baselines3[extra]) (0.21.0)\n",
            "Requirement already satisfied: numpy in /usr/local/lib/python3.7/dist-packages (from stable-baselines3[extra]) (1.21.6)\n",
            "Requirement already satisfied: pillow in /usr/local/lib/python3.7/dist-packages (from stable-baselines3[extra]) (7.1.2)\n",
            "Requirement already satisfied: ale-py==0.7.4 in /usr/local/lib/python3.7/dist-packages (from stable-baselines3[extra]) (0.7.4)\n",
            "Requirement already satisfied: opencv-python in /usr/local/lib/python3.7/dist-packages (from stable-baselines3[extra]) (4.6.0.66)\n",
            "Requirement already satisfied: protobuf~=3.19.0 in /usr/local/lib/python3.7/dist-packages (from stable-baselines3[extra]) (3.19.4)\n",
            "Requirement already satisfied: tensorboard>=2.2.0 in /usr/local/lib/python3.7/dist-packages (from stable-baselines3[extra]) (2.9.1)\n",
            "Requirement already satisfied: psutil in /usr/local/lib/python3.7/dist-packages (from stable-baselines3[extra]) (5.4.8)\n",
            "Requirement already satisfied: autorom[accept-rom-license]~=0.4.2 in /usr/local/lib/python3.7/dist-packages (from stable-baselines3[extra]) (0.4.2)\n",
            "Requirement already satisfied: importlib-metadata>=4.10.0 in /usr/local/lib/python3.7/dist-packages (from ale-py==0.7.4->stable-baselines3[extra]) (4.12.0)\n",
            "Requirement already satisfied: importlib-resources in /usr/local/lib/python3.7/dist-packages (from ale-py==0.7.4->stable-baselines3[extra]) (5.9.0)\n",
            "Requirement already satisfied: click in /usr/local/lib/python3.7/dist-packages (from autorom[accept-rom-license]~=0.4.2->stable-baselines3[extra]) (7.1.2)\n",
            "Requirement already satisfied: tqdm in /usr/local/lib/python3.7/dist-packages (from autorom[accept-rom-license]~=0.4.2->stable-baselines3[extra]) (4.64.0)\n",
            "Requirement already satisfied: requests in /usr/local/lib/python3.7/dist-packages (from autorom[accept-rom-license]~=0.4.2->stable-baselines3[extra]) (2.23.0)\n",
            "Requirement already satisfied: AutoROM.accept-rom-license in /usr/local/lib/python3.7/dist-packages (from autorom[accept-rom-license]~=0.4.2->stable-baselines3[extra]) (0.4.2)\n",
            "Requirement already satisfied: typing-extensions>=3.6.4 in /usr/local/lib/python3.7/dist-packages (from importlib-metadata>=4.10.0->ale-py==0.7.4->stable-baselines3[extra]) (4.1.1)\n",
            "Requirement already satisfied: zipp>=0.5 in /usr/local/lib/python3.7/dist-packages (from importlib-metadata>=4.10.0->ale-py==0.7.4->stable-baselines3[extra]) (3.8.1)\n",
            "Requirement already satisfied: wheel>=0.26 in /usr/local/lib/python3.7/dist-packages (from tensorboard>=2.2.0->stable-baselines3[extra]) (0.37.1)\n",
            "Requirement already satisfied: werkzeug>=1.0.1 in /usr/local/lib/python3.7/dist-packages (from tensorboard>=2.2.0->stable-baselines3[extra]) (1.0.1)\n",
            "Requirement already satisfied: tensorboard-plugin-wit>=1.6.0 in /usr/local/lib/python3.7/dist-packages (from tensorboard>=2.2.0->stable-baselines3[extra]) (1.8.1)\n",
            "Requirement already satisfied: tensorboard-data-server<0.7.0,>=0.6.0 in /usr/local/lib/python3.7/dist-packages (from tensorboard>=2.2.0->stable-baselines3[extra]) (0.6.1)\n",
            "Requirement already satisfied: markdown>=2.6.8 in /usr/local/lib/python3.7/dist-packages (from tensorboard>=2.2.0->stable-baselines3[extra]) (3.4.1)\n",
            "Requirement already satisfied: absl-py>=0.4 in /usr/local/lib/python3.7/dist-packages (from tensorboard>=2.2.0->stable-baselines3[extra]) (1.2.0)\n",
            "Requirement already satisfied: grpcio>=1.24.3 in /usr/local/lib/python3.7/dist-packages (from tensorboard>=2.2.0->stable-baselines3[extra]) (1.47.0)\n",
            "Requirement already satisfied: google-auth<3,>=1.6.3 in /usr/local/lib/python3.7/dist-packages (from tensorboard>=2.2.0->stable-baselines3[extra]) (1.35.0)\n",
            "Requirement already satisfied: google-auth-oauthlib<0.5,>=0.4.1 in /usr/local/lib/python3.7/dist-packages (from tensorboard>=2.2.0->stable-baselines3[extra]) (0.4.6)\n",
            "Requirement already satisfied: setuptools>=41.0.0 in /usr/local/lib/python3.7/dist-packages (from tensorboard>=2.2.0->stable-baselines3[extra]) (57.4.0)\n",
            "Requirement already satisfied: rsa<5,>=3.1.4 in /usr/local/lib/python3.7/dist-packages (from google-auth<3,>=1.6.3->tensorboard>=2.2.0->stable-baselines3[extra]) (4.9)\n",
            "Requirement already satisfied: pyasn1-modules>=0.2.1 in /usr/local/lib/python3.7/dist-packages (from google-auth<3,>=1.6.3->tensorboard>=2.2.0->stable-baselines3[extra]) (0.2.8)\n",
            "Requirement already satisfied: six>=1.9.0 in /usr/local/lib/python3.7/dist-packages (from google-auth<3,>=1.6.3->tensorboard>=2.2.0->stable-baselines3[extra]) (1.15.0)\n",
            "Requirement already satisfied: cachetools<5.0,>=2.0.0 in /usr/local/lib/python3.7/dist-packages (from google-auth<3,>=1.6.3->tensorboard>=2.2.0->stable-baselines3[extra]) (4.2.4)\n",
            "Requirement already satisfied: requests-oauthlib>=0.7.0 in /usr/local/lib/python3.7/dist-packages (from google-auth-oauthlib<0.5,>=0.4.1->tensorboard>=2.2.0->stable-baselines3[extra]) (1.3.1)\n",
            "Requirement already satisfied: pyasn1<0.5.0,>=0.4.6 in /usr/local/lib/python3.7/dist-packages (from pyasn1-modules>=0.2.1->google-auth<3,>=1.6.3->tensorboard>=2.2.0->stable-baselines3[extra]) (0.4.8)\n",
            "Requirement already satisfied: chardet<4,>=3.0.2 in /usr/local/lib/python3.7/dist-packages (from requests->autorom[accept-rom-license]~=0.4.2->stable-baselines3[extra]) (3.0.4)\n",
            "Requirement already satisfied: urllib3!=1.25.0,!=1.25.1,<1.26,>=1.21.1 in /usr/local/lib/python3.7/dist-packages (from requests->autorom[accept-rom-license]~=0.4.2->stable-baselines3[extra]) (1.24.3)\n",
            "Requirement already satisfied: certifi>=2017.4.17 in /usr/local/lib/python3.7/dist-packages (from requests->autorom[accept-rom-license]~=0.4.2->stable-baselines3[extra]) (2022.6.15)\n",
            "Requirement already satisfied: idna<3,>=2.5 in /usr/local/lib/python3.7/dist-packages (from requests->autorom[accept-rom-license]~=0.4.2->stable-baselines3[extra]) (2.10)\n",
            "Requirement already satisfied: oauthlib>=3.0.0 in /usr/local/lib/python3.7/dist-packages (from requests-oauthlib>=0.7.0->google-auth-oauthlib<0.5,>=0.4.1->tensorboard>=2.2.0->stable-baselines3[extra]) (3.2.0)\n",
            "Requirement already satisfied: cycler>=0.10 in /usr/local/lib/python3.7/dist-packages (from matplotlib->stable-baselines3[extra]) (0.11.0)\n",
            "Requirement already satisfied: pyparsing!=2.0.4,!=2.1.2,!=2.1.6,>=2.0.1 in /usr/local/lib/python3.7/dist-packages (from matplotlib->stable-baselines3[extra]) (3.0.9)\n",
            "Requirement already satisfied: python-dateutil>=2.1 in /usr/local/lib/python3.7/dist-packages (from matplotlib->stable-baselines3[extra]) (2.8.2)\n",
            "Requirement already satisfied: kiwisolver>=1.0.1 in /usr/local/lib/python3.7/dist-packages (from matplotlib->stable-baselines3[extra]) (1.4.4)\n",
            "Requirement already satisfied: pytz>=2017.3 in /usr/local/lib/python3.7/dist-packages (from pandas->stable-baselines3[extra]) (2022.1)\n",
            "Installing collected packages: torch\n",
            "  Attempting uninstall: torch\n",
            "    Found existing installation: torch 1.10.1+cu113\n",
            "    Uninstalling torch-1.10.1+cu113:\n",
            "      Successfully uninstalled torch-1.10.1+cu113\n",
            "\u001b[31mERROR: pip's dependency resolver does not currently take into account all the packages that are installed. This behaviour is the source of the following dependency conflicts.\n",
            "torchvision 0.11.2+cu113 requires torch==1.10.1, but you have torch 1.12.0 which is incompatible.\n",
            "torchaudio 0.10.1+cu113 requires torch==1.10.1, but you have torch 1.12.0 which is incompatible.\u001b[0m\n",
            "Successfully installed torch-1.12.0\n"
          ]
        },
        {
          "output_type": "display_data",
          "data": {
            "application/vnd.colab-display-data+json": {
              "pip_warning": {
                "packages": [
                  "torch"
                ]
              }
            }
          },
          "metadata": {}
        }
      ],
      "source": [
        "# Installing the stable baselines for Reinforcement Learning stuff\n",
        "!pip install stable-baselines3[extra]"
      ]
    },
    {
      "cell_type": "code",
      "execution_count": 22,
      "id": "905d571f",
      "metadata": {
        "id": "905d571f"
      },
      "outputs": [],
      "source": [
        "# Importing the Frame Stacker Wrapper and GrayScaling Wrapper\n",
        "from gym.wrappers import GrayScaleObservation\n",
        "# Importing the Vectorization Wrappers\n",
        "from stable_baselines3.common.vec_env import VecFrameStack, DummyVecEnv\n",
        "# Importing the Matplotlib to show the impact of frame stacking\n",
        "from matplotlib import pyplot as plt"
      ]
    },
    {
      "cell_type": "markdown",
      "id": "f64432b5",
      "metadata": {
        "id": "f64432b5"
      },
      "source": [
        "**Train the Reinforcement Learning model**"
      ]
    },
    {
      "cell_type": "code",
      "execution_count": 23,
      "id": "71adbf86",
      "metadata": {
        "id": "71adbf86"
      },
      "outputs": [],
      "source": [
        "# Import os for file path management\n",
        "import os \n",
        "# Import PPO for algos\n",
        "from stable_baselines3 import A2C\n",
        "# Import Base Callback for saving models\n",
        "from stable_baselines3.common.callbacks import BaseCallback"
      ]
    },
    {
      "cell_type": "code",
      "execution_count": 24,
      "id": "4ed307e8",
      "metadata": {
        "id": "4ed307e8"
      },
      "outputs": [],
      "source": [
        "class TrainAndLoggingCallback(BaseCallback):\n",
        "\n",
        "    def __init__(self, check_freq, save_path, verbose=1):\n",
        "        super(TrainAndLoggingCallback, self).__init__(verbose)\n",
        "        self.check_freq = check_freq\n",
        "        self.save_path = save_path\n",
        "\n",
        "    def _init_callback(self):\n",
        "        if self.save_path is not None:\n",
        "            os.makedirs(self.save_path, exist_ok=True)\n",
        "\n",
        "    def _on_step(self):\n",
        "        if self.n_calls % self.check_freq == 0:\n",
        "            model_path = os.path.join(self.save_path, 'best_model_{}'.format(self.n_calls))\n",
        "            self.model.save(model_path)\n",
        "\n",
        "        return True"
      ]
    },
    {
      "cell_type": "code",
      "execution_count": 25,
      "id": "b6e4195e",
      "metadata": {
        "id": "b6e4195e"
      },
      "outputs": [],
      "source": [
        "CHECKPOINT_DIRECTORY = './training/'\n",
        "LOG_DIRECTORY = './logs/'"
      ]
    },
    {
      "cell_type": "code",
      "execution_count": 26,
      "id": "c21db110",
      "metadata": {
        "id": "c21db110"
      },
      "outputs": [],
      "source": [
        "# Setup the model saving callback\n",
        "callback = TrainAndLoggingCallback(check_freq=10000, save_path=CHECKPOINT_DIRECTORY)"
      ]
    },
    {
      "cell_type": "code",
      "execution_count": 27,
      "id": "f3887484",
      "metadata": {
        "colab": {
          "base_uri": "https://localhost:8080/"
        },
        "id": "f3887484",
        "outputId": "6a6fb94f-64ba-40da-e8c7-b05eeea5d88e"
      },
      "outputs": [
        {
          "output_type": "stream",
          "name": "stdout",
          "text": [
            "Using cuda device\n",
            "Wrapping the env with a `Monitor` wrapper\n",
            "Wrapping the env in a DummyVecEnv.\n",
            "Wrapping the env in a VecTransposeImage.\n"
          ]
        }
      ],
      "source": [
        "# AI model started\n",
        "model = A2C('CnnPolicy', env, verbose=1, tensorboard_log=LOG_DIRECTORY, learning_rate=0.000001, seed=70,\n",
        "            n_steps=512) "
      ]
    },
    {
      "cell_type": "code",
      "execution_count": 28,
      "id": "5dadce78",
      "metadata": {
        "colab": {
          "base_uri": "https://localhost:8080/"
        },
        "id": "5dadce78",
        "outputId": "986757df-05e4-421d-f2fb-13b79088196e"
      },
      "outputs": [
        {
          "output_type": "stream",
          "name": "stdout",
          "text": [
            "Logging to ./logs/A2C_2\n"
          ]
        },
        {
          "output_type": "stream",
          "name": "stderr",
          "text": [
            "/usr/local/lib/python3.7/dist-packages/gym_super_mario_bros/smb_env.py:148: RuntimeWarning: overflow encountered in ubyte_scalars\n",
            "  return (self.ram[0x86] - self.ram[0x071c]) % 256\n"
          ]
        },
        {
          "output_type": "stream",
          "name": "stdout",
          "text": [
            "------------------------------------\n",
            "| rollout/              |          |\n",
            "|    ep_len_mean        | 1.23e+04 |\n",
            "|    ep_rew_mean        | 347      |\n",
            "| time/                 |          |\n",
            "|    fps                | 185      |\n",
            "|    iterations         | 100      |\n",
            "|    time_elapsed       | 275      |\n",
            "|    total_timesteps    | 51200    |\n",
            "| train/                |          |\n",
            "|    entropy_loss       | -1.95    |\n",
            "|    explained_variance | -0.0804  |\n",
            "|    learning_rate      | 1e-06    |\n",
            "|    n_updates          | 99       |\n",
            "|    policy_loss        | -0.473   |\n",
            "|    value_loss         | 0.34     |\n",
            "------------------------------------\n",
            "------------------------------------\n",
            "| rollout/              |          |\n",
            "|    ep_len_mean        | 1.46e+04 |\n",
            "|    ep_rew_mean        | 357      |\n",
            "| time/                 |          |\n",
            "|    fps                | 187      |\n",
            "|    iterations         | 200      |\n",
            "|    time_elapsed       | 547      |\n",
            "|    total_timesteps    | 102400   |\n",
            "| train/                |          |\n",
            "|    entropy_loss       | -1.95    |\n",
            "|    explained_variance | -0.00573 |\n",
            "|    learning_rate      | 1e-06    |\n",
            "|    n_updates          | 199      |\n",
            "|    policy_loss        | -0.253   |\n",
            "|    value_loss         | 0.2      |\n",
            "------------------------------------\n",
            "------------------------------------\n",
            "| rollout/              |          |\n",
            "|    ep_len_mean        | 1.62e+04 |\n",
            "|    ep_rew_mean        | 366      |\n",
            "| time/                 |          |\n",
            "|    fps                | 187      |\n",
            "|    iterations         | 300      |\n",
            "|    time_elapsed       | 819      |\n",
            "|    total_timesteps    | 153600   |\n",
            "| train/                |          |\n",
            "|    entropy_loss       | -1.95    |\n",
            "|    explained_variance | 0.0123   |\n",
            "|    learning_rate      | 1e-06    |\n",
            "|    n_updates          | 299      |\n",
            "|    policy_loss        | -0.318   |\n",
            "|    value_loss         | 0.274    |\n",
            "------------------------------------\n",
            "------------------------------------\n",
            "| rollout/              |          |\n",
            "|    ep_len_mean        | 1.62e+04 |\n",
            "|    ep_rew_mean        | 365      |\n",
            "| time/                 |          |\n",
            "|    fps                | 187      |\n",
            "|    iterations         | 400      |\n",
            "|    time_elapsed       | 1092     |\n",
            "|    total_timesteps    | 204800   |\n",
            "| train/                |          |\n",
            "|    entropy_loss       | -1.95    |\n",
            "|    explained_variance | 0.00922  |\n",
            "|    learning_rate      | 1e-06    |\n",
            "|    n_updates          | 399      |\n",
            "|    policy_loss        | -0.0133  |\n",
            "|    value_loss         | 0.306    |\n",
            "------------------------------------\n",
            "------------------------------------\n",
            "| rollout/              |          |\n",
            "|    ep_len_mean        | 1.69e+04 |\n",
            "|    ep_rew_mean        | 393      |\n",
            "| time/                 |          |\n",
            "|    fps                | 187      |\n",
            "|    iterations         | 500      |\n",
            "|    time_elapsed       | 1364     |\n",
            "|    total_timesteps    | 256000   |\n",
            "| train/                |          |\n",
            "|    entropy_loss       | -1.95    |\n",
            "|    explained_variance | 0.0134   |\n",
            "|    learning_rate      | 1e-06    |\n",
            "|    n_updates          | 499      |\n",
            "|    policy_loss        | 0.139    |\n",
            "|    value_loss         | 0.31     |\n",
            "------------------------------------\n",
            "------------------------------------\n",
            "| rollout/              |          |\n",
            "|    ep_len_mean        | 1.77e+04 |\n",
            "|    ep_rew_mean        | 416      |\n",
            "| time/                 |          |\n",
            "|    fps                | 187      |\n",
            "|    iterations         | 600      |\n",
            "|    time_elapsed       | 1637     |\n",
            "|    total_timesteps    | 307200   |\n",
            "| train/                |          |\n",
            "|    entropy_loss       | -1.95    |\n",
            "|    explained_variance | 0.0407   |\n",
            "|    learning_rate      | 1e-06    |\n",
            "|    n_updates          | 599      |\n",
            "|    policy_loss        | -0.0176  |\n",
            "|    value_loss         | 0.35     |\n",
            "------------------------------------\n",
            "------------------------------------\n",
            "| rollout/              |          |\n",
            "|    ep_len_mean        | 1.75e+04 |\n",
            "|    ep_rew_mean        | 410      |\n",
            "| time/                 |          |\n",
            "|    fps                | 187      |\n",
            "|    iterations         | 700      |\n",
            "|    time_elapsed       | 1909     |\n",
            "|    total_timesteps    | 358400   |\n",
            "| train/                |          |\n",
            "|    entropy_loss       | -1.95    |\n",
            "|    explained_variance | 0.0561   |\n",
            "|    learning_rate      | 1e-06    |\n",
            "|    n_updates          | 699      |\n",
            "|    policy_loss        | -0.0857  |\n",
            "|    value_loss         | 0.243    |\n",
            "------------------------------------\n",
            "------------------------------------\n",
            "| rollout/              |          |\n",
            "|    ep_len_mean        | 1.7e+04  |\n",
            "|    ep_rew_mean        | 447      |\n",
            "| time/                 |          |\n",
            "|    fps                | 187      |\n",
            "|    iterations         | 800      |\n",
            "|    time_elapsed       | 2181     |\n",
            "|    total_timesteps    | 409600   |\n",
            "| train/                |          |\n",
            "|    entropy_loss       | -1.95    |\n",
            "|    explained_variance | 0.0224   |\n",
            "|    learning_rate      | 1e-06    |\n",
            "|    n_updates          | 799      |\n",
            "|    policy_loss        | 0.253    |\n",
            "|    value_loss         | 0.181    |\n",
            "------------------------------------\n",
            "------------------------------------\n",
            "| rollout/              |          |\n",
            "|    ep_len_mean        | 1.66e+04 |\n",
            "|    ep_rew_mean        | 447      |\n",
            "| time/                 |          |\n",
            "|    fps                | 187      |\n",
            "|    iterations         | 900      |\n",
            "|    time_elapsed       | 2453     |\n",
            "|    total_timesteps    | 460800   |\n",
            "| train/                |          |\n",
            "|    entropy_loss       | -1.95    |\n",
            "|    explained_variance | -0.027   |\n",
            "|    learning_rate      | 1e-06    |\n",
            "|    n_updates          | 899      |\n",
            "|    policy_loss        | -0.239   |\n",
            "|    value_loss         | 0.254    |\n",
            "------------------------------------\n",
            "------------------------------------\n",
            "| rollout/              |          |\n",
            "|    ep_len_mean        | 1.66e+04 |\n",
            "|    ep_rew_mean        | 438      |\n",
            "| time/                 |          |\n",
            "|    fps                | 187      |\n",
            "|    iterations         | 1000     |\n",
            "|    time_elapsed       | 2727     |\n",
            "|    total_timesteps    | 512000   |\n",
            "| train/                |          |\n",
            "|    entropy_loss       | -1.95    |\n",
            "|    explained_variance | 0.0347   |\n",
            "|    learning_rate      | 1e-06    |\n",
            "|    n_updates          | 999      |\n",
            "|    policy_loss        | 0.13     |\n",
            "|    value_loss         | 0.138    |\n",
            "------------------------------------\n",
            "------------------------------------\n",
            "| rollout/              |          |\n",
            "|    ep_len_mean        | 1.66e+04 |\n",
            "|    ep_rew_mean        | 452      |\n",
            "| time/                 |          |\n",
            "|    fps                | 187      |\n",
            "|    iterations         | 1100     |\n",
            "|    time_elapsed       | 3000     |\n",
            "|    total_timesteps    | 563200   |\n",
            "| train/                |          |\n",
            "|    entropy_loss       | -1.95    |\n",
            "|    explained_variance | 0.0155   |\n",
            "|    learning_rate      | 1e-06    |\n",
            "|    n_updates          | 1099     |\n",
            "|    policy_loss        | -0.0887  |\n",
            "|    value_loss         | 0.167    |\n",
            "------------------------------------\n",
            "------------------------------------\n",
            "| rollout/              |          |\n",
            "|    ep_len_mean        | 1.68e+04 |\n",
            "|    ep_rew_mean        | 447      |\n",
            "| time/                 |          |\n",
            "|    fps                | 187      |\n",
            "|    iterations         | 1200     |\n",
            "|    time_elapsed       | 3273     |\n",
            "|    total_timesteps    | 614400   |\n",
            "| train/                |          |\n",
            "|    entropy_loss       | -1.95    |\n",
            "|    explained_variance | 0.00901  |\n",
            "|    learning_rate      | 1e-06    |\n",
            "|    n_updates          | 1199     |\n",
            "|    policy_loss        | -0.246   |\n",
            "|    value_loss         | 0.305    |\n",
            "------------------------------------\n",
            "------------------------------------\n",
            "| rollout/              |          |\n",
            "|    ep_len_mean        | 1.67e+04 |\n",
            "|    ep_rew_mean        | 451      |\n",
            "| time/                 |          |\n",
            "|    fps                | 187      |\n",
            "|    iterations         | 1300     |\n",
            "|    time_elapsed       | 3546     |\n",
            "|    total_timesteps    | 665600   |\n",
            "| train/                |          |\n",
            "|    entropy_loss       | -1.95    |\n",
            "|    explained_variance | 0.0162   |\n",
            "|    learning_rate      | 1e-06    |\n",
            "|    n_updates          | 1299     |\n",
            "|    policy_loss        | 0.000901 |\n",
            "|    value_loss         | 0.242    |\n",
            "------------------------------------\n",
            "------------------------------------\n",
            "| rollout/              |          |\n",
            "|    ep_len_mean        | 1.69e+04 |\n",
            "|    ep_rew_mean        | 454      |\n",
            "| time/                 |          |\n",
            "|    fps                | 187      |\n",
            "|    iterations         | 1400     |\n",
            "|    time_elapsed       | 3820     |\n",
            "|    total_timesteps    | 716800   |\n",
            "| train/                |          |\n",
            "|    entropy_loss       | -1.95    |\n",
            "|    explained_variance | 0.0345   |\n",
            "|    learning_rate      | 1e-06    |\n",
            "|    n_updates          | 1399     |\n",
            "|    policy_loss        | 0.0328   |\n",
            "|    value_loss         | 0.172    |\n",
            "------------------------------------\n",
            "------------------------------------\n",
            "| rollout/              |          |\n",
            "|    ep_len_mean        | 1.71e+04 |\n",
            "|    ep_rew_mean        | 452      |\n",
            "| time/                 |          |\n",
            "|    fps                | 187      |\n",
            "|    iterations         | 1500     |\n",
            "|    time_elapsed       | 4093     |\n",
            "|    total_timesteps    | 768000   |\n",
            "| train/                |          |\n",
            "|    entropy_loss       | -1.95    |\n",
            "|    explained_variance | 0.0659   |\n",
            "|    learning_rate      | 1e-06    |\n",
            "|    n_updates          | 1499     |\n",
            "|    policy_loss        | -0.349   |\n",
            "|    value_loss         | 0.206    |\n",
            "------------------------------------\n",
            "------------------------------------\n",
            "| rollout/              |          |\n",
            "|    ep_len_mean        | 1.72e+04 |\n",
            "|    ep_rew_mean        | 448      |\n",
            "| time/                 |          |\n",
            "|    fps                | 187      |\n",
            "|    iterations         | 1600     |\n",
            "|    time_elapsed       | 4366     |\n",
            "|    total_timesteps    | 819200   |\n",
            "| train/                |          |\n",
            "|    entropy_loss       | -1.95    |\n",
            "|    explained_variance | 0.0133   |\n",
            "|    learning_rate      | 1e-06    |\n",
            "|    n_updates          | 1599     |\n",
            "|    policy_loss        | 136      |\n",
            "|    value_loss         | 8.46e+03 |\n",
            "------------------------------------\n",
            "------------------------------------\n",
            "| rollout/              |          |\n",
            "|    ep_len_mean        | 1.75e+04 |\n",
            "|    ep_rew_mean        | 447      |\n",
            "| time/                 |          |\n",
            "|    fps                | 187      |\n",
            "|    iterations         | 1700     |\n",
            "|    time_elapsed       | 4640     |\n",
            "|    total_timesteps    | 870400   |\n",
            "| train/                |          |\n",
            "|    entropy_loss       | -1.95    |\n",
            "|    explained_variance | 0.0475   |\n",
            "|    learning_rate      | 1e-06    |\n",
            "|    n_updates          | 1699     |\n",
            "|    policy_loss        | 0.117    |\n",
            "|    value_loss         | 0.24     |\n",
            "------------------------------------\n",
            "------------------------------------\n",
            "| rollout/              |          |\n",
            "|    ep_len_mean        | 1.74e+04 |\n",
            "|    ep_rew_mean        | 449      |\n",
            "| time/                 |          |\n",
            "|    fps                | 187      |\n",
            "|    iterations         | 1800     |\n",
            "|    time_elapsed       | 4912     |\n",
            "|    total_timesteps    | 921600   |\n",
            "| train/                |          |\n",
            "|    entropy_loss       | -1.95    |\n",
            "|    explained_variance | 0.0504   |\n",
            "|    learning_rate      | 1e-06    |\n",
            "|    n_updates          | 1799     |\n",
            "|    policy_loss        | 0.103    |\n",
            "|    value_loss         | 0.139    |\n",
            "------------------------------------\n",
            "------------------------------------\n",
            "| rollout/              |          |\n",
            "|    ep_len_mean        | 1.74e+04 |\n",
            "|    ep_rew_mean        | 451      |\n",
            "| time/                 |          |\n",
            "|    fps                | 187      |\n",
            "|    iterations         | 1900     |\n",
            "|    time_elapsed       | 5185     |\n",
            "|    total_timesteps    | 972800   |\n",
            "| train/                |          |\n",
            "|    entropy_loss       | -1.95    |\n",
            "|    explained_variance | 0.0426   |\n",
            "|    learning_rate      | 1e-06    |\n",
            "|    n_updates          | 1899     |\n",
            "|    policy_loss        | 0.19     |\n",
            "|    value_loss         | 1.27     |\n",
            "------------------------------------\n"
          ]
        },
        {
          "output_type": "execute_result",
          "data": {
            "text/plain": [
              "<stable_baselines3.a2c.a2c.A2C at 0x7f9f4520bf50>"
            ]
          },
          "metadata": {},
          "execution_count": 28
        }
      ],
      "source": [
        "# Train the AI model, now AI model starts learning\n",
        "model.learn(total_timesteps=1000000, callback=callback)"
      ]
    },
    {
      "cell_type": "code",
      "execution_count": 29,
      "id": "d13429bc",
      "metadata": {
        "id": "d13429bc"
      },
      "outputs": [],
      "source": [
        "model.save('A2CSeedTestmodel')"
      ]
    },
    {
      "cell_type": "markdown",
      "id": "d5b5f8f7",
      "metadata": {
        "id": "d5b5f8f7"
      },
      "source": [
        "**Testing and Loading the Model**"
      ]
    },
    {
      "cell_type": "code",
      "execution_count": 30,
      "id": "544fbc6d",
      "metadata": {
        "id": "544fbc6d"
      },
      "outputs": [],
      "source": [
        "# Loading the model\n",
        "model = A2C.load('./training/best_model_1000000')"
      ]
    },
    {
      "cell_type": "code",
      "execution_count": 30,
      "id": "67308258",
      "metadata": {
        "id": "67308258"
      },
      "outputs": [],
      "source": [
        ""
      ]
    },
    {
      "cell_type": "code",
      "execution_count": 30,
      "id": "24e0e4ab",
      "metadata": {
        "id": "24e0e4ab"
      },
      "outputs": [],
      "source": [
        ""
      ]
    },
    {
      "cell_type": "code",
      "execution_count": 30,
      "id": "dc254558",
      "metadata": {
        "id": "dc254558"
      },
      "outputs": [],
      "source": [
        ""
      ]
    }
  ],
  "metadata": {
    "kernelspec": {
      "display_name": "Python 3",
      "language": "python",
      "name": "python3"
    },
    "language_info": {
      "codemirror_mode": {
        "name": "ipython",
        "version": 3
      },
      "file_extension": ".py",
      "mimetype": "text/x-python",
      "name": "python",
      "nbconvert_exporter": "python",
      "pygments_lexer": "ipython3",
      "version": "3.8.8"
    },
    "colab": {
      "name": "A2C SEED70 Model.ipynb",
      "provenance": [],
      "collapsed_sections": [],
      "include_colab_link": true
    },
    "accelerator": "GPU",
    "gpuClass": "standard"
  },
  "nbformat": 4,
  "nbformat_minor": 5
}