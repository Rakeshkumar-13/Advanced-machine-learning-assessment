{
  "cells": [
    {
      "cell_type": "markdown",
      "metadata": {
        "id": "view-in-github",
        "colab_type": "text"
      },
      "source": [
        "<a href=\"https://colab.research.google.com/github/rakezhjab/Advanced-machine-learning-assessment/blob/main/Site_spec_weed_mgmt_(InceptionV3).ipynb\" target=\"_parent\"><img src=\"https://colab.research.google.com/assets/colab-badge.svg\" alt=\"Open In Colab\"/></a>"
      ]
    },
    {
      "cell_type": "markdown",
      "id": "45056334",
      "metadata": {
        "id": "45056334"
      },
      "source": [
        "**Importing the libraries**"
      ]
    },
    {
      "cell_type": "code",
      "source": [
        "from google.colab import drive\n",
        "drive.mount('/content/drive')"
      ],
      "metadata": {
        "colab": {
          "base_uri": "https://localhost:8080/"
        },
        "id": "iSEE6rZgMkAU",
        "outputId": "3f77aa60-7298-4116-f69e-32d3f742936e"
      },
      "id": "iSEE6rZgMkAU",
      "execution_count": 1,
      "outputs": [
        {
          "output_type": "stream",
          "name": "stdout",
          "text": [
            "Mounted at /content/drive\n"
          ]
        }
      ]
    },
    {
      "cell_type": "code",
      "execution_count": 2,
      "id": "540194e2",
      "metadata": {
        "colab": {
          "base_uri": "https://localhost:8080/"
        },
        "id": "540194e2",
        "outputId": "7ad4c557-75ef-4918-8ec1-6faa6cd1248a"
      },
      "outputs": [
        {
          "output_type": "stream",
          "name": "stdout",
          "text": [
            "Looking in indexes: https://pypi.org/simple, https://us-python.pkg.dev/colab-wheels/public/simple/\n",
            "Collecting visualkeras\n",
            "  Downloading visualkeras-0.0.2-py3-none-any.whl (12 kB)\n",
            "Requirement already satisfied: pillow>=6.2.0 in /usr/local/lib/python3.7/dist-packages (from visualkeras) (7.1.2)\n",
            "Requirement already satisfied: numpy>=1.18.1 in /usr/local/lib/python3.7/dist-packages (from visualkeras) (1.21.6)\n",
            "Collecting aggdraw>=1.3.11\n",
            "  Downloading aggdraw-1.3.15-cp37-cp37m-manylinux_2_17_x86_64.manylinux2014_x86_64.whl (989 kB)\n",
            "\u001b[K     |████████████████████████████████| 989 kB 34.5 MB/s \n",
            "\u001b[?25hInstalling collected packages: aggdraw, visualkeras\n",
            "Successfully installed aggdraw-1.3.15 visualkeras-0.0.2\n"
          ]
        }
      ],
      "source": [
        "pip install visualkeras"
      ]
    },
    {
      "cell_type": "code",
      "execution_count": 3,
      "id": "c6b139e6",
      "metadata": {
        "id": "c6b139e6",
        "outputId": "4b2a4841-4e0c-4db0-f44a-274c6efc7fdd",
        "colab": {
          "base_uri": "https://localhost:8080/"
        }
      },
      "outputs": [
        {
          "output_type": "stream",
          "name": "stdout",
          "text": [
            "Looking in indexes: https://pypi.org/simple, https://us-python.pkg.dev/colab-wheels/public/simple/\n",
            "Requirement already satisfied: keras in /usr/local/lib/python3.7/dist-packages (2.8.0)\n"
          ]
        }
      ],
      "source": [
        "pip install keras"
      ]
    },
    {
      "cell_type": "code",
      "execution_count": 4,
      "id": "65260dbc",
      "metadata": {
        "id": "65260dbc",
        "outputId": "e1a5d33f-d473-4148-ddea-bf5cd0e1f1a4",
        "colab": {
          "base_uri": "https://localhost:8080/"
        }
      },
      "outputs": [
        {
          "output_type": "stream",
          "name": "stdout",
          "text": [
            "Looking in indexes: https://pypi.org/simple, https://us-python.pkg.dev/colab-wheels/public/simple/\n",
            "Requirement already satisfied: tensorflow in /usr/local/lib/python3.7/dist-packages (2.8.2+zzzcolab20220719082949)\n",
            "Requirement already satisfied: google-pasta>=0.1.1 in /usr/local/lib/python3.7/dist-packages (from tensorflow) (0.2.0)\n",
            "Requirement already satisfied: tensorboard<2.9,>=2.8 in /usr/local/lib/python3.7/dist-packages (from tensorflow) (2.8.0)\n",
            "Requirement already satisfied: numpy>=1.20 in /usr/local/lib/python3.7/dist-packages (from tensorflow) (1.21.6)\n",
            "Requirement already satisfied: keras-preprocessing>=1.1.1 in /usr/local/lib/python3.7/dist-packages (from tensorflow) (1.1.2)\n",
            "Requirement already satisfied: astunparse>=1.6.0 in /usr/local/lib/python3.7/dist-packages (from tensorflow) (1.6.3)\n",
            "Requirement already satisfied: protobuf<3.20,>=3.9.2 in /usr/local/lib/python3.7/dist-packages (from tensorflow) (3.17.3)\n",
            "Requirement already satisfied: termcolor>=1.1.0 in /usr/local/lib/python3.7/dist-packages (from tensorflow) (1.1.0)\n",
            "Requirement already satisfied: tensorflow-io-gcs-filesystem>=0.23.1 in /usr/local/lib/python3.7/dist-packages (from tensorflow) (0.26.0)\n",
            "Requirement already satisfied: setuptools in /usr/local/lib/python3.7/dist-packages (from tensorflow) (57.4.0)\n",
            "Requirement already satisfied: six>=1.12.0 in /usr/local/lib/python3.7/dist-packages (from tensorflow) (1.15.0)\n",
            "Requirement already satisfied: wrapt>=1.11.0 in /usr/local/lib/python3.7/dist-packages (from tensorflow) (1.14.1)\n",
            "Requirement already satisfied: grpcio<2.0,>=1.24.3 in /usr/local/lib/python3.7/dist-packages (from tensorflow) (1.47.0)\n",
            "Requirement already satisfied: typing-extensions>=3.6.6 in /usr/local/lib/python3.7/dist-packages (from tensorflow) (4.1.1)\n",
            "Requirement already satisfied: libclang>=9.0.1 in /usr/local/lib/python3.7/dist-packages (from tensorflow) (14.0.6)\n",
            "Requirement already satisfied: opt-einsum>=2.3.2 in /usr/local/lib/python3.7/dist-packages (from tensorflow) (3.3.0)\n",
            "Requirement already satisfied: h5py>=2.9.0 in /usr/local/lib/python3.7/dist-packages (from tensorflow) (3.1.0)\n",
            "Requirement already satisfied: tensorflow-estimator<2.9,>=2.8 in /usr/local/lib/python3.7/dist-packages (from tensorflow) (2.8.0)\n",
            "Requirement already satisfied: keras<2.9,>=2.8.0rc0 in /usr/local/lib/python3.7/dist-packages (from tensorflow) (2.8.0)\n",
            "Requirement already satisfied: absl-py>=0.4.0 in /usr/local/lib/python3.7/dist-packages (from tensorflow) (1.2.0)\n",
            "Requirement already satisfied: flatbuffers>=1.12 in /usr/local/lib/python3.7/dist-packages (from tensorflow) (2.0)\n",
            "Requirement already satisfied: gast>=0.2.1 in /usr/local/lib/python3.7/dist-packages (from tensorflow) (0.5.3)\n",
            "Requirement already satisfied: wheel<1.0,>=0.23.0 in /usr/local/lib/python3.7/dist-packages (from astunparse>=1.6.0->tensorflow) (0.37.1)\n",
            "Requirement already satisfied: cached-property in /usr/local/lib/python3.7/dist-packages (from h5py>=2.9.0->tensorflow) (1.5.2)\n",
            "Requirement already satisfied: google-auth-oauthlib<0.5,>=0.4.1 in /usr/local/lib/python3.7/dist-packages (from tensorboard<2.9,>=2.8->tensorflow) (0.4.6)\n",
            "Requirement already satisfied: markdown>=2.6.8 in /usr/local/lib/python3.7/dist-packages (from tensorboard<2.9,>=2.8->tensorflow) (3.4.1)\n",
            "Requirement already satisfied: google-auth<3,>=1.6.3 in /usr/local/lib/python3.7/dist-packages (from tensorboard<2.9,>=2.8->tensorflow) (1.35.0)\n",
            "Requirement already satisfied: tensorboard-plugin-wit>=1.6.0 in /usr/local/lib/python3.7/dist-packages (from tensorboard<2.9,>=2.8->tensorflow) (1.8.1)\n",
            "Requirement already satisfied: werkzeug>=0.11.15 in /usr/local/lib/python3.7/dist-packages (from tensorboard<2.9,>=2.8->tensorflow) (1.0.1)\n",
            "Requirement already satisfied: requests<3,>=2.21.0 in /usr/local/lib/python3.7/dist-packages (from tensorboard<2.9,>=2.8->tensorflow) (2.23.0)\n",
            "Requirement already satisfied: tensorboard-data-server<0.7.0,>=0.6.0 in /usr/local/lib/python3.7/dist-packages (from tensorboard<2.9,>=2.8->tensorflow) (0.6.1)\n",
            "Requirement already satisfied: rsa<5,>=3.1.4 in /usr/local/lib/python3.7/dist-packages (from google-auth<3,>=1.6.3->tensorboard<2.9,>=2.8->tensorflow) (4.9)\n",
            "Requirement already satisfied: cachetools<5.0,>=2.0.0 in /usr/local/lib/python3.7/dist-packages (from google-auth<3,>=1.6.3->tensorboard<2.9,>=2.8->tensorflow) (4.2.4)\n",
            "Requirement already satisfied: pyasn1-modules>=0.2.1 in /usr/local/lib/python3.7/dist-packages (from google-auth<3,>=1.6.3->tensorboard<2.9,>=2.8->tensorflow) (0.2.8)\n",
            "Requirement already satisfied: requests-oauthlib>=0.7.0 in /usr/local/lib/python3.7/dist-packages (from google-auth-oauthlib<0.5,>=0.4.1->tensorboard<2.9,>=2.8->tensorflow) (1.3.1)\n",
            "Requirement already satisfied: importlib-metadata>=4.4 in /usr/local/lib/python3.7/dist-packages (from markdown>=2.6.8->tensorboard<2.9,>=2.8->tensorflow) (4.12.0)\n",
            "Requirement already satisfied: zipp>=0.5 in /usr/local/lib/python3.7/dist-packages (from importlib-metadata>=4.4->markdown>=2.6.8->tensorboard<2.9,>=2.8->tensorflow) (3.8.1)\n",
            "Requirement already satisfied: pyasn1<0.5.0,>=0.4.6 in /usr/local/lib/python3.7/dist-packages (from pyasn1-modules>=0.2.1->google-auth<3,>=1.6.3->tensorboard<2.9,>=2.8->tensorflow) (0.4.8)\n",
            "Requirement already satisfied: idna<3,>=2.5 in /usr/local/lib/python3.7/dist-packages (from requests<3,>=2.21.0->tensorboard<2.9,>=2.8->tensorflow) (2.10)\n",
            "Requirement already satisfied: urllib3!=1.25.0,!=1.25.1,<1.26,>=1.21.1 in /usr/local/lib/python3.7/dist-packages (from requests<3,>=2.21.0->tensorboard<2.9,>=2.8->tensorflow) (1.24.3)\n",
            "Requirement already satisfied: certifi>=2017.4.17 in /usr/local/lib/python3.7/dist-packages (from requests<3,>=2.21.0->tensorboard<2.9,>=2.8->tensorflow) (2022.6.15)\n",
            "Requirement already satisfied: chardet<4,>=3.0.2 in /usr/local/lib/python3.7/dist-packages (from requests<3,>=2.21.0->tensorboard<2.9,>=2.8->tensorflow) (3.0.4)\n",
            "Requirement already satisfied: oauthlib>=3.0.0 in /usr/local/lib/python3.7/dist-packages (from requests-oauthlib>=0.7.0->google-auth-oauthlib<0.5,>=0.4.1->tensorboard<2.9,>=2.8->tensorflow) (3.2.0)\n"
          ]
        }
      ],
      "source": [
        "pip install tensorflow"
      ]
    },
    {
      "cell_type": "code",
      "execution_count": 5,
      "id": "8352123b",
      "metadata": {
        "id": "8352123b",
        "outputId": "6c683598-9964-42d1-e2bb-0cf4c222f821",
        "colab": {
          "base_uri": "https://localhost:8080/"
        }
      },
      "outputs": [
        {
          "output_type": "stream",
          "name": "stdout",
          "text": [
            "Looking in indexes: https://pypi.org/simple, https://us-python.pkg.dev/colab-wheels/public/simple/\n",
            "Requirement already satisfied: opencv-python in /usr/local/lib/python3.7/dist-packages (4.6.0.66)\n",
            "Requirement already satisfied: numpy>=1.14.5 in /usr/local/lib/python3.7/dist-packages (from opencv-python) (1.21.6)\n"
          ]
        }
      ],
      "source": [
        "pip install opencv-python"
      ]
    },
    {
      "cell_type": "code",
      "execution_count": 6,
      "id": "52dd88e8",
      "metadata": {
        "id": "52dd88e8",
        "outputId": "6f46911f-6c16-406c-d1ed-daea5fa45a90",
        "colab": {
          "base_uri": "https://localhost:8080/"
        }
      },
      "outputs": [
        {
          "output_type": "stream",
          "name": "stdout",
          "text": [
            "Looking in indexes: https://pypi.org/simple, https://us-python.pkg.dev/colab-wheels/public/simple/\n",
            "Requirement already satisfied: imgaug in /usr/local/lib/python3.7/dist-packages (0.4.0)\n",
            "Requirement already satisfied: scipy in /usr/local/lib/python3.7/dist-packages (from imgaug) (1.7.3)\n",
            "Requirement already satisfied: numpy>=1.15 in /usr/local/lib/python3.7/dist-packages (from imgaug) (1.21.6)\n",
            "Requirement already satisfied: Pillow in /usr/local/lib/python3.7/dist-packages (from imgaug) (7.1.2)\n",
            "Requirement already satisfied: opencv-python in /usr/local/lib/python3.7/dist-packages (from imgaug) (4.6.0.66)\n",
            "Requirement already satisfied: matplotlib in /usr/local/lib/python3.7/dist-packages (from imgaug) (3.2.2)\n",
            "Requirement already satisfied: scikit-image>=0.14.2 in /usr/local/lib/python3.7/dist-packages (from imgaug) (0.18.3)\n",
            "Requirement already satisfied: imageio in /usr/local/lib/python3.7/dist-packages (from imgaug) (2.9.0)\n",
            "Requirement already satisfied: Shapely in /usr/local/lib/python3.7/dist-packages (from imgaug) (1.8.2)\n",
            "Requirement already satisfied: six in /usr/local/lib/python3.7/dist-packages (from imgaug) (1.15.0)\n",
            "Requirement already satisfied: networkx>=2.0 in /usr/local/lib/python3.7/dist-packages (from scikit-image>=0.14.2->imgaug) (2.6.3)\n",
            "Requirement already satisfied: tifffile>=2019.7.26 in /usr/local/lib/python3.7/dist-packages (from scikit-image>=0.14.2->imgaug) (2021.11.2)\n",
            "Requirement already satisfied: PyWavelets>=1.1.1 in /usr/local/lib/python3.7/dist-packages (from scikit-image>=0.14.2->imgaug) (1.3.0)\n",
            "Requirement already satisfied: python-dateutil>=2.1 in /usr/local/lib/python3.7/dist-packages (from matplotlib->imgaug) (2.8.2)\n",
            "Requirement already satisfied: cycler>=0.10 in /usr/local/lib/python3.7/dist-packages (from matplotlib->imgaug) (0.11.0)\n",
            "Requirement already satisfied: kiwisolver>=1.0.1 in /usr/local/lib/python3.7/dist-packages (from matplotlib->imgaug) (1.4.4)\n",
            "Requirement already satisfied: pyparsing!=2.0.4,!=2.1.2,!=2.1.6,>=2.0.1 in /usr/local/lib/python3.7/dist-packages (from matplotlib->imgaug) (3.0.9)\n",
            "Requirement already satisfied: typing-extensions in /usr/local/lib/python3.7/dist-packages (from kiwisolver>=1.0.1->matplotlib->imgaug) (4.1.1)\n"
          ]
        }
      ],
      "source": [
        "pip install imgaug"
      ]
    },
    {
      "cell_type": "code",
      "execution_count": 7,
      "id": "fea8f8bc",
      "metadata": {
        "id": "fea8f8bc"
      },
      "outputs": [],
      "source": [
        "import datetime as dt\n",
        "import matplotlib.pyplot as plt\n",
        "import matplotlib.image as img\n",
        "import numpy as np\n",
        "import os\n",
        "import pandas as pd\n",
        "import seaborn as sns\n",
        "from tensorflow.keras.applications import InceptionV3\n",
        "from tensorflow.keras.applications import VGG16\n",
        "from tensorflow.keras.applications import ResNet50\n",
        "from tensorflow.keras.applications import resnet50\n",
        "from tensorflow.keras.applications import vgg16\n",
        "from tensorflow.keras.applications import inception_v3\n",
        "from keras.preprocessing import image\n",
        "from tensorflow.keras.preprocessing.image import ImageDataGenerator\n",
        "from tensorflow.keras.layers import Dense, Dropout, BatchNormalization, ReLU\n",
        "from tensorflow.keras.activations import swish\n",
        "from tensorflow.keras.models import Model\n",
        "from tensorflow.keras.optimizers import Adam\n",
        "from tensorflow.keras.callbacks import ModelCheckpoint, ReduceLROnPlateau, EarlyStopping\n",
        "from mpl_toolkits.axes_grid1 import ImageGrid\n",
        "from sklearn.metrics import accuracy_score, confusion_matrix\n",
        "from tqdm import tqdm\n",
        "from sklearn.model_selection import train_test_split\n",
        "import random\n",
        "import imgaug as ia\n",
        "import imgaug.augmenters as iaa\n",
        "from keras.utils import layer_utils\n",
        "from tensorflow.keras.utils import to_categorical\n",
        "from statistics import mean\n",
        "import math\n",
        "import cv2\n",
        "from tensorflow import keras\n",
        "from sklearn.metrics import accuracy_score\n",
        "from sklearn.metrics import classification_report"
      ]
    },
    {
      "cell_type": "markdown",
      "id": "b884c3d7",
      "metadata": {
        "id": "b884c3d7"
      },
      "source": [
        "**Resizing the image and Loading the dataset**"
      ]
    },
    {
      "cell_type": "code",
      "execution_count": 8,
      "id": "af0ffb4a",
      "metadata": {
        "id": "af0ffb4a"
      },
      "outputs": [],
      "source": [
        "# re-size all the images\n",
        "IMAGE_SIZE = [224, 224]\n",
        "#loading the data\n",
        "train_dir = r\"/content/drive/MyDrive/data_task1/train\"\n",
        "test_dir = r\"/content/drive/MyDrive/data_task1/test\"\n",
        "val_dir = r\"/content/drive/MyDrive/data_task1/val\""
      ]
    },
    {
      "cell_type": "markdown",
      "id": "7230bab4",
      "metadata": {
        "id": "7230bab4"
      },
      "source": [
        "**Visualisation of dataset**"
      ]
    },
    {
      "cell_type": "code",
      "execution_count": 9,
      "id": "a304ab82",
      "metadata": {
        "id": "a304ab82",
        "outputId": "6a628656-bcb2-4a4d-f25b-b76e8c24d459",
        "colab": {
          "base_uri": "https://localhost:8080/"
        }
      },
      "outputs": [
        {
          "output_type": "execute_result",
          "data": {
            "text/plain": [
              "['blackgrass', 'charlock', 'cleavers', 'fat hen', 'maize', 'wheat']"
            ]
          },
          "metadata": {},
          "execution_count": 9
        }
      ],
      "source": [
        "datasets = [r\"/content/drive/MyDrive/data_task1/train\"]\n",
        "\n",
        "Classes = [\"blackgrass\",\"charlock\",\"cleavers\",\"fat hen\",\"maize\",\"wheat\"]\n",
        "\n",
        "n_classes = len(Classes)\n",
        "\n",
        "Classes"
      ]
    },
    {
      "cell_type": "markdown",
      "id": "6144bd05",
      "metadata": {
        "id": "6144bd05"
      },
      "source": [
        "**Augmentation process**"
      ]
    },
    {
      "cell_type": "code",
      "execution_count": 10,
      "id": "bd72a742",
      "metadata": {
        "id": "bd72a742"
      },
      "outputs": [],
      "source": [
        "def augmentation_classes(Classes,train_dir):\n",
        "    size_dict={}\n",
        "    for i,classes in enumerate(Classes):\n",
        "         size_dict[Classes[i]]=len(os.listdir(os.path.join(train_dir, classes)))\n",
        "    print('Sample sizes of different classes are\\n\\n',size_dict)\n",
        "    values_list=list(size_dict.values())\n",
        "    ideal_samples=math.ceil(mean(values_list)*1.1)\n",
        "    required_aug=[]\n",
        "    for i,j in enumerate(size_dict):\n",
        "        if size_dict[j]<ideal_samples:\n",
        "            required_aug.append(j)\n",
        "    print('\\n\\nMinority classes requiring augmentations are\\n',required_aug)\n",
        "    return required_aug,ideal_samples,size_dict"
      ]
    },
    {
      "cell_type": "code",
      "execution_count": 11,
      "id": "cebdbe60",
      "metadata": {
        "id": "cebdbe60"
      },
      "outputs": [],
      "source": [
        "def image_augmentation(raw_images):\n",
        "    \n",
        "    \n",
        "    seq=iaa.Sequential([iaa.Fliplr(0.5),\n",
        "                        iaa.Flipud(0.3),\n",
        "                        iaa.LinearContrast((0.75, 1.5)),\n",
        "                        iaa.Crop(percent=(0, 0.2)),\n",
        "                        iaa.Affine(rotate=(-45, 45)),\n",
        "                        iaa.GaussianBlur(sigma=(0.0, 3.0))\n",
        "                        ])\n",
        "    image_aug=seq(images=raw_images)\n",
        "    return image_aug"
      ]
    },
    {
      "cell_type": "code",
      "execution_count": 12,
      "id": "0aaa04f6",
      "metadata": {
        "id": "0aaa04f6"
      },
      "outputs": [],
      "source": [
        "def preprocessing(img_path):\n",
        "    image = cv2.resize(cv2.imread(img_path), (224,224), interpolation = cv2.INTER_NEAREST)\n",
        "    return image"
      ]
    },
    {
      "cell_type": "code",
      "execution_count": 13,
      "id": "60cccd0a",
      "metadata": {
        "id": "60cccd0a"
      },
      "outputs": [],
      "source": [
        "def get_training_data( model):\n",
        "        \n",
        "    if model == \"resnet50\":\n",
        "        datagen = ImageDataGenerator(preprocessing_function = resnet50.preprocess_input, validation_split=0.15)\n",
        "    elif model == \"inceptionV3\":\n",
        "        datagen = ImageDataGenerator(preprocessing_function = inception_v3.preprocess_input, validation_split=0.15)\n",
        "    elif model == 'vgg16':\n",
        "        datagen = ImageDataGenerator(preprocessing_function = vgg16.preprocess_input, validation_split=0.15)\n",
        "\n",
        "    train_data_den = datagen.flow_from_directory(\n",
        "            directory= os.path.join(save_dir),\n",
        "            class_mode = \"categorical\",\n",
        "            batch_size=32,\n",
        "            shuffle=True,\n",
        "            subset='training'\n",
        "        )\n",
        "        \n",
        "    val_data_gen = datagen.flow_from_directory(\n",
        "            directory= os.path.join(save_dir),\n",
        "            class_mode = 'categorical',\n",
        "            batch_size=32,\n",
        "            shuffle=False,\n",
        "            subset='validation'\n",
        "        )\n",
        "\n",
        "    return train_data_den, val_data_gen"
      ]
    },
    {
      "cell_type": "code",
      "execution_count": 14,
      "id": "4c100d16",
      "metadata": {
        "id": "4c100d16"
      },
      "outputs": [],
      "source": [
        "def augment_and_store_data(Classes,train_dir,save_dir,required_aug,ideal_samples,size_dict):\n",
        "    for i,sample_class in enumerate(Classes):\n",
        "        try:\n",
        "            os.mkdir(os.path.join(save_dir,sample_class))\n",
        "        except FileExistsError:\n",
        "            pass\n",
        "        img_list=[]\n",
        "        for img_loc in os.listdir(os.path.join(train_dir,sample_class)):\n",
        "            image = preprocessing(os.path.join(train_dir, sample_class, img_loc))\n",
        "            img_list.append(image)\n",
        "        if sample_class in required_aug:\n",
        "            aug_img= image_augmentation(img_list)\n",
        "            req_img=random.sample(aug_img,(ideal_samples-size_dict[sample_class]))\n",
        "            img_list.extend(req_img)\n",
        "        for image_number, image in enumerate(img_list):\n",
        "            cv2.imwrite(os.path.join(save_dir, sample_class, \"{}.png\".format(image_number + 1)), image)"
      ]
    },
    {
      "cell_type": "code",
      "execution_count": 15,
      "id": "09be6ad8",
      "metadata": {
        "id": "09be6ad8"
      },
      "outputs": [],
      "source": [
        "def model_prep(model_arch,monitor,lr_patience,early_stop_patience,min_lr):\n",
        "    checkpoint = ModelCheckpoint(filepath=os.path.join(r'/content/drive/MyDrive/task1 file',model_arch,'.h5'), monitor='val_acc', mode='max', save_best_only=True)\n",
        "    #reduce_lr = ReduceLROnPlateau(monitor=monitor, factor=0.2, patience=1, min_lr=min_lr)\n",
        "    early_stop = EarlyStopping(monitor='val_loss', min_delta=0.001, patience=12, verbose=1, mode='min', restore_best_weights=True)\n",
        "    #CSVLogger logs epoch, acc, loss, val_acc, val_loss\n",
        "    log_csv = CSVLogger('my_logs.csv', separator=',', append=False)\n",
        "    callback=[checkpoint,early_stop, log_csv]\n",
        "    train_gen, val_gen = get_training_data(model = model_arch)\n",
        "    \n",
        "    return callback,train_gen,val_gen"
      ]
    },
    {
      "cell_type": "markdown",
      "id": "a308c832",
      "metadata": {
        "id": "a308c832"
      },
      "source": [
        "**Before Augmentation**"
      ]
    },
    {
      "cell_type": "code",
      "execution_count": 16,
      "id": "68d47e25",
      "metadata": {
        "id": "68d47e25",
        "outputId": "b2ac8be9-9468-420f-f18a-7153a80da389",
        "colab": {
          "base_uri": "https://localhost:8080/",
          "height": 262
        }
      },
      "outputs": [
        {
          "output_type": "display_data",
          "data": {
            "text/plain": [
              "<Figure size 432x288 with 1 Axes>"
            ],
            "image/png": "[encoded data removed]"
          },
          "metadata": {
            "needs_background": "light"
          }
        }
      ],
      "source": [
        "a={}\n",
        "for i,classes in enumerate(Classes):\n",
        "     a[i]=len(os.listdir(os.path.join(train_dir, classes)))\n",
        "a=pd.DataFrame(a.items(),columns=['index','no.of samples'],index=a.keys())\n",
        "a['no.of samples'].plot(kind='bar')\n",
        "sample_size=a['no.of samples']"
      ]
    },
    {
      "cell_type": "markdown",
      "id": "859c8ee5",
      "metadata": {
        "id": "859c8ee5"
      },
      "source": [
        "**Finding the classes needing for the augmentation**"
      ]
    },
    {
      "cell_type": "code",
      "execution_count": 17,
      "id": "ba85cf71",
      "metadata": {
        "id": "ba85cf71",
        "outputId": "17f3b511-3208-42d1-f1d9-442f78e414c9",
        "colab": {
          "base_uri": "https://localhost:8080/"
        }
      },
      "outputs": [
        {
          "output_type": "stream",
          "name": "stdout",
          "text": [
            "Sample sizes of different classes are\n",
            "\n",
            " {'blackgrass': 180, 'charlock': 272, 'cleavers': 208, 'fat hen': 328, 'maize': 146, 'wheat': 153}\n",
            "\n",
            "\n",
            "Minority classes requiring augmentations are\n",
            " ['blackgrass', 'cleavers', 'maize', 'wheat']\n"
          ]
        }
      ],
      "source": [
        "required_aug,ideal_samples,size_dict = augmentation_classes(Classes,train_dir)"
      ]
    },
    {
      "cell_type": "markdown",
      "id": "a6855e57",
      "metadata": {
        "id": "a6855e57"
      },
      "source": [
        "**Augmenting and storing data**"
      ]
    },
    {
      "cell_type": "code",
      "execution_count": 19,
      "id": "859a60c6",
      "metadata": {
        "id": "859a60c6"
      },
      "outputs": [],
      "source": [
        "save_dir = r\"/content/drive/MyDrive/task1 file\""
      ]
    },
    {
      "cell_type": "code",
      "execution_count": 20,
      "id": "9a6f794a",
      "metadata": {
        "id": "9a6f794a"
      },
      "outputs": [],
      "source": [
        "augment_and_store_data(Classes,train_dir,save_dir,required_aug,ideal_samples,size_dict)"
      ]
    },
    {
      "cell_type": "markdown",
      "id": "df76eba3",
      "metadata": {
        "id": "df76eba3"
      },
      "source": [
        "**After augmentation**"
      ]
    },
    {
      "cell_type": "code",
      "execution_count": 21,
      "id": "af85d5a6",
      "metadata": {
        "id": "af85d5a6",
        "outputId": "5d40f859-c3cf-4aa1-98e3-dc3137dacaf2",
        "colab": {
          "base_uri": "https://localhost:8080/",
          "height": 262
        }
      },
      "outputs": [
        {
          "output_type": "display_data",
          "data": {
            "text/plain": [
              "<Figure size 432x288 with 1 Axes>"
            ],
            "image/png": "[encoded data removed]"
          },
          "metadata": {
            "needs_background": "light"
          }
        }
      ],
      "source": [
        "c={}\n",
        "for i,classes in enumerate(Classes):\n",
        "     c[i]=len(os.listdir(os.path.join(save_dir, classes)))\n",
        "c=pd.DataFrame(c.items(),columns=['index','no.of samples'],index=c.keys())\n",
        "c['no.of samples'].plot(kind='bar')\n",
        "sample_size=a['no.of samples']"
      ]
    },
    {
      "cell_type": "markdown",
      "id": "dcab9b09",
      "metadata": {
        "id": "dcab9b09"
      },
      "source": [
        "**Model Training**"
      ]
    },
    {
      "cell_type": "code",
      "source": [
        "from tensorflow.keras.callbacks import CSVLogger"
      ],
      "metadata": {
        "id": "mc_ujwiPZyYj"
      },
      "id": "mc_ujwiPZyYj",
      "execution_count": 22,
      "outputs": []
    },
    {
      "cell_type": "code",
      "execution_count": 23,
      "id": "9d13d576",
      "metadata": {
        "id": "9d13d576",
        "outputId": "e15b3ddd-a489-48c1-b074-911493fc4250",
        "colab": {
          "base_uri": "https://localhost:8080/"
        }
      },
      "outputs": [
        {
          "output_type": "stream",
          "name": "stdout",
          "text": [
            "Found 1315 images belonging to 6 classes.\n",
            "Found 229 images belonging to 6 classes.\n"
          ]
        }
      ],
      "source": [
        "callback,train_gen,val_gen=model_prep('inceptionV3','val_loss',2,5,0.000001)"
      ]
    },
    {
      "cell_type": "code",
      "source": [
        "import numpy as np\n",
        "import pandas as pd\n",
        "import matplotlib.pyplot as plt\n",
        "import sklearn\n",
        "import seaborn as sns\n",
        "\n",
        "from sklearn import metrics\n",
        "from sklearn.metrics import confusion_matrix, classification_report\n",
        "from tensorflow.keras.layers import Input, Lambda, Dense, Flatten\n",
        "from tensorflow.keras.models import Model\n",
        "from tensorflow.keras.applications.resnet50 import ResNet50\n",
        "from tensorflow.keras.applications.resnet50 import preprocess_input\n",
        "from keras.preprocessing import image\n",
        "from keras.preprocessing.image import ImageDataGenerator\n",
        "from keras.models import Sequential\n",
        "from glob import glob\n",
        "from sklearn.metrics import confusion_matrix\n",
        "from sklearn.metrics import accuracy_score"
      ],
      "metadata": {
        "id": "W7WIEhLyP7XN"
      },
      "id": "W7WIEhLyP7XN",
      "execution_count": 24,
      "outputs": []
    },
    {
      "cell_type": "code",
      "source": [
        "# useful for getting number of classes\n",
        "folders = glob(r\"/content/drive/MyDrive/data_task1/train/*\")"
      ],
      "metadata": {
        "id": "GGl3pAo5PbGM"
      },
      "id": "GGl3pAo5PbGM",
      "execution_count": 25,
      "outputs": []
    },
    {
      "cell_type": "code",
      "source": [
        "\n",
        "from tensorflow.keras import Sequential\n",
        "from tensorflow.keras.layers import Flatten,Dense,Dropout\n",
        "from tensorflow.keras.models import Model\n",
        "\n",
        "inception_model = InceptionV3(weights='imagenet', include_top=False, pooling='avg', input_shape=(224, 224, 3))\n",
        "x = inception_model.output\n",
        "x = Flatten()(x)\n",
        "#x = Dense(128,activation = \"relu\")(x)\n",
        "#x = Dropout(0.5)(x)\n",
        "pred = Dense(6,activation = \"softmax\")(x)\n",
        "model = Model(inputs = inception_model.input,outputs = pred)\n",
        "\n",
        "for layers in inception_model.layers:\n",
        "    layers.trainable = False\n",
        "\n",
        "model.compile(Adam(lr=0.0001), loss='categorical_crossentropy', metrics=['accuracy'])"
      ],
      "metadata": {
        "id": "k16J8dzLvq5O"
      },
      "id": "k16J8dzLvq5O",
      "execution_count": 47,
      "outputs": []
    },
    {
      "cell_type": "code",
      "source": [
        "model.summary()"
      ],
      "metadata": {
        "colab": {
          "base_uri": "https://localhost:8080/"
        },
        "id": "irFITJQAcxQu",
        "outputId": "65497857-669a-4844-f709-ea9578de5fdf"
      },
      "id": "irFITJQAcxQu",
      "execution_count": 48,
      "outputs": [
        {
          "output_type": "stream",
          "name": "stdout",
          "text": [
            "Model: \"model_7\"\n",
            "__________________________________________________________________________________________________\n",
            " Layer (type)                   Output Shape         Param #     Connected to                     \n",
            "==================================================================================================\n",
            " input_9 (InputLayer)           [(None, 224, 224, 3  0           []                               \n",
            "                                )]                                                                \n",
            "                                                                                                  \n",
            " conv2d_752 (Conv2D)            (None, 111, 111, 32  864         ['input_9[0][0]']                \n",
            "                                )                                                                 \n",
            "                                                                                                  \n",
            " batch_normalization_753 (Batch  (None, 111, 111, 32  96         ['conv2d_752[0][0]']             \n",
            " Normalization)                 )                                                                 \n",
            "                                                                                                  \n",
            " activation_752 (Activation)    (None, 111, 111, 32  0           ['batch_normalization_753[0][0]']\n",
            "                                )                                                                 \n",
            "                                                                                                  \n",
            " conv2d_753 (Conv2D)            (None, 109, 109, 32  9216        ['activation_752[0][0]']         \n",
            "                                )                                                                 \n",
            "                                                                                                  \n",
            " batch_normalization_754 (Batch  (None, 109, 109, 32  96         ['conv2d_753[0][0]']             \n",
            " Normalization)                 )                                                                 \n",
            "                                                                                                  \n",
            " activation_753 (Activation)    (None, 109, 109, 32  0           ['batch_normalization_754[0][0]']\n",
            "                                )                                                                 \n",
            "                                                                                                  \n",
            " conv2d_754 (Conv2D)            (None, 109, 109, 64  18432       ['activation_753[0][0]']         \n",
            "                                )                                                                 \n",
            "                                                                                                  \n",
            " batch_normalization_755 (Batch  (None, 109, 109, 64  192        ['conv2d_754[0][0]']             \n",
            " Normalization)                 )                                                                 \n",
            "                                                                                                  \n",
            " activation_754 (Activation)    (None, 109, 109, 64  0           ['batch_normalization_755[0][0]']\n",
            "                                )                                                                 \n",
            "                                                                                                  \n",
            " max_pooling2d_32 (MaxPooling2D  (None, 54, 54, 64)  0           ['activation_754[0][0]']         \n",
            " )                                                                                                \n",
            "                                                                                                  \n",
            " conv2d_755 (Conv2D)            (None, 54, 54, 80)   5120        ['max_pooling2d_32[0][0]']       \n",
            "                                                                                                  \n",
            " batch_normalization_756 (Batch  (None, 54, 54, 80)  240         ['conv2d_755[0][0]']             \n",
            " Normalization)                                                                                   \n",
            "                                                                                                  \n",
            " activation_755 (Activation)    (None, 54, 54, 80)   0           ['batch_normalization_756[0][0]']\n",
            "                                                                                                  \n",
            " conv2d_756 (Conv2D)            (None, 52, 52, 192)  138240      ['activation_755[0][0]']         \n",
            "                                                                                                  \n",
            " batch_normalization_757 (Batch  (None, 52, 52, 192)  576        ['conv2d_756[0][0]']             \n",
            " Normalization)                                                                                   \n",
            "                                                                                                  \n",
            " activation_756 (Activation)    (None, 52, 52, 192)  0           ['batch_normalization_757[0][0]']\n",
            "                                                                                                  \n",
            " max_pooling2d_33 (MaxPooling2D  (None, 25, 25, 192)  0          ['activation_756[0][0]']         \n",
            " )                                                                                                \n",
            "                                                                                                  \n",
            " conv2d_760 (Conv2D)            (None, 25, 25, 64)   12288       ['max_pooling2d_33[0][0]']       \n",
            "                                                                                                  \n",
            " batch_normalization_761 (Batch  (None, 25, 25, 64)  192         ['conv2d_760[0][0]']             \n",
            " Normalization)                                                                                   \n",
            "                                                                                                  \n",
            " activation_760 (Activation)    (None, 25, 25, 64)   0           ['batch_normalization_761[0][0]']\n",
            "                                                                                                  \n",
            " conv2d_758 (Conv2D)            (None, 25, 25, 48)   9216        ['max_pooling2d_33[0][0]']       \n",
            "                                                                                                  \n",
            " conv2d_761 (Conv2D)            (None, 25, 25, 96)   55296       ['activation_760[0][0]']         \n",
            "                                                                                                  \n",
            " batch_normalization_759 (Batch  (None, 25, 25, 48)  144         ['conv2d_758[0][0]']             \n",
            " Normalization)                                                                                   \n",
            "                                                                                                  \n",
            " batch_normalization_762 (Batch  (None, 25, 25, 96)  288         ['conv2d_761[0][0]']             \n",
            " Normalization)                                                                                   \n",
            "                                                                                                  \n",
            " activation_758 (Activation)    (None, 25, 25, 48)   0           ['batch_normalization_759[0][0]']\n",
            "                                                                                                  \n",
            " activation_761 (Activation)    (None, 25, 25, 96)   0           ['batch_normalization_762[0][0]']\n",
            "                                                                                                  \n",
            " average_pooling2d_72 (AverageP  (None, 25, 25, 192)  0          ['max_pooling2d_33[0][0]']       \n",
            " ooling2D)                                                                                        \n",
            "                                                                                                  \n",
            " conv2d_757 (Conv2D)            (None, 25, 25, 64)   12288       ['max_pooling2d_33[0][0]']       \n",
            "                                                                                                  \n",
            " conv2d_759 (Conv2D)            (None, 25, 25, 64)   76800       ['activation_758[0][0]']         \n",
            "                                                                                                  \n",
            " conv2d_762 (Conv2D)            (None, 25, 25, 96)   82944       ['activation_761[0][0]']         \n",
            "                                                                                                  \n",
            " conv2d_763 (Conv2D)            (None, 25, 25, 32)   6144        ['average_pooling2d_72[0][0]']   \n",
            "                                                                                                  \n",
            " batch_normalization_758 (Batch  (None, 25, 25, 64)  192         ['conv2d_757[0][0]']             \n",
            " Normalization)                                                                                   \n",
            "                                                                                                  \n",
            " batch_normalization_760 (Batch  (None, 25, 25, 64)  192         ['conv2d_759[0][0]']             \n",
            " Normalization)                                                                                   \n",
            "                                                                                                  \n",
            " batch_normalization_763 (Batch  (None, 25, 25, 96)  288         ['conv2d_762[0][0]']             \n",
            " Normalization)                                                                                   \n",
            "                                                                                                  \n",
            " batch_normalization_764 (Batch  (None, 25, 25, 32)  96          ['conv2d_763[0][0]']             \n",
            " Normalization)                                                                                   \n",
            "                                                                                                  \n",
            " activation_757 (Activation)    (None, 25, 25, 64)   0           ['batch_normalization_758[0][0]']\n",
            "                                                                                                  \n",
            " activation_759 (Activation)    (None, 25, 25, 64)   0           ['batch_normalization_760[0][0]']\n",
            "                                                                                                  \n",
            " activation_762 (Activation)    (None, 25, 25, 96)   0           ['batch_normalization_763[0][0]']\n",
            "                                                                                                  \n",
            " activation_763 (Activation)    (None, 25, 25, 32)   0           ['batch_normalization_764[0][0]']\n",
            "                                                                                                  \n",
            " mixed0 (Concatenate)           (None, 25, 25, 256)  0           ['activation_757[0][0]',         \n",
            "                                                                  'activation_759[0][0]',         \n",
            "                                                                  'activation_762[0][0]',         \n",
            "                                                                  'activation_763[0][0]']         \n",
            "                                                                                                  \n",
            " conv2d_767 (Conv2D)            (None, 25, 25, 64)   16384       ['mixed0[0][0]']                 \n",
            "                                                                                                  \n",
            " batch_normalization_768 (Batch  (None, 25, 25, 64)  192         ['conv2d_767[0][0]']             \n",
            " Normalization)                                                                                   \n",
            "                                                                                                  \n",
            " activation_767 (Activation)    (None, 25, 25, 64)   0           ['batch_normalization_768[0][0]']\n",
            "                                                                                                  \n",
            " conv2d_765 (Conv2D)            (None, 25, 25, 48)   12288       ['mixed0[0][0]']                 \n",
            "                                                                                                  \n",
            " conv2d_768 (Conv2D)            (None, 25, 25, 96)   55296       ['activation_767[0][0]']         \n",
            "                                                                                                  \n",
            " batch_normalization_766 (Batch  (None, 25, 25, 48)  144         ['conv2d_765[0][0]']             \n",
            " Normalization)                                                                                   \n",
            "                                                                                                  \n",
            " batch_normalization_769 (Batch  (None, 25, 25, 96)  288         ['conv2d_768[0][0]']             \n",
            " Normalization)                                                                                   \n",
            "                                                                                                  \n",
            " activation_765 (Activation)    (None, 25, 25, 48)   0           ['batch_normalization_766[0][0]']\n",
            "                                                                                                  \n",
            " activation_768 (Activation)    (None, 25, 25, 96)   0           ['batch_normalization_769[0][0]']\n",
            "                                                                                                  \n",
            " average_pooling2d_73 (AverageP  (None, 25, 25, 256)  0          ['mixed0[0][0]']                 \n",
            " ooling2D)                                                                                        \n",
            "                                                                                                  \n",
            " conv2d_764 (Conv2D)            (None, 25, 25, 64)   16384       ['mixed0[0][0]']                 \n",
            "                                                                                                  \n",
            " conv2d_766 (Conv2D)            (None, 25, 25, 64)   76800       ['activation_765[0][0]']         \n",
            "                                                                                                  \n",
            " conv2d_769 (Conv2D)            (None, 25, 25, 96)   82944       ['activation_768[0][0]']         \n",
            "                                                                                                  \n",
            " conv2d_770 (Conv2D)            (None, 25, 25, 64)   16384       ['average_pooling2d_73[0][0]']   \n",
            "                                                                                                  \n",
            " batch_normalization_765 (Batch  (None, 25, 25, 64)  192         ['conv2d_764[0][0]']             \n",
            " Normalization)                                                                                   \n",
            "                                                                                                  \n",
            " batch_normalization_767 (Batch  (None, 25, 25, 64)  192         ['conv2d_766[0][0]']             \n",
            " Normalization)                                                                                   \n",
            "                                                                                                  \n",
            " batch_normalization_770 (Batch  (None, 25, 25, 96)  288         ['conv2d_769[0][0]']             \n",
            " Normalization)                                                                                   \n",
            "                                                                                                  \n",
            " batch_normalization_771 (Batch  (None, 25, 25, 64)  192         ['conv2d_770[0][0]']             \n",
            " Normalization)                                                                                   \n",
            "                                                                                                  \n",
            " activation_764 (Activation)    (None, 25, 25, 64)   0           ['batch_normalization_765[0][0]']\n",
            "                                                                                                  \n",
            " activation_766 (Activation)    (None, 25, 25, 64)   0           ['batch_normalization_767[0][0]']\n",
            "                                                                                                  \n",
            " activation_769 (Activation)    (None, 25, 25, 96)   0           ['batch_normalization_770[0][0]']\n",
            "                                                                                                  \n",
            " activation_770 (Activation)    (None, 25, 25, 64)   0           ['batch_normalization_771[0][0]']\n",
            "                                                                                                  \n",
            " mixed1 (Concatenate)           (None, 25, 25, 288)  0           ['activation_764[0][0]',         \n",
            "                                                                  'activation_766[0][0]',         \n",
            "                                                                  'activation_769[0][0]',         \n",
            "                                                                  'activation_770[0][0]']         \n",
            "                                                                                                  \n",
            " conv2d_774 (Conv2D)            (None, 25, 25, 64)   18432       ['mixed1[0][0]']                 \n",
            "                                                                                                  \n",
            " batch_normalization_775 (Batch  (None, 25, 25, 64)  192         ['conv2d_774[0][0]']             \n",
            " Normalization)                                                                                   \n",
            "                                                                                                  \n",
            " activation_774 (Activation)    (None, 25, 25, 64)   0           ['batch_normalization_775[0][0]']\n",
            "                                                                                                  \n",
            " conv2d_772 (Conv2D)            (None, 25, 25, 48)   13824       ['mixed1[0][0]']                 \n",
            "                                                                                                  \n",
            " conv2d_775 (Conv2D)            (None, 25, 25, 96)   55296       ['activation_774[0][0]']         \n",
            "                                                                                                  \n",
            " batch_normalization_773 (Batch  (None, 25, 25, 48)  144         ['conv2d_772[0][0]']             \n",
            " Normalization)                                                                                   \n",
            "                                                                                                  \n",
            " batch_normalization_776 (Batch  (None, 25, 25, 96)  288         ['conv2d_775[0][0]']             \n",
            " Normalization)                                                                                   \n",
            "                                                                                                  \n",
            " activation_772 (Activation)    (None, 25, 25, 48)   0           ['batch_normalization_773[0][0]']\n",
            "                                                                                                  \n",
            " activation_775 (Activation)    (None, 25, 25, 96)   0           ['batch_normalization_776[0][0]']\n",
            "                                                                                                  \n",
            " average_pooling2d_74 (AverageP  (None, 25, 25, 288)  0          ['mixed1[0][0]']                 \n",
            " ooling2D)                                                                                        \n",
            "                                                                                                  \n",
            " conv2d_771 (Conv2D)            (None, 25, 25, 64)   18432       ['mixed1[0][0]']                 \n",
            "                                                                                                  \n",
            " conv2d_773 (Conv2D)            (None, 25, 25, 64)   76800       ['activation_772[0][0]']         \n",
            "                                                                                                  \n",
            " conv2d_776 (Conv2D)            (None, 25, 25, 96)   82944       ['activation_775[0][0]']         \n",
            "                                                                                                  \n",
            " conv2d_777 (Conv2D)            (None, 25, 25, 64)   18432       ['average_pooling2d_74[0][0]']   \n",
            "                                                                                                  \n",
            " batch_normalization_772 (Batch  (None, 25, 25, 64)  192         ['conv2d_771[0][0]']             \n",
            " Normalization)                                                                                   \n",
            "                                                                                                  \n",
            " batch_normalization_774 (Batch  (None, 25, 25, 64)  192         ['conv2d_773[0][0]']             \n",
            " Normalization)                                                                                   \n",
            "                                                                                                  \n",
            " batch_normalization_777 (Batch  (None, 25, 25, 96)  288         ['conv2d_776[0][0]']             \n",
            " Normalization)                                                                                   \n",
            "                                                                                                  \n",
            " batch_normalization_778 (Batch  (None, 25, 25, 64)  192         ['conv2d_777[0][0]']             \n",
            " Normalization)                                                                                   \n",
            "                                                                                                  \n",
            " activation_771 (Activation)    (None, 25, 25, 64)   0           ['batch_normalization_772[0][0]']\n",
            "                                                                                                  \n",
            " activation_773 (Activation)    (None, 25, 25, 64)   0           ['batch_normalization_774[0][0]']\n",
            "                                                                                                  \n",
            " activation_776 (Activation)    (None, 25, 25, 96)   0           ['batch_normalization_777[0][0]']\n",
            "                                                                                                  \n",
            " activation_777 (Activation)    (None, 25, 25, 64)   0           ['batch_normalization_778[0][0]']\n",
            "                                                                                                  \n",
            " mixed2 (Concatenate)           (None, 25, 25, 288)  0           ['activation_771[0][0]',         \n",
            "                                                                  'activation_773[0][0]',         \n",
            "                                                                  'activation_776[0][0]',         \n",
            "                                                                  'activation_777[0][0]']         \n",
            "                                                                                                  \n",
            " conv2d_779 (Conv2D)            (None, 25, 25, 64)   18432       ['mixed2[0][0]']                 \n",
            "                                                                                                  \n",
            " batch_normalization_780 (Batch  (None, 25, 25, 64)  192         ['conv2d_779[0][0]']             \n",
            " Normalization)                                                                                   \n",
            "                                                                                                  \n",
            " activation_779 (Activation)    (None, 25, 25, 64)   0           ['batch_normalization_780[0][0]']\n",
            "                                                                                                  \n",
            " conv2d_780 (Conv2D)            (None, 25, 25, 96)   55296       ['activation_779[0][0]']         \n",
            "                                                                                                  \n",
            " batch_normalization_781 (Batch  (None, 25, 25, 96)  288         ['conv2d_780[0][0]']             \n",
            " Normalization)                                                                                   \n",
            "                                                                                                  \n",
            " activation_780 (Activation)    (None, 25, 25, 96)   0           ['batch_normalization_781[0][0]']\n",
            "                                                                                                  \n",
            " conv2d_778 (Conv2D)            (None, 12, 12, 384)  995328      ['mixed2[0][0]']                 \n",
            "                                                                                                  \n",
            " conv2d_781 (Conv2D)            (None, 12, 12, 96)   82944       ['activation_780[0][0]']         \n",
            "                                                                                                  \n",
            " batch_normalization_779 (Batch  (None, 12, 12, 384)  1152       ['conv2d_778[0][0]']             \n",
            " Normalization)                                                                                   \n",
            "                                                                                                  \n",
            " batch_normalization_782 (Batch  (None, 12, 12, 96)  288         ['conv2d_781[0][0]']             \n",
            " Normalization)                                                                                   \n",
            "                                                                                                  \n",
            " activation_778 (Activation)    (None, 12, 12, 384)  0           ['batch_normalization_779[0][0]']\n",
            "                                                                                                  \n",
            " activation_781 (Activation)    (None, 12, 12, 96)   0           ['batch_normalization_782[0][0]']\n",
            "                                                                                                  \n",
            " max_pooling2d_34 (MaxPooling2D  (None, 12, 12, 288)  0          ['mixed2[0][0]']                 \n",
            " )                                                                                                \n",
            "                                                                                                  \n",
            " mixed3 (Concatenate)           (None, 12, 12, 768)  0           ['activation_778[0][0]',         \n",
            "                                                                  'activation_781[0][0]',         \n",
            "                                                                  'max_pooling2d_34[0][0]']       \n",
            "                                                                                                  \n",
            " conv2d_786 (Conv2D)            (None, 12, 12, 128)  98304       ['mixed3[0][0]']                 \n",
            "                                                                                                  \n",
            " batch_normalization_787 (Batch  (None, 12, 12, 128)  384        ['conv2d_786[0][0]']             \n",
            " Normalization)                                                                                   \n",
            "                                                                                                  \n",
            " activation_786 (Activation)    (None, 12, 12, 128)  0           ['batch_normalization_787[0][0]']\n",
            "                                                                                                  \n",
            " conv2d_787 (Conv2D)            (None, 12, 12, 128)  114688      ['activation_786[0][0]']         \n",
            "                                                                                                  \n",
            " batch_normalization_788 (Batch  (None, 12, 12, 128)  384        ['conv2d_787[0][0]']             \n",
            " Normalization)                                                                                   \n",
            "                                                                                                  \n",
            " activation_787 (Activation)    (None, 12, 12, 128)  0           ['batch_normalization_788[0][0]']\n",
            "                                                                                                  \n",
            " conv2d_783 (Conv2D)            (None, 12, 12, 128)  98304       ['mixed3[0][0]']                 \n",
            "                                                                                                  \n",
            " conv2d_788 (Conv2D)            (None, 12, 12, 128)  114688      ['activation_787[0][0]']         \n",
            "                                                                                                  \n",
            " batch_normalization_784 (Batch  (None, 12, 12, 128)  384        ['conv2d_783[0][0]']             \n",
            " Normalization)                                                                                   \n",
            "                                                                                                  \n",
            " batch_normalization_789 (Batch  (None, 12, 12, 128)  384        ['conv2d_788[0][0]']             \n",
            " Normalization)                                                                                   \n",
            "                                                                                                  \n",
            " activation_783 (Activation)    (None, 12, 12, 128)  0           ['batch_normalization_784[0][0]']\n",
            "                                                                                                  \n",
            " activation_788 (Activation)    (None, 12, 12, 128)  0           ['batch_normalization_789[0][0]']\n",
            "                                                                                                  \n",
            " conv2d_784 (Conv2D)            (None, 12, 12, 128)  114688      ['activation_783[0][0]']         \n",
            "                                                                                                  \n",
            " conv2d_789 (Conv2D)            (None, 12, 12, 128)  114688      ['activation_788[0][0]']         \n",
            "                                                                                                  \n",
            " batch_normalization_785 (Batch  (None, 12, 12, 128)  384        ['conv2d_784[0][0]']             \n",
            " Normalization)                                                                                   \n",
            "                                                                                                  \n",
            " batch_normalization_790 (Batch  (None, 12, 12, 128)  384        ['conv2d_789[0][0]']             \n",
            " Normalization)                                                                                   \n",
            "                                                                                                  \n",
            " activation_784 (Activation)    (None, 12, 12, 128)  0           ['batch_normalization_785[0][0]']\n",
            "                                                                                                  \n",
            " activation_789 (Activation)    (None, 12, 12, 128)  0           ['batch_normalization_790[0][0]']\n",
            "                                                                                                  \n",
            " average_pooling2d_75 (AverageP  (None, 12, 12, 768)  0          ['mixed3[0][0]']                 \n",
            " ooling2D)                                                                                        \n",
            "                                                                                                  \n",
            " conv2d_782 (Conv2D)            (None, 12, 12, 192)  147456      ['mixed3[0][0]']                 \n",
            "                                                                                                  \n",
            " conv2d_785 (Conv2D)            (None, 12, 12, 192)  172032      ['activation_784[0][0]']         \n",
            "                                                                                                  \n",
            " conv2d_790 (Conv2D)            (None, 12, 12, 192)  172032      ['activation_789[0][0]']         \n",
            "                                                                                                  \n",
            " conv2d_791 (Conv2D)            (None, 12, 12, 192)  147456      ['average_pooling2d_75[0][0]']   \n",
            "                                                                                                  \n",
            " batch_normalization_783 (Batch  (None, 12, 12, 192)  576        ['conv2d_782[0][0]']             \n",
            " Normalization)                                                                                   \n",
            "                                                                                                  \n",
            " batch_normalization_786 (Batch  (None, 12, 12, 192)  576        ['conv2d_785[0][0]']             \n",
            " Normalization)                                                                                   \n",
            "                                                                                                  \n",
            " batch_normalization_791 (Batch  (None, 12, 12, 192)  576        ['conv2d_790[0][0]']             \n",
            " Normalization)                                                                                   \n",
            "                                                                                                  \n",
            " batch_normalization_792 (Batch  (None, 12, 12, 192)  576        ['conv2d_791[0][0]']             \n",
            " Normalization)                                                                                   \n",
            "                                                                                                  \n",
            " activation_782 (Activation)    (None, 12, 12, 192)  0           ['batch_normalization_783[0][0]']\n",
            "                                                                                                  \n",
            " activation_785 (Activation)    (None, 12, 12, 192)  0           ['batch_normalization_786[0][0]']\n",
            "                                                                                                  \n",
            " activation_790 (Activation)    (None, 12, 12, 192)  0           ['batch_normalization_791[0][0]']\n",
            "                                                                                                  \n",
            " activation_791 (Activation)    (None, 12, 12, 192)  0           ['batch_normalization_792[0][0]']\n",
            "                                                                                                  \n",
            " mixed4 (Concatenate)           (None, 12, 12, 768)  0           ['activation_782[0][0]',         \n",
            "                                                                  'activation_785[0][0]',         \n",
            "                                                                  'activation_790[0][0]',         \n",
            "                                                                  'activation_791[0][0]']         \n",
            "                                                                                                  \n",
            " conv2d_796 (Conv2D)            (None, 12, 12, 160)  122880      ['mixed4[0][0]']                 \n",
            "                                                                                                  \n",
            " batch_normalization_797 (Batch  (None, 12, 12, 160)  480        ['conv2d_796[0][0]']             \n",
            " Normalization)                                                                                   \n",
            "                                                                                                  \n",
            " activation_796 (Activation)    (None, 12, 12, 160)  0           ['batch_normalization_797[0][0]']\n",
            "                                                                                                  \n",
            " conv2d_797 (Conv2D)            (None, 12, 12, 160)  179200      ['activation_796[0][0]']         \n",
            "                                                                                                  \n",
            " batch_normalization_798 (Batch  (None, 12, 12, 160)  480        ['conv2d_797[0][0]']             \n",
            " Normalization)                                                                                   \n",
            "                                                                                                  \n",
            " activation_797 (Activation)    (None, 12, 12, 160)  0           ['batch_normalization_798[0][0]']\n",
            "                                                                                                  \n",
            " conv2d_793 (Conv2D)            (None, 12, 12, 160)  122880      ['mixed4[0][0]']                 \n",
            "                                                                                                  \n",
            " conv2d_798 (Conv2D)            (None, 12, 12, 160)  179200      ['activation_797[0][0]']         \n",
            "                                                                                                  \n",
            " batch_normalization_794 (Batch  (None, 12, 12, 160)  480        ['conv2d_793[0][0]']             \n",
            " Normalization)                                                                                   \n",
            "                                                                                                  \n",
            " batch_normalization_799 (Batch  (None, 12, 12, 160)  480        ['conv2d_798[0][0]']             \n",
            " Normalization)                                                                                   \n",
            "                                                                                                  \n",
            " activation_793 (Activation)    (None, 12, 12, 160)  0           ['batch_normalization_794[0][0]']\n",
            "                                                                                                  \n",
            " activation_798 (Activation)    (None, 12, 12, 160)  0           ['batch_normalization_799[0][0]']\n",
            "                                                                                                  \n",
            " conv2d_794 (Conv2D)            (None, 12, 12, 160)  179200      ['activation_793[0][0]']         \n",
            "                                                                                                  \n",
            " conv2d_799 (Conv2D)            (None, 12, 12, 160)  179200      ['activation_798[0][0]']         \n",
            "                                                                                                  \n",
            " batch_normalization_795 (Batch  (None, 12, 12, 160)  480        ['conv2d_794[0][0]']             \n",
            " Normalization)                                                                                   \n",
            "                                                                                                  \n",
            " batch_normalization_800 (Batch  (None, 12, 12, 160)  480        ['conv2d_799[0][0]']             \n",
            " Normalization)                                                                                   \n",
            "                                                                                                  \n",
            " activation_794 (Activation)    (None, 12, 12, 160)  0           ['batch_normalization_795[0][0]']\n",
            "                                                                                                  \n",
            " activation_799 (Activation)    (None, 12, 12, 160)  0           ['batch_normalization_800[0][0]']\n",
            "                                                                                                  \n",
            " average_pooling2d_76 (AverageP  (None, 12, 12, 768)  0          ['mixed4[0][0]']                 \n",
            " ooling2D)                                                                                        \n",
            "                                                                                                  \n",
            " conv2d_792 (Conv2D)            (None, 12, 12, 192)  147456      ['mixed4[0][0]']                 \n",
            "                                                                                                  \n",
            " conv2d_795 (Conv2D)            (None, 12, 12, 192)  215040      ['activation_794[0][0]']         \n",
            "                                                                                                  \n",
            " conv2d_800 (Conv2D)            (None, 12, 12, 192)  215040      ['activation_799[0][0]']         \n",
            "                                                                                                  \n",
            " conv2d_801 (Conv2D)            (None, 12, 12, 192)  147456      ['average_pooling2d_76[0][0]']   \n",
            "                                                                                                  \n",
            " batch_normalization_793 (Batch  (None, 12, 12, 192)  576        ['conv2d_792[0][0]']             \n",
            " Normalization)                                                                                   \n",
            "                                                                                                  \n",
            " batch_normalization_796 (Batch  (None, 12, 12, 192)  576        ['conv2d_795[0][0]']             \n",
            " Normalization)                                                                                   \n",
            "                                                                                                  \n",
            " batch_normalization_801 (Batch  (None, 12, 12, 192)  576        ['conv2d_800[0][0]']             \n",
            " Normalization)                                                                                   \n",
            "                                                                                                  \n",
            " batch_normalization_802 (Batch  (None, 12, 12, 192)  576        ['conv2d_801[0][0]']             \n",
            " Normalization)                                                                                   \n",
            "                                                                                                  \n",
            " activation_792 (Activation)    (None, 12, 12, 192)  0           ['batch_normalization_793[0][0]']\n",
            "                                                                                                  \n",
            " activation_795 (Activation)    (None, 12, 12, 192)  0           ['batch_normalization_796[0][0]']\n",
            "                                                                                                  \n",
            " activation_800 (Activation)    (None, 12, 12, 192)  0           ['batch_normalization_801[0][0]']\n",
            "                                                                                                  \n",
            " activation_801 (Activation)    (None, 12, 12, 192)  0           ['batch_normalization_802[0][0]']\n",
            "                                                                                                  \n",
            " mixed5 (Concatenate)           (None, 12, 12, 768)  0           ['activation_792[0][0]',         \n",
            "                                                                  'activation_795[0][0]',         \n",
            "                                                                  'activation_800[0][0]',         \n",
            "                                                                  'activation_801[0][0]']         \n",
            "                                                                                                  \n",
            " conv2d_806 (Conv2D)            (None, 12, 12, 160)  122880      ['mixed5[0][0]']                 \n",
            "                                                                                                  \n",
            " batch_normalization_807 (Batch  (None, 12, 12, 160)  480        ['conv2d_806[0][0]']             \n",
            " Normalization)                                                                                   \n",
            "                                                                                                  \n",
            " activation_806 (Activation)    (None, 12, 12, 160)  0           ['batch_normalization_807[0][0]']\n",
            "                                                                                                  \n",
            " conv2d_807 (Conv2D)            (None, 12, 12, 160)  179200      ['activation_806[0][0]']         \n",
            "                                                                                                  \n",
            " batch_normalization_808 (Batch  (None, 12, 12, 160)  480        ['conv2d_807[0][0]']             \n",
            " Normalization)                                                                                   \n",
            "                                                                                                  \n",
            " activation_807 (Activation)    (None, 12, 12, 160)  0           ['batch_normalization_808[0][0]']\n",
            "                                                                                                  \n",
            " conv2d_803 (Conv2D)            (None, 12, 12, 160)  122880      ['mixed5[0][0]']                 \n",
            "                                                                                                  \n",
            " conv2d_808 (Conv2D)            (None, 12, 12, 160)  179200      ['activation_807[0][0]']         \n",
            "                                                                                                  \n",
            " batch_normalization_804 (Batch  (None, 12, 12, 160)  480        ['conv2d_803[0][0]']             \n",
            " Normalization)                                                                                   \n",
            "                                                                                                  \n",
            " batch_normalization_809 (Batch  (None, 12, 12, 160)  480        ['conv2d_808[0][0]']             \n",
            " Normalization)                                                                                   \n",
            "                                                                                                  \n",
            " activation_803 (Activation)    (None, 12, 12, 160)  0           ['batch_normalization_804[0][0]']\n",
            "                                                                                                  \n",
            " activation_808 (Activation)    (None, 12, 12, 160)  0           ['batch_normalization_809[0][0]']\n",
            "                                                                                                  \n",
            " conv2d_804 (Conv2D)            (None, 12, 12, 160)  179200      ['activation_803[0][0]']         \n",
            "                                                                                                  \n",
            " conv2d_809 (Conv2D)            (None, 12, 12, 160)  179200      ['activation_808[0][0]']         \n",
            "                                                                                                  \n",
            " batch_normalization_805 (Batch  (None, 12, 12, 160)  480        ['conv2d_804[0][0]']             \n",
            " Normalization)                                                                                   \n",
            "                                                                                                  \n",
            " batch_normalization_810 (Batch  (None, 12, 12, 160)  480        ['conv2d_809[0][0]']             \n",
            " Normalization)                                                                                   \n",
            "                                                                                                  \n",
            " activation_804 (Activation)    (None, 12, 12, 160)  0           ['batch_normalization_805[0][0]']\n",
            "                                                                                                  \n",
            " activation_809 (Activation)    (None, 12, 12, 160)  0           ['batch_normalization_810[0][0]']\n",
            "                                                                                                  \n",
            " average_pooling2d_77 (AverageP  (None, 12, 12, 768)  0          ['mixed5[0][0]']                 \n",
            " ooling2D)                                                                                        \n",
            "                                                                                                  \n",
            " conv2d_802 (Conv2D)            (None, 12, 12, 192)  147456      ['mixed5[0][0]']                 \n",
            "                                                                                                  \n",
            " conv2d_805 (Conv2D)            (None, 12, 12, 192)  215040      ['activation_804[0][0]']         \n",
            "                                                                                                  \n",
            " conv2d_810 (Conv2D)            (None, 12, 12, 192)  215040      ['activation_809[0][0]']         \n",
            "                                                                                                  \n",
            " conv2d_811 (Conv2D)            (None, 12, 12, 192)  147456      ['average_pooling2d_77[0][0]']   \n",
            "                                                                                                  \n",
            " batch_normalization_803 (Batch  (None, 12, 12, 192)  576        ['conv2d_802[0][0]']             \n",
            " Normalization)                                                                                   \n",
            "                                                                                                  \n",
            " batch_normalization_806 (Batch  (None, 12, 12, 192)  576        ['conv2d_805[0][0]']             \n",
            " Normalization)                                                                                   \n",
            "                                                                                                  \n",
            " batch_normalization_811 (Batch  (None, 12, 12, 192)  576        ['conv2d_810[0][0]']             \n",
            " Normalization)                                                                                   \n",
            "                                                                                                  \n",
            " batch_normalization_812 (Batch  (None, 12, 12, 192)  576        ['conv2d_811[0][0]']             \n",
            " Normalization)                                                                                   \n",
            "                                                                                                  \n",
            " activation_802 (Activation)    (None, 12, 12, 192)  0           ['batch_normalization_803[0][0]']\n",
            "                                                                                                  \n",
            " activation_805 (Activation)    (None, 12, 12, 192)  0           ['batch_normalization_806[0][0]']\n",
            "                                                                                                  \n",
            " activation_810 (Activation)    (None, 12, 12, 192)  0           ['batch_normalization_811[0][0]']\n",
            "                                                                                                  \n",
            " activation_811 (Activation)    (None, 12, 12, 192)  0           ['batch_normalization_812[0][0]']\n",
            "                                                                                                  \n",
            " mixed6 (Concatenate)           (None, 12, 12, 768)  0           ['activation_802[0][0]',         \n",
            "                                                                  'activation_805[0][0]',         \n",
            "                                                                  'activation_810[0][0]',         \n",
            "                                                                  'activation_811[0][0]']         \n",
            "                                                                                                  \n",
            " conv2d_816 (Conv2D)            (None, 12, 12, 192)  147456      ['mixed6[0][0]']                 \n",
            "                                                                                                  \n",
            " batch_normalization_817 (Batch  (None, 12, 12, 192)  576        ['conv2d_816[0][0]']             \n",
            " Normalization)                                                                                   \n",
            "                                                                                                  \n",
            " activation_816 (Activation)    (None, 12, 12, 192)  0           ['batch_normalization_817[0][0]']\n",
            "                                                                                                  \n",
            " conv2d_817 (Conv2D)            (None, 12, 12, 192)  258048      ['activation_816[0][0]']         \n",
            "                                                                                                  \n",
            " batch_normalization_818 (Batch  (None, 12, 12, 192)  576        ['conv2d_817[0][0]']             \n",
            " Normalization)                                                                                   \n",
            "                                                                                                  \n",
            " activation_817 (Activation)    (None, 12, 12, 192)  0           ['batch_normalization_818[0][0]']\n",
            "                                                                                                  \n",
            " conv2d_813 (Conv2D)            (None, 12, 12, 192)  147456      ['mixed6[0][0]']                 \n",
            "                                                                                                  \n",
            " conv2d_818 (Conv2D)            (None, 12, 12, 192)  258048      ['activation_817[0][0]']         \n",
            "                                                                                                  \n",
            " batch_normalization_814 (Batch  (None, 12, 12, 192)  576        ['conv2d_813[0][0]']             \n",
            " Normalization)                                                                                   \n",
            "                                                                                                  \n",
            " batch_normalization_819 (Batch  (None, 12, 12, 192)  576        ['conv2d_818[0][0]']             \n",
            " Normalization)                                                                                   \n",
            "                                                                                                  \n",
            " activation_813 (Activation)    (None, 12, 12, 192)  0           ['batch_normalization_814[0][0]']\n",
            "                                                                                                  \n",
            " activation_818 (Activation)    (None, 12, 12, 192)  0           ['batch_normalization_819[0][0]']\n",
            "                                                                                                  \n",
            " conv2d_814 (Conv2D)            (None, 12, 12, 192)  258048      ['activation_813[0][0]']         \n",
            "                                                                                                  \n",
            " conv2d_819 (Conv2D)            (None, 12, 12, 192)  258048      ['activation_818[0][0]']         \n",
            "                                                                                                  \n",
            " batch_normalization_815 (Batch  (None, 12, 12, 192)  576        ['conv2d_814[0][0]']             \n",
            " Normalization)                                                                                   \n",
            "                                                                                                  \n",
            " batch_normalization_820 (Batch  (None, 12, 12, 192)  576        ['conv2d_819[0][0]']             \n",
            " Normalization)                                                                                   \n",
            "                                                                                                  \n",
            " activation_814 (Activation)    (None, 12, 12, 192)  0           ['batch_normalization_815[0][0]']\n",
            "                                                                                                  \n",
            " activation_819 (Activation)    (None, 12, 12, 192)  0           ['batch_normalization_820[0][0]']\n",
            "                                                                                                  \n",
            " average_pooling2d_78 (AverageP  (None, 12, 12, 768)  0          ['mixed6[0][0]']                 \n",
            " ooling2D)                                                                                        \n",
            "                                                                                                  \n",
            " conv2d_812 (Conv2D)            (None, 12, 12, 192)  147456      ['mixed6[0][0]']                 \n",
            "                                                                                                  \n",
            " conv2d_815 (Conv2D)            (None, 12, 12, 192)  258048      ['activation_814[0][0]']         \n",
            "                                                                                                  \n",
            " conv2d_820 (Conv2D)            (None, 12, 12, 192)  258048      ['activation_819[0][0]']         \n",
            "                                                                                                  \n",
            " conv2d_821 (Conv2D)            (None, 12, 12, 192)  147456      ['average_pooling2d_78[0][0]']   \n",
            "                                                                                                  \n",
            " batch_normalization_813 (Batch  (None, 12, 12, 192)  576        ['conv2d_812[0][0]']             \n",
            " Normalization)                                                                                   \n",
            "                                                                                                  \n",
            " batch_normalization_816 (Batch  (None, 12, 12, 192)  576        ['conv2d_815[0][0]']             \n",
            " Normalization)                                                                                   \n",
            "                                                                                                  \n",
            " batch_normalization_821 (Batch  (None, 12, 12, 192)  576        ['conv2d_820[0][0]']             \n",
            " Normalization)                                                                                   \n",
            "                                                                                                  \n",
            " batch_normalization_822 (Batch  (None, 12, 12, 192)  576        ['conv2d_821[0][0]']             \n",
            " Normalization)                                                                                   \n",
            "                                                                                                  \n",
            " activation_812 (Activation)    (None, 12, 12, 192)  0           ['batch_normalization_813[0][0]']\n",
            "                                                                                                  \n",
            " activation_815 (Activation)    (None, 12, 12, 192)  0           ['batch_normalization_816[0][0]']\n",
            "                                                                                                  \n",
            " activation_820 (Activation)    (None, 12, 12, 192)  0           ['batch_normalization_821[0][0]']\n",
            "                                                                                                  \n",
            " activation_821 (Activation)    (None, 12, 12, 192)  0           ['batch_normalization_822[0][0]']\n",
            "                                                                                                  \n",
            " mixed7 (Concatenate)           (None, 12, 12, 768)  0           ['activation_812[0][0]',         \n",
            "                                                                  'activation_815[0][0]',         \n",
            "                                                                  'activation_820[0][0]',         \n",
            "                                                                  'activation_821[0][0]']         \n",
            "                                                                                                  \n",
            " conv2d_824 (Conv2D)            (None, 12, 12, 192)  147456      ['mixed7[0][0]']                 \n",
            "                                                                                                  \n",
            " batch_normalization_825 (Batch  (None, 12, 12, 192)  576        ['conv2d_824[0][0]']             \n",
            " Normalization)                                                                                   \n",
            "                                                                                                  \n",
            " activation_824 (Activation)    (None, 12, 12, 192)  0           ['batch_normalization_825[0][0]']\n",
            "                                                                                                  \n",
            " conv2d_825 (Conv2D)            (None, 12, 12, 192)  258048      ['activation_824[0][0]']         \n",
            "                                                                                                  \n",
            " batch_normalization_826 (Batch  (None, 12, 12, 192)  576        ['conv2d_825[0][0]']             \n",
            " Normalization)                                                                                   \n",
            "                                                                                                  \n",
            " activation_825 (Activation)    (None, 12, 12, 192)  0           ['batch_normalization_826[0][0]']\n",
            "                                                                                                  \n",
            " conv2d_822 (Conv2D)            (None, 12, 12, 192)  147456      ['mixed7[0][0]']                 \n",
            "                                                                                                  \n",
            " conv2d_826 (Conv2D)            (None, 12, 12, 192)  258048      ['activation_825[0][0]']         \n",
            "                                                                                                  \n",
            " batch_normalization_823 (Batch  (None, 12, 12, 192)  576        ['conv2d_822[0][0]']             \n",
            " Normalization)                                                                                   \n",
            "                                                                                                  \n",
            " batch_normalization_827 (Batch  (None, 12, 12, 192)  576        ['conv2d_826[0][0]']             \n",
            " Normalization)                                                                                   \n",
            "                                                                                                  \n",
            " activation_822 (Activation)    (None, 12, 12, 192)  0           ['batch_normalization_823[0][0]']\n",
            "                                                                                                  \n",
            " activation_826 (Activation)    (None, 12, 12, 192)  0           ['batch_normalization_827[0][0]']\n",
            "                                                                                                  \n",
            " conv2d_823 (Conv2D)            (None, 5, 5, 320)    552960      ['activation_822[0][0]']         \n",
            "                                                                                                  \n",
            " conv2d_827 (Conv2D)            (None, 5, 5, 192)    331776      ['activation_826[0][0]']         \n",
            "                                                                                                  \n",
            " batch_normalization_824 (Batch  (None, 5, 5, 320)   960         ['conv2d_823[0][0]']             \n",
            " Normalization)                                                                                   \n",
            "                                                                                                  \n",
            " batch_normalization_828 (Batch  (None, 5, 5, 192)   576         ['conv2d_827[0][0]']             \n",
            " Normalization)                                                                                   \n",
            "                                                                                                  \n",
            " activation_823 (Activation)    (None, 5, 5, 320)    0           ['batch_normalization_824[0][0]']\n",
            "                                                                                                  \n",
            " activation_827 (Activation)    (None, 5, 5, 192)    0           ['batch_normalization_828[0][0]']\n",
            "                                                                                                  \n",
            " max_pooling2d_35 (MaxPooling2D  (None, 5, 5, 768)   0           ['mixed7[0][0]']                 \n",
            " )                                                                                                \n",
            "                                                                                                  \n",
            " mixed8 (Concatenate)           (None, 5, 5, 1280)   0           ['activation_823[0][0]',         \n",
            "                                                                  'activation_827[0][0]',         \n",
            "                                                                  'max_pooling2d_35[0][0]']       \n",
            "                                                                                                  \n",
            " conv2d_832 (Conv2D)            (None, 5, 5, 448)    573440      ['mixed8[0][0]']                 \n",
            "                                                                                                  \n",
            " batch_normalization_833 (Batch  (None, 5, 5, 448)   1344        ['conv2d_832[0][0]']             \n",
            " Normalization)                                                                                   \n",
            "                                                                                                  \n",
            " activation_832 (Activation)    (None, 5, 5, 448)    0           ['batch_normalization_833[0][0]']\n",
            "                                                                                                  \n",
            " conv2d_829 (Conv2D)            (None, 5, 5, 384)    491520      ['mixed8[0][0]']                 \n",
            "                                                                                                  \n",
            " conv2d_833 (Conv2D)            (None, 5, 5, 384)    1548288     ['activation_832[0][0]']         \n",
            "                                                                                                  \n",
            " batch_normalization_830 (Batch  (None, 5, 5, 384)   1152        ['conv2d_829[0][0]']             \n",
            " Normalization)                                                                                   \n",
            "                                                                                                  \n",
            " batch_normalization_834 (Batch  (None, 5, 5, 384)   1152        ['conv2d_833[0][0]']             \n",
            " Normalization)                                                                                   \n",
            "                                                                                                  \n",
            " activation_829 (Activation)    (None, 5, 5, 384)    0           ['batch_normalization_830[0][0]']\n",
            "                                                                                                  \n",
            " activation_833 (Activation)    (None, 5, 5, 384)    0           ['batch_normalization_834[0][0]']\n",
            "                                                                                                  \n",
            " conv2d_830 (Conv2D)            (None, 5, 5, 384)    442368      ['activation_829[0][0]']         \n",
            "                                                                                                  \n",
            " conv2d_831 (Conv2D)            (None, 5, 5, 384)    442368      ['activation_829[0][0]']         \n",
            "                                                                                                  \n",
            " conv2d_834 (Conv2D)            (None, 5, 5, 384)    442368      ['activation_833[0][0]']         \n",
            "                                                                                                  \n",
            " conv2d_835 (Conv2D)            (None, 5, 5, 384)    442368      ['activation_833[0][0]']         \n",
            "                                                                                                  \n",
            " average_pooling2d_79 (AverageP  (None, 5, 5, 1280)  0           ['mixed8[0][0]']                 \n",
            " ooling2D)                                                                                        \n",
            "                                                                                                  \n",
            " conv2d_828 (Conv2D)            (None, 5, 5, 320)    409600      ['mixed8[0][0]']                 \n",
            "                                                                                                  \n",
            " batch_normalization_831 (Batch  (None, 5, 5, 384)   1152        ['conv2d_830[0][0]']             \n",
            " Normalization)                                                                                   \n",
            "                                                                                                  \n",
            " batch_normalization_832 (Batch  (None, 5, 5, 384)   1152        ['conv2d_831[0][0]']             \n",
            " Normalization)                                                                                   \n",
            "                                                                                                  \n",
            " batch_normalization_835 (Batch  (None, 5, 5, 384)   1152        ['conv2d_834[0][0]']             \n",
            " Normalization)                                                                                   \n",
            "                                                                                                  \n",
            " batch_normalization_836 (Batch  (None, 5, 5, 384)   1152        ['conv2d_835[0][0]']             \n",
            " Normalization)                                                                                   \n",
            "                                                                                                  \n",
            " conv2d_836 (Conv2D)            (None, 5, 5, 192)    245760      ['average_pooling2d_79[0][0]']   \n",
            "                                                                                                  \n",
            " batch_normalization_829 (Batch  (None, 5, 5, 320)   960         ['conv2d_828[0][0]']             \n",
            " Normalization)                                                                                   \n",
            "                                                                                                  \n",
            " activation_830 (Activation)    (None, 5, 5, 384)    0           ['batch_normalization_831[0][0]']\n",
            "                                                                                                  \n",
            " activation_831 (Activation)    (None, 5, 5, 384)    0           ['batch_normalization_832[0][0]']\n",
            "                                                                                                  \n",
            " activation_834 (Activation)    (None, 5, 5, 384)    0           ['batch_normalization_835[0][0]']\n",
            "                                                                                                  \n",
            " activation_835 (Activation)    (None, 5, 5, 384)    0           ['batch_normalization_836[0][0]']\n",
            "                                                                                                  \n",
            " batch_normalization_837 (Batch  (None, 5, 5, 192)   576         ['conv2d_836[0][0]']             \n",
            " Normalization)                                                                                   \n",
            "                                                                                                  \n",
            " activation_828 (Activation)    (None, 5, 5, 320)    0           ['batch_normalization_829[0][0]']\n",
            "                                                                                                  \n",
            " mixed9_0 (Concatenate)         (None, 5, 5, 768)    0           ['activation_830[0][0]',         \n",
            "                                                                  'activation_831[0][0]']         \n",
            "                                                                                                  \n",
            " concatenate_16 (Concatenate)   (None, 5, 5, 768)    0           ['activation_834[0][0]',         \n",
            "                                                                  'activation_835[0][0]']         \n",
            "                                                                                                  \n",
            " activation_836 (Activation)    (None, 5, 5, 192)    0           ['batch_normalization_837[0][0]']\n",
            "                                                                                                  \n",
            " mixed9 (Concatenate)           (None, 5, 5, 2048)   0           ['activation_828[0][0]',         \n",
            "                                                                  'mixed9_0[0][0]',               \n",
            "                                                                  'concatenate_16[0][0]',         \n",
            "                                                                  'activation_836[0][0]']         \n",
            "                                                                                                  \n",
            " conv2d_841 (Conv2D)            (None, 5, 5, 448)    917504      ['mixed9[0][0]']                 \n",
            "                                                                                                  \n",
            " batch_normalization_842 (Batch  (None, 5, 5, 448)   1344        ['conv2d_841[0][0]']             \n",
            " Normalization)                                                                                   \n",
            "                                                                                                  \n",
            " activation_841 (Activation)    (None, 5, 5, 448)    0           ['batch_normalization_842[0][0]']\n",
            "                                                                                                  \n",
            " conv2d_838 (Conv2D)            (None, 5, 5, 384)    786432      ['mixed9[0][0]']                 \n",
            "                                                                                                  \n",
            " conv2d_842 (Conv2D)            (None, 5, 5, 384)    1548288     ['activation_841[0][0]']         \n",
            "                                                                                                  \n",
            " batch_normalization_839 (Batch  (None, 5, 5, 384)   1152        ['conv2d_838[0][0]']             \n",
            " Normalization)                                                                                   \n",
            "                                                                                                  \n",
            " batch_normalization_843 (Batch  (None, 5, 5, 384)   1152        ['conv2d_842[0][0]']             \n",
            " Normalization)                                                                                   \n",
            "                                                                                                  \n",
            " activation_838 (Activation)    (None, 5, 5, 384)    0           ['batch_normalization_839[0][0]']\n",
            "                                                                                                  \n",
            " activation_842 (Activation)    (None, 5, 5, 384)    0           ['batch_normalization_843[0][0]']\n",
            "                                                                                                  \n",
            " conv2d_839 (Conv2D)            (None, 5, 5, 384)    442368      ['activation_838[0][0]']         \n",
            "                                                                                                  \n",
            " conv2d_840 (Conv2D)            (None, 5, 5, 384)    442368      ['activation_838[0][0]']         \n",
            "                                                                                                  \n",
            " conv2d_843 (Conv2D)            (None, 5, 5, 384)    442368      ['activation_842[0][0]']         \n",
            "                                                                                                  \n",
            " conv2d_844 (Conv2D)            (None, 5, 5, 384)    442368      ['activation_842[0][0]']         \n",
            "                                                                                                  \n",
            " average_pooling2d_80 (AverageP  (None, 5, 5, 2048)  0           ['mixed9[0][0]']                 \n",
            " ooling2D)                                                                                        \n",
            "                                                                                                  \n",
            " conv2d_837 (Conv2D)            (None, 5, 5, 320)    655360      ['mixed9[0][0]']                 \n",
            "                                                                                                  \n",
            " batch_normalization_840 (Batch  (None, 5, 5, 384)   1152        ['conv2d_839[0][0]']             \n",
            " Normalization)                                                                                   \n",
            "                                                                                                  \n",
            " batch_normalization_841 (Batch  (None, 5, 5, 384)   1152        ['conv2d_840[0][0]']             \n",
            " Normalization)                                                                                   \n",
            "                                                                                                  \n",
            " batch_normalization_844 (Batch  (None, 5, 5, 384)   1152        ['conv2d_843[0][0]']             \n",
            " Normalization)                                                                                   \n",
            "                                                                                                  \n",
            " batch_normalization_845 (Batch  (None, 5, 5, 384)   1152        ['conv2d_844[0][0]']             \n",
            " Normalization)                                                                                   \n",
            "                                                                                                  \n",
            " conv2d_845 (Conv2D)            (None, 5, 5, 192)    393216      ['average_pooling2d_80[0][0]']   \n",
            "                                                                                                  \n",
            " batch_normalization_838 (Batch  (None, 5, 5, 320)   960         ['conv2d_837[0][0]']             \n",
            " Normalization)                                                                                   \n",
            "                                                                                                  \n",
            " activation_839 (Activation)    (None, 5, 5, 384)    0           ['batch_normalization_840[0][0]']\n",
            "                                                                                                  \n",
            " activation_840 (Activation)    (None, 5, 5, 384)    0           ['batch_normalization_841[0][0]']\n",
            "                                                                                                  \n",
            " activation_843 (Activation)    (None, 5, 5, 384)    0           ['batch_normalization_844[0][0]']\n",
            "                                                                                                  \n",
            " activation_844 (Activation)    (None, 5, 5, 384)    0           ['batch_normalization_845[0][0]']\n",
            "                                                                                                  \n",
            " batch_normalization_846 (Batch  (None, 5, 5, 192)   576         ['conv2d_845[0][0]']             \n",
            " Normalization)                                                                                   \n",
            "                                                                                                  \n",
            " activation_837 (Activation)    (None, 5, 5, 320)    0           ['batch_normalization_838[0][0]']\n",
            "                                                                                                  \n",
            " mixed9_1 (Concatenate)         (None, 5, 5, 768)    0           ['activation_839[0][0]',         \n",
            "                                                                  'activation_840[0][0]']         \n",
            "                                                                                                  \n",
            " concatenate_17 (Concatenate)   (None, 5, 5, 768)    0           ['activation_843[0][0]',         \n",
            "                                                                  'activation_844[0][0]']         \n",
            "                                                                                                  \n",
            " activation_845 (Activation)    (None, 5, 5, 192)    0           ['batch_normalization_846[0][0]']\n",
            "                                                                                                  \n",
            " mixed10 (Concatenate)          (None, 5, 5, 2048)   0           ['activation_837[0][0]',         \n",
            "                                                                  'mixed9_1[0][0]',               \n",
            "                                                                  'concatenate_17[0][0]',         \n",
            "                                                                  'activation_845[0][0]']         \n",
            "                                                                                                  \n",
            " global_average_pooling2d_8 (Gl  (None, 2048)        0           ['mixed10[0][0]']                \n",
            " obalAveragePooling2D)                                                                            \n",
            "                                                                                                  \n",
            " flatten_7 (Flatten)            (None, 2048)         0           ['global_average_pooling2d_8[0][0\n",
            "                                                                 ]']                              \n",
            "                                                                                                  \n",
            " dense_9 (Dense)                (None, 6)            12294       ['flatten_7[0][0]']              \n",
            "                                                                                                  \n",
            "==================================================================================================\n",
            "Total params: 21,815,078\n",
            "Trainable params: 12,294\n",
            "Non-trainable params: 21,802,784\n",
            "__________________________________________________________________________________________________\n"
          ]
        }
      ]
    },
    {
      "cell_type": "code",
      "execution_count": 49,
      "id": "1133c21a",
      "metadata": {
        "id": "1133c21a",
        "colab": {
          "base_uri": "https://localhost:8080/"
        },
        "outputId": "e320886b-8bbe-4f2a-8b0b-6000764a9197"
      },
      "outputs": [
        {
          "output_type": "stream",
          "name": "stdout",
          "text": [
            "Epoch 1/50\n"
          ]
        },
        {
          "output_type": "stream",
          "name": "stderr",
          "text": [
            "/usr/local/lib/python3.7/dist-packages/ipykernel_launcher.py:7: UserWarning: `Model.fit_generator` is deprecated and will be removed in a future version. Please use `Model.fit`, which supports generators.\n",
            "  import sys\n"
          ]
        },
        {
          "output_type": "stream",
          "name": "stdout",
          "text": [
            "42/42 [==============================] - ETA: 0s - loss: 1.7002 - accuracy: 0.3354"
          ]
        },
        {
          "output_type": "stream",
          "name": "stderr",
          "text": [
            "WARNING:tensorflow:Can save best model only with val_acc available, skipping.\n"
          ]
        },
        {
          "output_type": "stream",
          "name": "stdout",
          "text": [
            "\b\b\b\b\b\b\b\b\b\b\b\b\b\b\b\b\b\b\b\b\b\b\b\b\b\b\b\b\b\b\b\b\b\b\b\b\b\b\b\b\b\b\b\b\b\b\b\b\b\b\b\b\b\b\b\b\b\b\b\b\b\b\b\b\b\b\b\b\b\b\b\b\b\b\b\b\b\b\b\b\b\b\r42/42 [==============================] - 15s 242ms/step - loss: 1.7002 - accuracy: 0.3354 - val_loss: 1.6234 - val_accuracy: 0.3231\n",
            "Epoch 2/50\n",
            "42/42 [==============================] - ETA: 0s - loss: 1.4744 - accuracy: 0.4403"
          ]
        },
        {
          "output_type": "stream",
          "name": "stderr",
          "text": [
            "WARNING:tensorflow:Can save best model only with val_acc available, skipping.\n"
          ]
        },
        {
          "output_type": "stream",
          "name": "stdout",
          "text": [
            "\b\b\b\b\b\b\b\b\b\b\b\b\b\b\b\b\b\b\b\b\b\b\b\b\b\b\b\b\b\b\b\b\b\b\b\b\b\b\b\b\b\b\b\b\b\b\b\b\b\b\b\b\b\b\b\b\b\b\b\b\b\b\b\b\b\b\b\b\b\b\b\b\b\b\b\b\b\b\b\b\b\b\r42/42 [==============================] - 7s 176ms/step - loss: 1.4744 - accuracy: 0.4403 - val_loss: 1.4723 - val_accuracy: 0.3930\n",
            "Epoch 3/50\n",
            "42/42 [==============================] - ETA: 0s - loss: 1.3210 - accuracy: 0.5278"
          ]
        },
        {
          "output_type": "stream",
          "name": "stderr",
          "text": [
            "WARNING:tensorflow:Can save best model only with val_acc available, skipping.\n"
          ]
        },
        {
          "output_type": "stream",
          "name": "stdout",
          "text": [
            "\b\b\b\b\b\b\b\b\b\b\b\b\b\b\b\b\b\b\b\b\b\b\b\b\b\b\b\b\b\b\b\b\b\b\b\b\b\b\b\b\b\b\b\b\b\b\b\b\b\b\b\b\b\b\b\b\b\b\b\b\b\b\b\b\b\b\b\b\b\b\b\b\b\b\b\b\b\b\b\b\b\b\r42/42 [==============================] - 7s 177ms/step - loss: 1.3210 - accuracy: 0.5278 - val_loss: 1.3523 - val_accuracy: 0.4760\n",
            "Epoch 4/50\n",
            "42/42 [==============================] - ETA: 0s - loss: 1.2048 - accuracy: 0.5962"
          ]
        },
        {
          "output_type": "stream",
          "name": "stderr",
          "text": [
            "WARNING:tensorflow:Can save best model only with val_acc available, skipping.\n"
          ]
        },
        {
          "output_type": "stream",
          "name": "stdout",
          "text": [
            "\b\b\b\b\b\b\b\b\b\b\b\b\b\b\b\b\b\b\b\b\b\b\b\b\b\b\b\b\b\b\b\b\b\b\b\b\b\b\b\b\b\b\b\b\b\b\b\b\b\b\b\b\b\b\b\b\b\b\b\b\b\b\b\b\b\b\b\b\b\b\b\b\b\b\b\b\b\b\b\b\b\b\r42/42 [==============================] - 7s 176ms/step - loss: 1.2048 - accuracy: 0.5962 - val_loss: 1.2540 - val_accuracy: 0.5328\n",
            "Epoch 5/50\n",
            "42/42 [==============================] - ETA: 0s - loss: 1.1060 - accuracy: 0.6312"
          ]
        },
        {
          "output_type": "stream",
          "name": "stderr",
          "text": [
            "WARNING:tensorflow:Can save best model only with val_acc available, skipping.\n"
          ]
        },
        {
          "output_type": "stream",
          "name": "stdout",
          "text": [
            "\b\b\b\b\b\b\b\b\b\b\b\b\b\b\b\b\b\b\b\b\b\b\b\b\b\b\b\b\b\b\b\b\b\b\b\b\b\b\b\b\b\b\b\b\b\b\b\b\b\b\b\b\b\b\b\b\b\b\b\b\b\b\b\b\b\b\b\b\b\b\b\b\b\b\b\b\b\b\b\b\b\b\r42/42 [==============================] - 7s 177ms/step - loss: 1.1060 - accuracy: 0.6312 - val_loss: 1.1720 - val_accuracy: 0.5808\n",
            "Epoch 6/50\n",
            "42/42 [==============================] - ETA: 0s - loss: 1.0246 - accuracy: 0.6783"
          ]
        },
        {
          "output_type": "stream",
          "name": "stderr",
          "text": [
            "WARNING:tensorflow:Can save best model only with val_acc available, skipping.\n"
          ]
        },
        {
          "output_type": "stream",
          "name": "stdout",
          "text": [
            "\b\b\b\b\b\b\b\b\b\b\b\b\b\b\b\b\b\b\b\b\b\b\b\b\b\b\b\b\b\b\b\b\b\b\b\b\b\b\b\b\b\b\b\b\b\b\b\b\b\b\b\b\b\b\b\b\b\b\b\b\b\b\b\b\b\b\b\b\b\b\b\b\b\b\b\b\b\b\b\b\b\b\r42/42 [==============================] - 7s 179ms/step - loss: 1.0246 - accuracy: 0.6783 - val_loss: 1.0998 - val_accuracy: 0.6114\n",
            "Epoch 7/50\n",
            "42/42 [==============================] - ETA: 0s - loss: 0.9623 - accuracy: 0.7004"
          ]
        },
        {
          "output_type": "stream",
          "name": "stderr",
          "text": [
            "WARNING:tensorflow:Can save best model only with val_acc available, skipping.\n"
          ]
        },
        {
          "output_type": "stream",
          "name": "stdout",
          "text": [
            "\b\b\b\b\b\b\b\b\b\b\b\b\b\b\b\b\b\b\b\b\b\b\b\b\b\b\b\b\b\b\b\b\b\b\b\b\b\b\b\b\b\b\b\b\b\b\b\b\b\b\b\b\b\b\b\b\b\b\b\b\b\b\b\b\b\b\b\b\b\b\b\b\b\b\b\b\b\b\b\b\b\b\r42/42 [==============================] - 7s 174ms/step - loss: 0.9623 - accuracy: 0.7004 - val_loss: 1.0450 - val_accuracy: 0.6288\n",
            "Epoch 8/50\n",
            "42/42 [==============================] - ETA: 0s - loss: 0.9032 - accuracy: 0.7300"
          ]
        },
        {
          "output_type": "stream",
          "name": "stderr",
          "text": [
            "WARNING:tensorflow:Can save best model only with val_acc available, skipping.\n"
          ]
        },
        {
          "output_type": "stream",
          "name": "stdout",
          "text": [
            "\b\b\b\b\b\b\b\b\b\b\b\b\b\b\b\b\b\b\b\b\b\b\b\b\b\b\b\b\b\b\b\b\b\b\b\b\b\b\b\b\b\b\b\b\b\b\b\b\b\b\b\b\b\b\b\b\b\b\b\b\b\b\b\b\b\b\b\b\b\b\b\b\b\b\b\b\b\b\b\b\b\b\r42/42 [==============================] - 7s 175ms/step - loss: 0.9032 - accuracy: 0.7300 - val_loss: 1.0034 - val_accuracy: 0.6419\n",
            "Epoch 9/50\n",
            "42/42 [==============================] - ETA: 0s - loss: 0.8490 - accuracy: 0.7536"
          ]
        },
        {
          "output_type": "stream",
          "name": "stderr",
          "text": [
            "WARNING:tensorflow:Can save best model only with val_acc available, skipping.\n"
          ]
        },
        {
          "output_type": "stream",
          "name": "stdout",
          "text": [
            "\b\b\b\b\b\b\b\b\b\b\b\b\b\b\b\b\b\b\b\b\b\b\b\b\b\b\b\b\b\b\b\b\b\b\b\b\b\b\b\b\b\b\b\b\b\b\b\b\b\b\b\b\b\b\b\b\b\b\b\b\b\b\b\b\b\b\b\b\b\b\b\b\b\b\b\b\b\b\b\b\b\b\r42/42 [==============================] - 7s 175ms/step - loss: 0.8490 - accuracy: 0.7536 - val_loss: 0.9608 - val_accuracy: 0.6594\n",
            "Epoch 10/50\n",
            "42/42 [==============================] - ETA: 0s - loss: 0.8046 - accuracy: 0.7665"
          ]
        },
        {
          "output_type": "stream",
          "name": "stderr",
          "text": [
            "WARNING:tensorflow:Can save best model only with val_acc available, skipping.\n"
          ]
        },
        {
          "output_type": "stream",
          "name": "stdout",
          "text": [
            "\b\b\b\b\b\b\b\b\b\b\b\b\b\b\b\b\b\b\b\b\b\b\b\b\b\b\b\b\b\b\b\b\b\b\b\b\b\b\b\b\b\b\b\b\b\b\b\b\b\b\b\b\b\b\b\b\b\b\b\b\b\b\b\b\b\b\b\b\b\b\b\b\b\b\b\b\b\b\b\b\b\b\r42/42 [==============================] - 7s 176ms/step - loss: 0.8046 - accuracy: 0.7665 - val_loss: 0.9186 - val_accuracy: 0.7205\n",
            "Epoch 11/50\n",
            "42/42 [==============================] - ETA: 0s - loss: 0.7646 - accuracy: 0.7871"
          ]
        },
        {
          "output_type": "stream",
          "name": "stderr",
          "text": [
            "WARNING:tensorflow:Can save best model only with val_acc available, skipping.\n"
          ]
        },
        {
          "output_type": "stream",
          "name": "stdout",
          "text": [
            "\b\b\b\b\b\b\b\b\b\b\b\b\b\b\b\b\b\b\b\b\b\b\b\b\b\b\b\b\b\b\b\b\b\b\b\b\b\b\b\b\b\b\b\b\b\b\b\b\b\b\b\b\b\b\b\b\b\b\b\b\b\b\b\b\b\b\b\b\b\b\b\b\b\b\b\b\b\b\b\b\b\b\r42/42 [==============================] - 7s 177ms/step - loss: 0.7646 - accuracy: 0.7871 - val_loss: 0.8872 - val_accuracy: 0.7162\n",
            "Epoch 12/50\n",
            "42/42 [==============================] - ETA: 0s - loss: 0.7315 - accuracy: 0.7985"
          ]
        },
        {
          "output_type": "stream",
          "name": "stderr",
          "text": [
            "WARNING:tensorflow:Can save best model only with val_acc available, skipping.\n"
          ]
        },
        {
          "output_type": "stream",
          "name": "stdout",
          "text": [
            "\b\b\b\b\b\b\b\b\b\b\b\b\b\b\b\b\b\b\b\b\b\b\b\b\b\b\b\b\b\b\b\b\b\b\b\b\b\b\b\b\b\b\b\b\b\b\b\b\b\b\b\b\b\b\b\b\b\b\b\b\b\b\b\b\b\b\b\b\b\b\b\b\b\b\b\b\b\b\b\b\b\b\r42/42 [==============================] - 7s 175ms/step - loss: 0.7315 - accuracy: 0.7985 - val_loss: 0.8676 - val_accuracy: 0.7118\n",
            "Epoch 13/50\n",
            "42/42 [==============================] - ETA: 0s - loss: 0.6959 - accuracy: 0.8129"
          ]
        },
        {
          "output_type": "stream",
          "name": "stderr",
          "text": [
            "WARNING:tensorflow:Can save best model only with val_acc available, skipping.\n"
          ]
        },
        {
          "output_type": "stream",
          "name": "stdout",
          "text": [
            "\b\b\b\b\b\b\b\b\b\b\b\b\b\b\b\b\b\b\b\b\b\b\b\b\b\b\b\b\b\b\b\b\b\b\b\b\b\b\b\b\b\b\b\b\b\b\b\b\b\b\b\b\b\b\b\b\b\b\b\b\b\b\b\b\b\b\b\b\b\b\b\b\b\b\b\b\b\b\b\b\b\b\r42/42 [==============================] - 7s 174ms/step - loss: 0.6959 - accuracy: 0.8129 - val_loss: 0.8325 - val_accuracy: 0.7336\n",
            "Epoch 14/50\n",
            "42/42 [==============================] - ETA: 0s - loss: 0.6702 - accuracy: 0.8190"
          ]
        },
        {
          "output_type": "stream",
          "name": "stderr",
          "text": [
            "WARNING:tensorflow:Can save best model only with val_acc available, skipping.\n"
          ]
        },
        {
          "output_type": "stream",
          "name": "stdout",
          "text": [
            "\b\b\b\b\b\b\b\b\b\b\b\b\b\b\b\b\b\b\b\b\b\b\b\b\b\b\b\b\b\b\b\b\b\b\b\b\b\b\b\b\b\b\b\b\b\b\b\b\b\b\b\b\b\b\b\b\b\b\b\b\b\b\b\b\b\b\b\b\b\b\b\b\b\b\b\b\b\b\b\b\b\b\r42/42 [==============================] - 8s 190ms/step - loss: 0.6702 - accuracy: 0.8190 - val_loss: 0.8074 - val_accuracy: 0.7336\n",
            "Epoch 15/50\n",
            "42/42 [==============================] - ETA: 0s - loss: 0.6427 - accuracy: 0.8357"
          ]
        },
        {
          "output_type": "stream",
          "name": "stderr",
          "text": [
            "WARNING:tensorflow:Can save best model only with val_acc available, skipping.\n"
          ]
        },
        {
          "output_type": "stream",
          "name": "stdout",
          "text": [
            "\b\b\b\b\b\b\b\b\b\b\b\b\b\b\b\b\b\b\b\b\b\b\b\b\b\b\b\b\b\b\b\b\b\b\b\b\b\b\b\b\b\b\b\b\b\b\b\b\b\b\b\b\b\b\b\b\b\b\b\b\b\b\b\b\b\b\b\b\b\b\b\b\b\b\b\b\b\b\b\b\b\b\r42/42 [==============================] - 7s 175ms/step - loss: 0.6427 - accuracy: 0.8357 - val_loss: 0.7871 - val_accuracy: 0.7424\n",
            "Epoch 16/50\n",
            "42/42 [==============================] - ETA: 0s - loss: 0.6196 - accuracy: 0.8312"
          ]
        },
        {
          "output_type": "stream",
          "name": "stderr",
          "text": [
            "WARNING:tensorflow:Can save best model only with val_acc available, skipping.\n"
          ]
        },
        {
          "output_type": "stream",
          "name": "stdout",
          "text": [
            "\b\b\b\b\b\b\b\b\b\b\b\b\b\b\b\b\b\b\b\b\b\b\b\b\b\b\b\b\b\b\b\b\b\b\b\b\b\b\b\b\b\b\b\b\b\b\b\b\b\b\b\b\b\b\b\b\b\b\b\b\b\b\b\b\b\b\b\b\b\b\b\b\b\b\b\b\b\b\b\b\b\b\r42/42 [==============================] - 7s 175ms/step - loss: 0.6196 - accuracy: 0.8312 - val_loss: 0.7693 - val_accuracy: 0.7380\n",
            "Epoch 17/50\n",
            "42/42 [==============================] - ETA: 0s - loss: 0.5972 - accuracy: 0.8487"
          ]
        },
        {
          "output_type": "stream",
          "name": "stderr",
          "text": [
            "WARNING:tensorflow:Can save best model only with val_acc available, skipping.\n"
          ]
        },
        {
          "output_type": "stream",
          "name": "stdout",
          "text": [
            "\b\b\b\b\b\b\b\b\b\b\b\b\b\b\b\b\b\b\b\b\b\b\b\b\b\b\b\b\b\b\b\b\b\b\b\b\b\b\b\b\b\b\b\b\b\b\b\b\b\b\b\b\b\b\b\b\b\b\b\b\b\b\b\b\b\b\b\b\b\b\b\b\b\b\b\b\b\b\b\b\b\b\r42/42 [==============================] - 7s 176ms/step - loss: 0.5972 - accuracy: 0.8487 - val_loss: 0.7450 - val_accuracy: 0.7467\n",
            "Epoch 18/50\n",
            "41/42 [============================>.] - ETA: 0s - loss: 0.5758 - accuracy: 0.8575"
          ]
        },
        {
          "output_type": "stream",
          "name": "stderr",
          "text": [
            "WARNING:tensorflow:Can save best model only with val_acc available, skipping.\n"
          ]
        },
        {
          "output_type": "stream",
          "name": "stdout",
          "text": [
            "\b\b\b\b\b\b\b\b\b\b\b\b\b\b\b\b\b\b\b\b\b\b\b\b\b\b\b\b\b\b\b\b\b\b\b\b\b\b\b\b\b\b\b\b\b\b\b\b\b\b\b\b\b\b\b\b\b\b\b\b\b\b\b\b\b\b\b\b\b\b\b\b\b\b\b\b\b\b\b\b\b\b\r42/42 [==============================] - 8s 196ms/step - loss: 0.5756 - accuracy: 0.8578 - val_loss: 0.7277 - val_accuracy: 0.7511\n",
            "Epoch 19/50\n",
            "42/42 [==============================] - ETA: 0s - loss: 0.5608 - accuracy: 0.8563"
          ]
        },
        {
          "output_type": "stream",
          "name": "stderr",
          "text": [
            "WARNING:tensorflow:Can save best model only with val_acc available, skipping.\n"
          ]
        },
        {
          "output_type": "stream",
          "name": "stdout",
          "text": [
            "\b\b\b\b\b\b\b\b\b\b\b\b\b\b\b\b\b\b\b\b\b\b\b\b\b\b\b\b\b\b\b\b\b\b\b\b\b\b\b\b\b\b\b\b\b\b\b\b\b\b\b\b\b\b\b\b\b\b\b\b\b\b\b\b\b\b\b\b\b\b\b\b\b\b\b\b\b\b\b\b\b\b\r42/42 [==============================] - 8s 178ms/step - loss: 0.5608 - accuracy: 0.8563 - val_loss: 0.7049 - val_accuracy: 0.7817\n",
            "Epoch 20/50\n",
            "42/42 [==============================] - ETA: 0s - loss: 0.5397 - accuracy: 0.8669"
          ]
        },
        {
          "output_type": "stream",
          "name": "stderr",
          "text": [
            "WARNING:tensorflow:Can save best model only with val_acc available, skipping.\n"
          ]
        },
        {
          "output_type": "stream",
          "name": "stdout",
          "text": [
            "\b\b\b\b\b\b\b\b\b\b\b\b\b\b\b\b\b\b\b\b\b\b\b\b\b\b\b\b\b\b\b\b\b\b\b\b\b\b\b\b\b\b\b\b\b\b\b\b\b\b\b\b\b\b\b\b\b\b\b\b\b\b\b\b\b\b\b\b\b\b\b\b\b\b\b\b\b\b\b\b\b\b\r42/42 [==============================] - 7s 176ms/step - loss: 0.5397 - accuracy: 0.8669 - val_loss: 0.6994 - val_accuracy: 0.7467\n",
            "Epoch 21/50\n",
            "42/42 [==============================] - ETA: 0s - loss: 0.5228 - accuracy: 0.8730"
          ]
        },
        {
          "output_type": "stream",
          "name": "stderr",
          "text": [
            "WARNING:tensorflow:Can save best model only with val_acc available, skipping.\n"
          ]
        },
        {
          "output_type": "stream",
          "name": "stdout",
          "text": [
            "\b\b\b\b\b\b\b\b\b\b\b\b\b\b\b\b\b\b\b\b\b\b\b\b\b\b\b\b\b\b\b\b\b\b\b\b\b\b\b\b\b\b\b\b\b\b\b\b\b\b\b\b\b\b\b\b\b\b\b\b\b\b\b\b\b\b\b\b\b\b\b\b\b\b\b\b\b\b\b\b\b\b\r42/42 [==============================] - 7s 176ms/step - loss: 0.5228 - accuracy: 0.8730 - val_loss: 0.6780 - val_accuracy: 0.7729\n",
            "Epoch 22/50\n",
            "41/42 [============================>.] - ETA: 0s - loss: 0.5079 - accuracy: 0.8796"
          ]
        },
        {
          "output_type": "stream",
          "name": "stderr",
          "text": [
            "WARNING:tensorflow:Can save best model only with val_acc available, skipping.\n"
          ]
        },
        {
          "output_type": "stream",
          "name": "stdout",
          "text": [
            "\b\b\b\b\b\b\b\b\b\b\b\b\b\b\b\b\b\b\b\b\b\b\b\b\b\b\b\b\b\b\b\b\b\b\b\b\b\b\b\b\b\b\b\b\b\b\b\b\b\b\b\b\b\b\b\b\b\b\b\b\b\b\b\b\b\b\b\b\b\b\b\b\b\b\b\b\b\b\b\b\b\b\r42/42 [==============================] - 7s 175ms/step - loss: 0.5078 - accuracy: 0.8798 - val_loss: 0.6631 - val_accuracy: 0.7642\n",
            "Epoch 23/50\n",
            "42/42 [==============================] - ETA: 0s - loss: 0.4950 - accuracy: 0.8814"
          ]
        },
        {
          "output_type": "stream",
          "name": "stderr",
          "text": [
            "WARNING:tensorflow:Can save best model only with val_acc available, skipping.\n"
          ]
        },
        {
          "output_type": "stream",
          "name": "stdout",
          "text": [
            "\b\b\b\b\b\b\b\b\b\b\b\b\b\b\b\b\b\b\b\b\b\b\b\b\b\b\b\b\b\b\b\b\b\b\b\b\b\b\b\b\b\b\b\b\b\b\b\b\b\b\b\b\b\b\b\b\b\b\b\b\b\b\b\b\b\b\b\b\b\b\b\b\b\b\b\b\b\b\b\b\b\b\r42/42 [==============================] - 7s 175ms/step - loss: 0.4950 - accuracy: 0.8814 - val_loss: 0.6572 - val_accuracy: 0.7642\n",
            "Epoch 24/50\n",
            "42/42 [==============================] - ETA: 0s - loss: 0.4804 - accuracy: 0.8882"
          ]
        },
        {
          "output_type": "stream",
          "name": "stderr",
          "text": [
            "WARNING:tensorflow:Can save best model only with val_acc available, skipping.\n"
          ]
        },
        {
          "output_type": "stream",
          "name": "stdout",
          "text": [
            "\b\b\b\b\b\b\b\b\b\b\b\b\b\b\b\b\b\b\b\b\b\b\b\b\b\b\b\b\b\b\b\b\b\b\b\b\b\b\b\b\b\b\b\b\b\b\b\b\b\b\b\b\b\b\b\b\b\b\b\b\b\b\b\b\b\b\b\b\b\b\b\b\b\b\b\b\b\b\b\b\b\b\r42/42 [==============================] - 7s 176ms/step - loss: 0.4804 - accuracy: 0.8882 - val_loss: 0.6432 - val_accuracy: 0.7555\n",
            "Epoch 25/50\n",
            "42/42 [==============================] - ETA: 0s - loss: 0.4671 - accuracy: 0.8928"
          ]
        },
        {
          "output_type": "stream",
          "name": "stderr",
          "text": [
            "WARNING:tensorflow:Can save best model only with val_acc available, skipping.\n"
          ]
        },
        {
          "output_type": "stream",
          "name": "stdout",
          "text": [
            "\b\b\b\b\b\b\b\b\b\b\b\b\b\b\b\b\b\b\b\b\b\b\b\b\b\b\b\b\b\b\b\b\b\b\b\b\b\b\b\b\b\b\b\b\b\b\b\b\b\b\b\b\b\b\b\b\b\b\b\b\b\b\b\b\b\b\b\b\b\b\b\b\b\b\b\b\b\b\b\b\b\b\r42/42 [==============================] - 7s 174ms/step - loss: 0.4671 - accuracy: 0.8928 - val_loss: 0.6335 - val_accuracy: 0.7729\n",
            "Epoch 26/50\n",
            "42/42 [==============================] - ETA: 0s - loss: 0.4610 - accuracy: 0.8928"
          ]
        },
        {
          "output_type": "stream",
          "name": "stderr",
          "text": [
            "WARNING:tensorflow:Can save best model only with val_acc available, skipping.\n"
          ]
        },
        {
          "output_type": "stream",
          "name": "stdout",
          "text": [
            "\b\b\b\b\b\b\b\b\b\b\b\b\b\b\b\b\b\b\b\b\b\b\b\b\b\b\b\b\b\b\b\b\b\b\b\b\b\b\b\b\b\b\b\b\b\b\b\b\b\b\b\b\b\b\b\b\b\b\b\b\b\b\b\b\b\b\b\b\b\b\b\b\b\b\b\b\b\b\b\b\b\b\r42/42 [==============================] - 7s 177ms/step - loss: 0.4610 - accuracy: 0.8928 - val_loss: 0.6240 - val_accuracy: 0.7555\n",
            "Epoch 27/50\n",
            "42/42 [==============================] - ETA: 0s - loss: 0.4453 - accuracy: 0.8981"
          ]
        },
        {
          "output_type": "stream",
          "name": "stderr",
          "text": [
            "WARNING:tensorflow:Can save best model only with val_acc available, skipping.\n"
          ]
        },
        {
          "output_type": "stream",
          "name": "stdout",
          "text": [
            "\b\b\b\b\b\b\b\b\b\b\b\b\b\b\b\b\b\b\b\b\b\b\b\b\b\b\b\b\b\b\b\b\b\b\b\b\b\b\b\b\b\b\b\b\b\b\b\b\b\b\b\b\b\b\b\b\b\b\b\b\b\b\b\b\b\b\b\b\b\b\b\b\b\b\b\b\b\b\b\b\b\b\r42/42 [==============================] - 7s 176ms/step - loss: 0.4453 - accuracy: 0.8981 - val_loss: 0.6113 - val_accuracy: 0.7642\n",
            "Epoch 28/50\n",
            "42/42 [==============================] - ETA: 0s - loss: 0.4335 - accuracy: 0.8951"
          ]
        },
        {
          "output_type": "stream",
          "name": "stderr",
          "text": [
            "WARNING:tensorflow:Can save best model only with val_acc available, skipping.\n"
          ]
        },
        {
          "output_type": "stream",
          "name": "stdout",
          "text": [
            "\b\b\b\b\b\b\b\b\b\b\b\b\b\b\b\b\b\b\b\b\b\b\b\b\b\b\b\b\b\b\b\b\b\b\b\b\b\b\b\b\b\b\b\b\b\b\b\b\b\b\b\b\b\b\b\b\b\b\b\b\b\b\b\b\b\b\b\b\b\b\b\b\b\b\b\b\b\b\b\b\b\b\r42/42 [==============================] - 7s 175ms/step - loss: 0.4335 - accuracy: 0.8951 - val_loss: 0.6039 - val_accuracy: 0.7598\n",
            "Epoch 29/50\n",
            "42/42 [==============================] - ETA: 0s - loss: 0.4246 - accuracy: 0.9034"
          ]
        },
        {
          "output_type": "stream",
          "name": "stderr",
          "text": [
            "WARNING:tensorflow:Can save best model only with val_acc available, skipping.\n"
          ]
        },
        {
          "output_type": "stream",
          "name": "stdout",
          "text": [
            "\b\b\b\b\b\b\b\b\b\b\b\b\b\b\b\b\b\b\b\b\b\b\b\b\b\b\b\b\b\b\b\b\b\b\b\b\b\b\b\b\b\b\b\b\b\b\b\b\b\b\b\b\b\b\b\b\b\b\b\b\b\b\b\b\b\b\b\b\b\b\b\b\b\b\b\b\b\b\b\b\b\b\r42/42 [==============================] - 7s 175ms/step - loss: 0.4246 - accuracy: 0.9034 - val_loss: 0.5835 - val_accuracy: 0.7904\n",
            "Epoch 30/50\n",
            "42/42 [==============================] - ETA: 0s - loss: 0.4137 - accuracy: 0.9057"
          ]
        },
        {
          "output_type": "stream",
          "name": "stderr",
          "text": [
            "WARNING:tensorflow:Can save best model only with val_acc available, skipping.\n"
          ]
        },
        {
          "output_type": "stream",
          "name": "stdout",
          "text": [
            "\b\b\b\b\b\b\b\b\b\b\b\b\b\b\b\b\b\b\b\b\b\b\b\b\b\b\b\b\b\b\b\b\b\b\b\b\b\b\b\b\b\b\b\b\b\b\b\b\b\b\b\b\b\b\b\b\b\b\b\b\b\b\b\b\b\b\b\b\b\b\b\b\b\b\b\b\b\b\b\b\b\b\r42/42 [==============================] - 7s 172ms/step - loss: 0.4137 - accuracy: 0.9057 - val_loss: 0.5840 - val_accuracy: 0.7773\n",
            "Epoch 31/50\n",
            "42/42 [==============================] - ETA: 0s - loss: 0.4032 - accuracy: 0.9080"
          ]
        },
        {
          "output_type": "stream",
          "name": "stderr",
          "text": [
            "WARNING:tensorflow:Can save best model only with val_acc available, skipping.\n"
          ]
        },
        {
          "output_type": "stream",
          "name": "stdout",
          "text": [
            "\b\b\b\b\b\b\b\b\b\b\b\b\b\b\b\b\b\b\b\b\b\b\b\b\b\b\b\b\b\b\b\b\b\b\b\b\b\b\b\b\b\b\b\b\b\b\b\b\b\b\b\b\b\b\b\b\b\b\b\b\b\b\b\b\b\b\b\b\b\b\b\b\b\b\b\b\b\b\b\b\b\b\r42/42 [==============================] - 7s 175ms/step - loss: 0.4032 - accuracy: 0.9080 - val_loss: 0.5754 - val_accuracy: 0.7729\n",
            "Epoch 32/50\n",
            "42/42 [==============================] - ETA: 0s - loss: 0.3950 - accuracy: 0.9095"
          ]
        },
        {
          "output_type": "stream",
          "name": "stderr",
          "text": [
            "WARNING:tensorflow:Can save best model only with val_acc available, skipping.\n"
          ]
        },
        {
          "output_type": "stream",
          "name": "stdout",
          "text": [
            "\b\b\b\b\b\b\b\b\b\b\b\b\b\b\b\b\b\b\b\b\b\b\b\b\b\b\b\b\b\b\b\b\b\b\b\b\b\b\b\b\b\b\b\b\b\b\b\b\b\b\b\b\b\b\b\b\b\b\b\b\b\b\b\b\b\b\b\b\b\b\b\b\b\b\b\b\b\b\b\b\b\b\r42/42 [==============================] - 7s 176ms/step - loss: 0.3950 - accuracy: 0.9095 - val_loss: 0.5718 - val_accuracy: 0.7860\n",
            "Epoch 33/50\n",
            "42/42 [==============================] - ETA: 0s - loss: 0.3885 - accuracy: 0.9156"
          ]
        },
        {
          "output_type": "stream",
          "name": "stderr",
          "text": [
            "WARNING:tensorflow:Can save best model only with val_acc available, skipping.\n"
          ]
        },
        {
          "output_type": "stream",
          "name": "stdout",
          "text": [
            "\b\b\b\b\b\b\b\b\b\b\b\b\b\b\b\b\b\b\b\b\b\b\b\b\b\b\b\b\b\b\b\b\b\b\b\b\b\b\b\b\b\b\b\b\b\b\b\b\b\b\b\b\b\b\b\b\b\b\b\b\b\b\b\b\b\b\b\b\b\b\b\b\b\b\b\b\b\b\b\b\b\b\r42/42 [==============================] - 7s 174ms/step - loss: 0.3885 - accuracy: 0.9156 - val_loss: 0.5578 - val_accuracy: 0.7860\n",
            "Epoch 34/50\n",
            "42/42 [==============================] - ETA: 0s - loss: 0.3789 - accuracy: 0.9156"
          ]
        },
        {
          "output_type": "stream",
          "name": "stderr",
          "text": [
            "WARNING:tensorflow:Can save best model only with val_acc available, skipping.\n"
          ]
        },
        {
          "output_type": "stream",
          "name": "stdout",
          "text": [
            "\b\b\b\b\b\b\b\b\b\b\b\b\b\b\b\b\b\b\b\b\b\b\b\b\b\b\b\b\b\b\b\b\b\b\b\b\b\b\b\b\b\b\b\b\b\b\b\b\b\b\b\b\b\b\b\b\b\b\b\b\b\b\b\b\b\b\b\b\b\b\b\b\b\b\b\b\b\b\b\b\b\b\r42/42 [==============================] - 7s 176ms/step - loss: 0.3789 - accuracy: 0.9156 - val_loss: 0.5512 - val_accuracy: 0.7817\n",
            "Epoch 35/50\n",
            "42/42 [==============================] - ETA: 0s - loss: 0.3705 - accuracy: 0.9202"
          ]
        },
        {
          "output_type": "stream",
          "name": "stderr",
          "text": [
            "WARNING:tensorflow:Can save best model only with val_acc available, skipping.\n"
          ]
        },
        {
          "output_type": "stream",
          "name": "stdout",
          "text": [
            "\b\b\b\b\b\b\b\b\b\b\b\b\b\b\b\b\b\b\b\b\b\b\b\b\b\b\b\b\b\b\b\b\b\b\b\b\b\b\b\b\b\b\b\b\b\b\b\b\b\b\b\b\b\b\b\b\b\b\b\b\b\b\b\b\b\b\b\b\b\b\b\b\b\b\b\b\b\b\b\b\b\b\r42/42 [==============================] - 7s 170ms/step - loss: 0.3705 - accuracy: 0.9202 - val_loss: 0.5520 - val_accuracy: 0.7729\n",
            "Epoch 36/50\n",
            "42/42 [==============================] - ETA: 0s - loss: 0.3654 - accuracy: 0.9148"
          ]
        },
        {
          "output_type": "stream",
          "name": "stderr",
          "text": [
            "WARNING:tensorflow:Can save best model only with val_acc available, skipping.\n"
          ]
        },
        {
          "output_type": "stream",
          "name": "stdout",
          "text": [
            "\b\b\b\b\b\b\b\b\b\b\b\b\b\b\b\b\b\b\b\b\b\b\b\b\b\b\b\b\b\b\b\b\b\b\b\b\b\b\b\b\b\b\b\b\b\b\b\b\b\b\b\b\b\b\b\b\b\b\b\b\b\b\b\b\b\b\b\b\b\b\b\b\b\b\b\b\b\b\b\b\b\b\r42/42 [==============================] - 7s 175ms/step - loss: 0.3654 - accuracy: 0.9148 - val_loss: 0.5410 - val_accuracy: 0.7729\n",
            "Epoch 37/50\n",
            "42/42 [==============================] - ETA: 0s - loss: 0.3563 - accuracy: 0.9179"
          ]
        },
        {
          "output_type": "stream",
          "name": "stderr",
          "text": [
            "WARNING:tensorflow:Can save best model only with val_acc available, skipping.\n"
          ]
        },
        {
          "output_type": "stream",
          "name": "stdout",
          "text": [
            "\b\b\b\b\b\b\b\b\b\b\b\b\b\b\b\b\b\b\b\b\b\b\b\b\b\b\b\b\b\b\b\b\b\b\b\b\b\b\b\b\b\b\b\b\b\b\b\b\b\b\b\b\b\b\b\b\b\b\b\b\b\b\b\b\b\b\b\b\b\b\b\b\b\b\b\b\b\b\b\b\b\b\r42/42 [==============================] - 8s 178ms/step - loss: 0.3563 - accuracy: 0.9179 - val_loss: 0.5341 - val_accuracy: 0.7729\n",
            "Epoch 38/50\n",
            "42/42 [==============================] - ETA: 0s - loss: 0.3490 - accuracy: 0.9240"
          ]
        },
        {
          "output_type": "stream",
          "name": "stderr",
          "text": [
            "WARNING:tensorflow:Can save best model only with val_acc available, skipping.\n"
          ]
        },
        {
          "output_type": "stream",
          "name": "stdout",
          "text": [
            "\b\b\b\b\b\b\b\b\b\b\b\b\b\b\b\b\b\b\b\b\b\b\b\b\b\b\b\b\b\b\b\b\b\b\b\b\b\b\b\b\b\b\b\b\b\b\b\b\b\b\b\b\b\b\b\b\b\b\b\b\b\b\b\b\b\b\b\b\b\b\b\b\b\b\b\b\b\b\b\b\b\b\r42/42 [==============================] - 7s 177ms/step - loss: 0.3490 - accuracy: 0.9240 - val_loss: 0.5276 - val_accuracy: 0.8035\n",
            "Epoch 39/50\n",
            "42/42 [==============================] - ETA: 0s - loss: 0.3429 - accuracy: 0.9240"
          ]
        },
        {
          "output_type": "stream",
          "name": "stderr",
          "text": [
            "WARNING:tensorflow:Can save best model only with val_acc available, skipping.\n"
          ]
        },
        {
          "output_type": "stream",
          "name": "stdout",
          "text": [
            "\b\b\b\b\b\b\b\b\b\b\b\b\b\b\b\b\b\b\b\b\b\b\b\b\b\b\b\b\b\b\b\b\b\b\b\b\b\b\b\b\b\b\b\b\b\b\b\b\b\b\b\b\b\b\b\b\b\b\b\b\b\b\b\b\b\b\b\b\b\b\b\b\b\b\b\b\b\b\b\b\b\b\r42/42 [==============================] - 7s 174ms/step - loss: 0.3429 - accuracy: 0.9240 - val_loss: 0.5182 - val_accuracy: 0.7991\n",
            "Epoch 40/50\n",
            "42/42 [==============================] - ETA: 0s - loss: 0.3371 - accuracy: 0.9255"
          ]
        },
        {
          "output_type": "stream",
          "name": "stderr",
          "text": [
            "WARNING:tensorflow:Can save best model only with val_acc available, skipping.\n"
          ]
        },
        {
          "output_type": "stream",
          "name": "stdout",
          "text": [
            "\b\b\b\b\b\b\b\b\b\b\b\b\b\b\b\b\b\b\b\b\b\b\b\b\b\b\b\b\b\b\b\b\b\b\b\b\b\b\b\b\b\b\b\b\b\b\b\b\b\b\b\b\b\b\b\b\b\b\b\b\b\b\b\b\b\b\b\b\b\b\b\b\b\b\b\b\b\b\b\b\b\b\r42/42 [==============================] - 7s 170ms/step - loss: 0.3371 - accuracy: 0.9255 - val_loss: 0.5185 - val_accuracy: 0.7904\n",
            "Epoch 41/50\n",
            "42/42 [==============================] - ETA: 0s - loss: 0.3299 - accuracy: 0.9278"
          ]
        },
        {
          "output_type": "stream",
          "name": "stderr",
          "text": [
            "WARNING:tensorflow:Can save best model only with val_acc available, skipping.\n"
          ]
        },
        {
          "output_type": "stream",
          "name": "stdout",
          "text": [
            "\b\b\b\b\b\b\b\b\b\b\b\b\b\b\b\b\b\b\b\b\b\b\b\b\b\b\b\b\b\b\b\b\b\b\b\b\b\b\b\b\b\b\b\b\b\b\b\b\b\b\b\b\b\b\b\b\b\b\b\b\b\b\b\b\b\b\b\b\b\b\b\b\b\b\b\b\b\b\b\b\b\b\r42/42 [==============================] - 7s 176ms/step - loss: 0.3299 - accuracy: 0.9278 - val_loss: 0.5121 - val_accuracy: 0.7817\n",
            "Epoch 42/50\n",
            "42/42 [==============================] - ETA: 0s - loss: 0.3236 - accuracy: 0.9270"
          ]
        },
        {
          "output_type": "stream",
          "name": "stderr",
          "text": [
            "WARNING:tensorflow:Can save best model only with val_acc available, skipping.\n"
          ]
        },
        {
          "output_type": "stream",
          "name": "stdout",
          "text": [
            "\b\b\b\b\b\b\b\b\b\b\b\b\b\b\b\b\b\b\b\b\b\b\b\b\b\b\b\b\b\b\b\b\b\b\b\b\b\b\b\b\b\b\b\b\b\b\b\b\b\b\b\b\b\b\b\b\b\b\b\b\b\b\b\b\b\b\b\b\b\b\b\b\b\b\b\b\b\b\b\b\b\b\r42/42 [==============================] - 7s 176ms/step - loss: 0.3236 - accuracy: 0.9270 - val_loss: 0.5071 - val_accuracy: 0.7991\n",
            "Epoch 43/50\n",
            "42/42 [==============================] - ETA: 0s - loss: 0.3176 - accuracy: 0.9308"
          ]
        },
        {
          "output_type": "stream",
          "name": "stderr",
          "text": [
            "WARNING:tensorflow:Can save best model only with val_acc available, skipping.\n"
          ]
        },
        {
          "output_type": "stream",
          "name": "stdout",
          "text": [
            "\b\b\b\b\b\b\b\b\b\b\b\b\b\b\b\b\b\b\b\b\b\b\b\b\b\b\b\b\b\b\b\b\b\b\b\b\b\b\b\b\b\b\b\b\b\b\b\b\b\b\b\b\b\b\b\b\b\b\b\b\b\b\b\b\b\b\b\b\b\b\b\b\b\b\b\b\b\b\b\b\b\b\r42/42 [==============================] - 7s 176ms/step - loss: 0.3176 - accuracy: 0.9308 - val_loss: 0.4995 - val_accuracy: 0.7948\n",
            "Epoch 44/50\n",
            "42/42 [==============================] - ETA: 0s - loss: 0.3123 - accuracy: 0.9346"
          ]
        },
        {
          "output_type": "stream",
          "name": "stderr",
          "text": [
            "WARNING:tensorflow:Can save best model only with val_acc available, skipping.\n"
          ]
        },
        {
          "output_type": "stream",
          "name": "stdout",
          "text": [
            "\b\b\b\b\b\b\b\b\b\b\b\b\b\b\b\b\b\b\b\b\b\b\b\b\b\b\b\b\b\b\b\b\b\b\b\b\b\b\b\b\b\b\b\b\b\b\b\b\b\b\b\b\b\b\b\b\b\b\b\b\b\b\b\b\b\b\b\b\b\b\b\b\b\b\b\b\b\b\b\b\b\b\r42/42 [==============================] - 7s 175ms/step - loss: 0.3123 - accuracy: 0.9346 - val_loss: 0.4955 - val_accuracy: 0.7948\n",
            "Epoch 45/50\n",
            "42/42 [==============================] - ETA: 0s - loss: 0.3087 - accuracy: 0.9354"
          ]
        },
        {
          "output_type": "stream",
          "name": "stderr",
          "text": [
            "WARNING:tensorflow:Can save best model only with val_acc available, skipping.\n"
          ]
        },
        {
          "output_type": "stream",
          "name": "stdout",
          "text": [
            "\b\b\b\b\b\b\b\b\b\b\b\b\b\b\b\b\b\b\b\b\b\b\b\b\b\b\b\b\b\b\b\b\b\b\b\b\b\b\b\b\b\b\b\b\b\b\b\b\b\b\b\b\b\b\b\b\b\b\b\b\b\b\b\b\b\b\b\b\b\b\b\b\b\b\b\b\b\b\b\b\b\b\r42/42 [==============================] - 7s 174ms/step - loss: 0.3087 - accuracy: 0.9354 - val_loss: 0.4895 - val_accuracy: 0.8079\n",
            "Epoch 46/50\n",
            "42/42 [==============================] - ETA: 0s - loss: 0.3028 - accuracy: 0.9392"
          ]
        },
        {
          "output_type": "stream",
          "name": "stderr",
          "text": [
            "WARNING:tensorflow:Can save best model only with val_acc available, skipping.\n"
          ]
        },
        {
          "output_type": "stream",
          "name": "stdout",
          "text": [
            "\b\b\b\b\b\b\b\b\b\b\b\b\b\b\b\b\b\b\b\b\b\b\b\b\b\b\b\b\b\b\b\b\b\b\b\b\b\b\b\b\b\b\b\b\b\b\b\b\b\b\b\b\b\b\b\b\b\b\b\b\b\b\b\b\b\b\b\b\b\b\b\b\b\b\b\b\b\b\b\b\b\b\r42/42 [==============================] - 7s 173ms/step - loss: 0.3028 - accuracy: 0.9392 - val_loss: 0.4807 - val_accuracy: 0.8210\n",
            "Epoch 47/50\n",
            "42/42 [==============================] - ETA: 0s - loss: 0.2968 - accuracy: 0.9392"
          ]
        },
        {
          "output_type": "stream",
          "name": "stderr",
          "text": [
            "WARNING:tensorflow:Can save best model only with val_acc available, skipping.\n"
          ]
        },
        {
          "output_type": "stream",
          "name": "stdout",
          "text": [
            "\b\b\b\b\b\b\b\b\b\b\b\b\b\b\b\b\b\b\b\b\b\b\b\b\b\b\b\b\b\b\b\b\b\b\b\b\b\b\b\b\b\b\b\b\b\b\b\b\b\b\b\b\b\b\b\b\b\b\b\b\b\b\b\b\b\b\b\b\b\b\b\b\b\b\b\b\b\b\b\b\b\b\r42/42 [==============================] - 7s 170ms/step - loss: 0.2968 - accuracy: 0.9392 - val_loss: 0.4836 - val_accuracy: 0.8079\n",
            "Epoch 48/50\n",
            "42/42 [==============================] - ETA: 0s - loss: 0.2905 - accuracy: 0.9445"
          ]
        },
        {
          "output_type": "stream",
          "name": "stderr",
          "text": [
            "WARNING:tensorflow:Can save best model only with val_acc available, skipping.\n"
          ]
        },
        {
          "output_type": "stream",
          "name": "stdout",
          "text": [
            "\b\b\b\b\b\b\b\b\b\b\b\b\b\b\b\b\b\b\b\b\b\b\b\b\b\b\b\b\b\b\b\b\b\b\b\b\b\b\b\b\b\b\b\b\b\b\b\b\b\b\b\b\b\b\b\b\b\b\b\b\b\b\b\b\b\b\b\b\b\b\b\b\b\b\b\b\b\b\b\b\b\b\r42/42 [==============================] - 7s 171ms/step - loss: 0.2905 - accuracy: 0.9445 - val_loss: 0.4826 - val_accuracy: 0.7991\n",
            "Epoch 49/50\n",
            "42/42 [==============================] - ETA: 0s - loss: 0.2875 - accuracy: 0.9407"
          ]
        },
        {
          "output_type": "stream",
          "name": "stderr",
          "text": [
            "WARNING:tensorflow:Can save best model only with val_acc available, skipping.\n"
          ]
        },
        {
          "output_type": "stream",
          "name": "stdout",
          "text": [
            "\b\b\b\b\b\b\b\b\b\b\b\b\b\b\b\b\b\b\b\b\b\b\b\b\b\b\b\b\b\b\b\b\b\b\b\b\b\b\b\b\b\b\b\b\b\b\b\b\b\b\b\b\b\b\b\b\b\b\b\b\b\b\b\b\b\b\b\b\b\b\b\b\b\b\b\b\b\b\b\b\b\b\r42/42 [==============================] - 7s 175ms/step - loss: 0.2875 - accuracy: 0.9407 - val_loss: 0.4733 - val_accuracy: 0.8166\n",
            "Epoch 50/50\n",
            "42/42 [==============================] - ETA: 0s - loss: 0.2821 - accuracy: 0.9452"
          ]
        },
        {
          "output_type": "stream",
          "name": "stderr",
          "text": [
            "WARNING:tensorflow:Can save best model only with val_acc available, skipping.\n"
          ]
        },
        {
          "output_type": "stream",
          "name": "stdout",
          "text": [
            "\b\b\b\b\b\b\b\b\b\b\b\b\b\b\b\b\b\b\b\b\b\b\b\b\b\b\b\b\b\b\b\b\b\b\b\b\b\b\b\b\b\b\b\b\b\b\b\b\b\b\b\b\b\b\b\b\b\b\b\b\b\b\b\b\b\b\b\b\b\b\b\b\b\b\b\b\b\b\b\b\b\b\r42/42 [==============================] - 7s 175ms/step - loss: 0.2821 - accuracy: 0.9452 - val_loss: 0.4691 - val_accuracy: 0.7991\n"
          ]
        }
      ],
      "source": [
        "history = model.fit_generator(\n",
        "  train_gen,\n",
        "  validation_data=val_gen,\n",
        "  epochs=50,\n",
        "  steps_per_epoch=len(train_gen),\n",
        "  validation_steps=len(val_gen),\n",
        "callbacks= callback)"
      ]
    },
    {
      "cell_type": "code",
      "execution_count": 51,
      "id": "cca65bc6",
      "metadata": {
        "id": "cca65bc6"
      },
      "outputs": [],
      "source": [
        "model.save('/content/drive/MyDrive/save file task 1/InceptionV3_models.hdf5')"
      ]
    },
    {
      "cell_type": "code",
      "source": [
        "#plot the training and validation accuracy and loss at each epoch\n",
        "print(\"Values stored in history are ... \\n\", history.history)\n",
        "loss = history.history['loss']\n",
        "val_loss = history.history['val_loss']\n",
        "epochs = range(1, len(loss) + 1)\n",
        "plt.plot(epochs, loss, 'y', label='Training loss')\n",
        "plt.plot(epochs, val_loss, 'r', label='Validation loss')\n",
        "plt.title('Training and validation loss')\n",
        "plt.xlabel('Epochs')\n",
        "plt.ylabel('Loss')\n",
        "plt.legend()\n",
        "plt.show()"
      ],
      "metadata": {
        "colab": {
          "base_uri": "https://localhost:8080/",
          "height": 351
        },
        "id": "NIPGcMClT0JM",
        "outputId": "1f68e8b3-3627-4d33-9ed3-98ab8fb63358"
      },
      "id": "NIPGcMClT0JM",
      "execution_count": 52,
      "outputs": [
        {
          "output_type": "stream",
          "name": "stdout",
          "text": [
            "Values stored in history are ... \n",
            " {'loss': [1.7002432346343994, 1.4744279384613037, 1.3209630250930786, 1.2047637701034546, 1.1059744358062744, 1.024600863456726, 0.962278425693512, 0.9031794667243958, 0.8489938378334045, 0.8045562505722046, 0.7646101117134094, 0.7315166592597961, 0.695885419845581, 0.6701862812042236, 0.6426981091499329, 0.6196117401123047, 0.5972018241882324, 0.5755597352981567, 0.5607506632804871, 0.5396814346313477, 0.5228050351142883, 0.5078247785568237, 0.4950231909751892, 0.4803822934627533, 0.46714359521865845, 0.46101391315460205, 0.4452996850013733, 0.43349701166152954, 0.42458420991897583, 0.41368263959884644, 0.4031522572040558, 0.3950048089027405, 0.3884710669517517, 0.37892115116119385, 0.3705168664455414, 0.3654070198535919, 0.35628411173820496, 0.34904584288597107, 0.3429325819015503, 0.3370634615421295, 0.32991650700569153, 0.3236106038093567, 0.3176494836807251, 0.3123452067375183, 0.3087312579154968, 0.3027826249599457, 0.2967601716518402, 0.2905316948890686, 0.28750672936439514, 0.2820683717727661], 'accuracy': [0.33536121249198914, 0.4403041899204254, 0.5277566313743591, 0.5961977243423462, 0.6311787366867065, 0.6783270239830017, 0.7003802061080933, 0.730038046836853, 0.7536121606826782, 0.7665399312973022, 0.7870722413063049, 0.7984790802001953, 0.812927782535553, 0.819011390209198, 0.8357414603233337, 0.8311787247657776, 0.8486692309379578, 0.8577947020530701, 0.8562737703323364, 0.8669201731681824, 0.8730037808418274, 0.8798478841781616, 0.8813688158988953, 0.8882129192352295, 0.8927756547927856, 0.8927756547927856, 0.898098886013031, 0.8950570225715637, 0.9034220576286316, 0.9057034254074097, 0.9079847931861877, 0.9095057249069214, 0.9155893325805664, 0.9155893325805664, 0.9201520681381226, 0.914828896522522, 0.9178707003593445, 0.9239543676376343, 0.9239543676376343, 0.9254752993583679, 0.927756667137146, 0.9269961714744568, 0.9307984709739685, 0.9346007704734802, 0.9353612065315247, 0.9391635060310364, 0.9391635060310364, 0.944486677646637, 0.94068443775177, 0.9452471733093262], 'val_loss': [1.6234074831008911, 1.4723355770111084, 1.3522595167160034, 1.2540433406829834, 1.1720081567764282, 1.0998417139053345, 1.0449639558792114, 1.0034464597702026, 0.9607650637626648, 0.9186216592788696, 0.887179434299469, 0.8675599694252014, 0.8325203061103821, 0.8074483871459961, 0.7871108651161194, 0.7693457007408142, 0.7449776530265808, 0.7277075052261353, 0.704902708530426, 0.6993688941001892, 0.6779505014419556, 0.663053035736084, 0.6572009921073914, 0.6432222723960876, 0.6335455775260925, 0.6239520311355591, 0.6113234758377075, 0.6039162278175354, 0.5835300087928772, 0.5840311646461487, 0.5754159092903137, 0.5718196630477905, 0.5577741265296936, 0.5512046813964844, 0.5519609451293945, 0.54095059633255, 0.5340675711631775, 0.5275841355323792, 0.5182392001152039, 0.5184758901596069, 0.512127161026001, 0.5070624947547913, 0.49952515959739685, 0.4955079257488251, 0.48953777551651, 0.48070237040519714, 0.48358386754989624, 0.48262345790863037, 0.4732707440853119, 0.46907782554626465], 'val_accuracy': [0.3231441080570221, 0.3930130898952484, 0.47598254680633545, 0.5327510833740234, 0.5807860493659973, 0.6113536953926086, 0.6288209557533264, 0.6419214010238647, 0.6593886613845825, 0.72052401304245, 0.7161571979522705, 0.7117903828620911, 0.7336244583129883, 0.7336244583129883, 0.7423580884933472, 0.7379912734031677, 0.7467249035835266, 0.751091718673706, 0.7816593647003174, 0.7467249035835266, 0.7729257345199585, 0.7641921639442444, 0.7641921639442444, 0.7554585337638855, 0.7729257345199585, 0.7554585337638855, 0.7641921639442444, 0.7598253488540649, 0.7903929948806763, 0.7772925496101379, 0.7729257345199585, 0.7860261797904968, 0.7860261797904968, 0.7816593647003174, 0.7729257345199585, 0.7729257345199585, 0.7729257345199585, 0.8034934401512146, 0.7991266250610352, 0.7903929948806763, 0.7816593647003174, 0.7991266250610352, 0.7947598099708557, 0.7947598099708557, 0.807860255241394, 0.8209607005119324, 0.807860255241394, 0.7991266250610352, 0.8165938854217529, 0.7991266250610352]}\n"
          ]
        },
        {
          "output_type": "display_data",
          "data": {
            "text/plain": [
              "<Figure size 432x288 with 1 Axes>"
            ],
            "image/png": "[encoded data removed]"
          },
          "metadata": {
            "needs_background": "light"
          }
        }
      ]
    },
    {
      "cell_type": "code",
      "source": [
        "#plot the training and validation accuracy and loss at each epoch\n",
        "print(\"Values stored in history are ... \\n\", history.history)\n",
        "acc = history.history['accuracy']\n",
        "val_acc = history.history['val_accuracy']\n",
        "plt.plot(epochs, acc, 'y', label='Training acc')\n",
        "plt.plot(epochs, val_acc, 'r', label='Validation acc')\n",
        "plt.title('Training and validation accuracy')\n",
        "plt.xlabel('Epochs')\n",
        "plt.ylabel('Accuracy')\n",
        "plt.legend()\n",
        "plt.show()"
      ],
      "metadata": {
        "colab": {
          "base_uri": "https://localhost:8080/",
          "height": 351
        },
        "id": "v0D0bwv3T0Lm",
        "outputId": "2b9e88ee-f951-4d62-ea7d-a9001d0bc124"
      },
      "id": "v0D0bwv3T0Lm",
      "execution_count": 53,
      "outputs": [
        {
          "output_type": "stream",
          "name": "stdout",
          "text": [
            "Values stored in history are ... \n",
            " {'loss': [1.7002432346343994, 1.4744279384613037, 1.3209630250930786, 1.2047637701034546, 1.1059744358062744, 1.024600863456726, 0.962278425693512, 0.9031794667243958, 0.8489938378334045, 0.8045562505722046, 0.7646101117134094, 0.7315166592597961, 0.695885419845581, 0.6701862812042236, 0.6426981091499329, 0.6196117401123047, 0.5972018241882324, 0.5755597352981567, 0.5607506632804871, 0.5396814346313477, 0.5228050351142883, 0.5078247785568237, 0.4950231909751892, 0.4803822934627533, 0.46714359521865845, 0.46101391315460205, 0.4452996850013733, 0.43349701166152954, 0.42458420991897583, 0.41368263959884644, 0.4031522572040558, 0.3950048089027405, 0.3884710669517517, 0.37892115116119385, 0.3705168664455414, 0.3654070198535919, 0.35628411173820496, 0.34904584288597107, 0.3429325819015503, 0.3370634615421295, 0.32991650700569153, 0.3236106038093567, 0.3176494836807251, 0.3123452067375183, 0.3087312579154968, 0.3027826249599457, 0.2967601716518402, 0.2905316948890686, 0.28750672936439514, 0.2820683717727661], 'accuracy': [0.33536121249198914, 0.4403041899204254, 0.5277566313743591, 0.5961977243423462, 0.6311787366867065, 0.6783270239830017, 0.7003802061080933, 0.730038046836853, 0.7536121606826782, 0.7665399312973022, 0.7870722413063049, 0.7984790802001953, 0.812927782535553, 0.819011390209198, 0.8357414603233337, 0.8311787247657776, 0.8486692309379578, 0.8577947020530701, 0.8562737703323364, 0.8669201731681824, 0.8730037808418274, 0.8798478841781616, 0.8813688158988953, 0.8882129192352295, 0.8927756547927856, 0.8927756547927856, 0.898098886013031, 0.8950570225715637, 0.9034220576286316, 0.9057034254074097, 0.9079847931861877, 0.9095057249069214, 0.9155893325805664, 0.9155893325805664, 0.9201520681381226, 0.914828896522522, 0.9178707003593445, 0.9239543676376343, 0.9239543676376343, 0.9254752993583679, 0.927756667137146, 0.9269961714744568, 0.9307984709739685, 0.9346007704734802, 0.9353612065315247, 0.9391635060310364, 0.9391635060310364, 0.944486677646637, 0.94068443775177, 0.9452471733093262], 'val_loss': [1.6234074831008911, 1.4723355770111084, 1.3522595167160034, 1.2540433406829834, 1.1720081567764282, 1.0998417139053345, 1.0449639558792114, 1.0034464597702026, 0.9607650637626648, 0.9186216592788696, 0.887179434299469, 0.8675599694252014, 0.8325203061103821, 0.8074483871459961, 0.7871108651161194, 0.7693457007408142, 0.7449776530265808, 0.7277075052261353, 0.704902708530426, 0.6993688941001892, 0.6779505014419556, 0.663053035736084, 0.6572009921073914, 0.6432222723960876, 0.6335455775260925, 0.6239520311355591, 0.6113234758377075, 0.6039162278175354, 0.5835300087928772, 0.5840311646461487, 0.5754159092903137, 0.5718196630477905, 0.5577741265296936, 0.5512046813964844, 0.5519609451293945, 0.54095059633255, 0.5340675711631775, 0.5275841355323792, 0.5182392001152039, 0.5184758901596069, 0.512127161026001, 0.5070624947547913, 0.49952515959739685, 0.4955079257488251, 0.48953777551651, 0.48070237040519714, 0.48358386754989624, 0.48262345790863037, 0.4732707440853119, 0.46907782554626465], 'val_accuracy': [0.3231441080570221, 0.3930130898952484, 0.47598254680633545, 0.5327510833740234, 0.5807860493659973, 0.6113536953926086, 0.6288209557533264, 0.6419214010238647, 0.6593886613845825, 0.72052401304245, 0.7161571979522705, 0.7117903828620911, 0.7336244583129883, 0.7336244583129883, 0.7423580884933472, 0.7379912734031677, 0.7467249035835266, 0.751091718673706, 0.7816593647003174, 0.7467249035835266, 0.7729257345199585, 0.7641921639442444, 0.7641921639442444, 0.7554585337638855, 0.7729257345199585, 0.7554585337638855, 0.7641921639442444, 0.7598253488540649, 0.7903929948806763, 0.7772925496101379, 0.7729257345199585, 0.7860261797904968, 0.7860261797904968, 0.7816593647003174, 0.7729257345199585, 0.7729257345199585, 0.7729257345199585, 0.8034934401512146, 0.7991266250610352, 0.7903929948806763, 0.7816593647003174, 0.7991266250610352, 0.7947598099708557, 0.7947598099708557, 0.807860255241394, 0.8209607005119324, 0.807860255241394, 0.7991266250610352, 0.8165938854217529, 0.7991266250610352]}\n"
          ]
        },
        {
          "output_type": "display_data",
          "data": {
            "text/plain": [
              "<Figure size 432x288 with 1 Axes>"
            ],
            "image/png": "[encoded data removed]"
          },
          "metadata": {
            "needs_background": "light"
          }
        }
      ]
    },
    {
      "cell_type": "markdown",
      "source": [
        "**Confusion matrix and prediction**"
      ],
      "metadata": {
        "id": "oEIT0q2dU5lE"
      },
      "id": "oEIT0q2dU5lE"
    },
    {
      "cell_type": "code",
      "execution_count": null,
      "id": "bbee87d3",
      "metadata": {
        "id": "bbee87d3"
      },
      "outputs": [],
      "source": [
        "incep_model = keras.models.load_model('/content/drive/MyDrive/InceptionV3_models.hdf5')"
      ]
    },
    {
      "cell_type": "code",
      "execution_count": 55,
      "id": "fd3df129",
      "metadata": {
        "id": "fd3df129",
        "colab": {
          "base_uri": "https://localhost:8080/"
        },
        "outputId": "44319975-70ad-4d0f-f239-ada91563b0f6"
      },
      "outputs": [
        {
          "output_type": "stream",
          "name": "stdout",
          "text": [
            "Found 1315 images belonging to 6 classes.\n",
            "Found 229 images belonging to 6 classes.\n"
          ]
        },
        {
          "output_type": "stream",
          "name": "stderr",
          "text": [
            "/usr/local/lib/python3.7/dist-packages/ipykernel_launcher.py:2: UserWarning: `Model.evaluate_generator` is deprecated and will be removed in a future version. Please use `Model.evaluate`, which supports generators.\n",
            "  \n"
          ]
        },
        {
          "output_type": "execute_result",
          "data": {
            "text/plain": [
              "[0.46907782554626465, 0.7991266250610352]"
            ]
          },
          "metadata": {},
          "execution_count": 55
        }
      ],
      "source": [
        "callback,train_gen,val_gen=model_prep('inceptionV3','val_loss',2,5,0.000001)\n",
        "model.evaluate_generator(generator=val_gen)"
      ]
    },
    {
      "cell_type": "code",
      "source": [
        "predictions = model.predict_generator(val_gen,28)"
      ],
      "metadata": {
        "colab": {
          "base_uri": "https://localhost:8080/"
        },
        "id": "pYr2KM_ouWuJ",
        "outputId": "ff78f758-3848-4bdc-8955-fc278c6bc59e"
      },
      "id": "pYr2KM_ouWuJ",
      "execution_count": 56,
      "outputs": [
        {
          "output_type": "stream",
          "name": "stderr",
          "text": [
            "/usr/local/lib/python3.7/dist-packages/ipykernel_launcher.py:1: UserWarning: `Model.predict_generator` is deprecated and will be removed in a future version. Please use `Model.predict`, which supports generators.\n",
            "  \"\"\"Entry point for launching an IPython kernel.\n",
            "WARNING:tensorflow:Your input ran out of data; interrupting training. Make sure that your dataset or generator can generate at least `steps_per_epoch * epochs` batches (in this case, 28 batches). You may need to use the repeat() function when building your dataset.\n"
          ]
        }
      ]
    },
    {
      "cell_type": "code",
      "source": [
        "y_pred = np.argmax(predictions, axis=1)\n",
        "cf_matrix = confusion_matrix(val_gen.classes, y_pred)\n",
        "print('Classification Report')\n",
        "print(classification_report(val_gen.classes, y_pred, target_names=Classes))\n",
        "plt.figure(figsize=(20,20))\n",
        "sns.heatmap(cf_matrix, annot=True, xticklabels=Classes, yticklabels=Classes, cmap='Blues')"
      ],
      "metadata": {
        "colab": {
          "base_uri": "https://localhost:8080/",
          "height": 1000
        },
        "id": "XYjztQDMuWfA",
        "outputId": "38ca5679-cb3d-4e00-d466-c03b60448436"
      },
      "id": "XYjztQDMuWfA",
      "execution_count": 57,
      "outputs": [
        {
          "output_type": "stream",
          "name": "stdout",
          "text": [
            "Classification Report\n",
            "              precision    recall  f1-score   support\n",
            "\n",
            "  blackgrass       0.71      0.71      0.71        35\n",
            "    charlock       0.80      0.90      0.85        40\n",
            "    cleavers       0.83      0.86      0.85        35\n",
            "     fat hen       0.76      0.78      0.77        49\n",
            "       maize       0.97      0.86      0.91        35\n",
            "       wheat       0.75      0.69      0.72        35\n",
            "\n",
            "    accuracy                           0.80       229\n",
            "   macro avg       0.80      0.80      0.80       229\n",
            "weighted avg       0.80      0.80      0.80       229\n",
            "\n"
          ]
        },
        {
          "output_type": "execute_result",
          "data": {
            "text/plain": [
              "<matplotlib.axes._subplots.AxesSubplot at 0x7f7b76263710>"
            ]
          },
          "metadata": {},
          "execution_count": 57
        },
        {
          "output_type": "display_data",
          "data": {
            "text/plain": [
              "<Figure size 1440x1440 with 2 Axes>"
            ],
            "image/png": "[encoded data removed]"
          },
          "metadata": {
            "needs_background": "light"
          }
        }
      ]
    },
    {
      "cell_type": "code",
      "source": [
        ""
      ],
      "metadata": {
        "id": "MQYOc7TduWYH"
      },
      "id": "MQYOc7TduWYH",
      "execution_count": null,
      "outputs": []
    },
    {
      "cell_type": "code",
      "source": [
        ""
      ],
      "metadata": {
        "id": "0rDySKUvuWVV"
      },
      "id": "0rDySKUvuWVV",
      "execution_count": null,
      "outputs": []
    }
  ],
  "metadata": {
    "kernelspec": {
      "display_name": "Python 3",
      "language": "python",
      "name": "python3"
    },
    "language_info": {
      "codemirror_mode": {
        "name": "ipython",
        "version": 3
      },
      "file_extension": ".py",
      "mimetype": "text/x-python",
      "name": "python",
      "nbconvert_exporter": "python",
      "pygments_lexer": "ipython3",
      "version": "3.8.8"
    },
    "colab": {
      "name": "Site_spec_weed_mgmt_(InceptionV3).ipynb",
      "provenance": [],
      "collapsed_sections": [],
      "include_colab_link": true
    },
    "accelerator": "GPU",
    "gpuClass": "standard"
  },
  "nbformat": 4,
  "nbformat_minor": 5
}